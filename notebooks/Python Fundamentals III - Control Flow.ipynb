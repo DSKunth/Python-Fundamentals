{
 "cells": [
  {
   "cell_type": "markdown",
   "id": "ca93df6a",
   "metadata": {},
   "source": [
    "# Python Fundamentals III - Control Flow\n",
    "## Contents\n",
    "- [Control Flow](#control_flow)\n",
    "- [Conditional Statements](#conditional)\n",
    "- [If Statement](#ifstatement)\n",
    "- [If, Elif, and Else](#if_elif_else)\n",
    "- [Complex Boolean Expressions](#complex_boolean)\n",
    "- [For Loops](#for_loop)\n",
    "    - [range() function](#range)\n",
    "    - [For Loop Practice](#for_loop_practice)\n",
    "- [Iterating through Dictionaries with For Loops](#dictionary_for_loop)\n",
    "- [While Loop](#while_loop)\n",
    "    - [While Loop Practice](#while_loop_practice)\n",
    "- [Break, Continue](#break)\n",
    "- [Zip](#zip)\n",
    "- [Unzip](#unzip)\n",
    "- [Eumerate](#enumerate)\n",
    "- [List Comprehension](#list_comprehension)\n",
    "    - [List Comprehension Practice](#list_comp_practice)\n",
    "    - [Conditionals in List Comprehension](#conditionals)\n",
    "    - [Adding Else Statement](#adding_else)\n",
    "    - [List Comprehension Quiz](#list_comp_quiz)"
   ]
  },
  {
   "cell_type": "markdown",
   "id": "228fe7f3",
   "metadata": {},
   "source": [
    "<a id='control_flow'></a>\n",
    "## Control Flow\n",
    "- Control flow describes the order in which your lines of code are run. \n",
    "- This order is usually different than the sequence in which the lines of code appear! \n",
    "- Execution can flow from one place in the code to another"
   ]
  },
  {
   "cell_type": "markdown",
   "id": "ba730ba2",
   "metadata": {},
   "source": [
    "<a id='conditional'></a>\n",
    "## Conditional Statements"
   ]
  },
  {
   "cell_type": "markdown",
   "id": "014f1098",
   "metadata": {},
   "source": [
    "<a id='ifstatement'></a>\n",
    "### If Statement\n",
    "- An if statement is a conditional statement that runs or skips code based on whether a condition is true or false."
   ]
  },
  {
   "cell_type": "code",
   "execution_count": 1,
   "id": "43113432",
   "metadata": {},
   "outputs": [
    {
     "name": "stdout",
     "output_type": "stream",
     "text": [
      "20\n",
      "100\n"
     ]
    }
   ],
   "source": [
    "phone_balance = 20\n",
    "bank_balance = 100\n",
    "\n",
    "if phone_balance < 5:\n",
    "    phone_balance += 10\n",
    "    bank_balance -= 10\n",
    "\n",
    "print(phone_balance)\n",
    "print(bank_balance)"
   ]
  },
  {
   "cell_type": "code",
   "execution_count": 2,
   "id": "fc46cb89",
   "metadata": {},
   "outputs": [
    {
     "name": "stdout",
     "output_type": "stream",
     "text": [
      "13\n",
      "90\n"
     ]
    }
   ],
   "source": [
    "phone_balance = 3\n",
    "bank_balance = 100\n",
    "\n",
    "if phone_balance < 5:\n",
    "    phone_balance += 10\n",
    "    bank_balance -= 10\n",
    "\n",
    "print(phone_balance)\n",
    "print(bank_balance)"
   ]
  },
  {
   "cell_type": "markdown",
   "id": "d6ff3128",
   "metadata": {},
   "source": [
    "> Here is a simple way of representing this billing system in code. If the phone balance is below five, add 10 to phone balance and subtract 10 from bank balance.\n",
    "\n",
    "> This is an example of an if statement. An if statement is a conditional statement that runs or skips code based on whether a condition is true or false.\n",
    "\n",
    "> In an if statement, the if keyword is followed by the condition to be checked, in this case, phone balance less than five, and then a colon.\n",
    "\n",
    "> The condition is specified in a Boolean expression that evaluates to either true or false.\n",
    "After this line is an indented block of code to be executed if the condition is true.\n",
    "So in this case, these lines will only execute if it is true that phone balance is less than five.\n",
    "\n",
    "> If phone balance is higher than 5, this condition evaluates to false and these lines are not executed. As you see in the output, there were no changes to phone or bank balance, which is what we expect to happen since the condition in this if statement was false."
   ]
  },
  {
   "cell_type": "markdown",
   "id": "205601de",
   "metadata": {},
   "source": [
    "<a id='if_elif_else'></a>\n",
    "### If, Elif, and Else\n",
    "- Now you know how to execute a block of code if a condition is true. But what if you have a different block of code that you want to execute when that condition is false?"
   ]
  },
  {
   "cell_type": "code",
   "execution_count": 3,
   "id": "1217ef3d",
   "metadata": {},
   "outputs": [
    {
     "name": "stdout",
     "output_type": "stream",
     "text": [
      "The number 150 is even.\n"
     ]
    }
   ],
   "source": [
    "n = 150\n",
    "\n",
    "if n % 2 == 0:\n",
    "    print('The number ' + str(n) + ' is even.')\n",
    "else:\n",
    "    print('The number ' + str(n) + ' is odd.')"
   ]
  },
  {
   "cell_type": "code",
   "execution_count": 4,
   "id": "47892078",
   "metadata": {},
   "outputs": [
    {
     "name": "stdout",
     "output_type": "stream",
     "text": [
      "The number 77 is odd.\n"
     ]
    }
   ],
   "source": [
    "n = 77\n",
    "\n",
    "if n % 2 == 0:\n",
    "    print('The number ' + str(n) + ' is even.')\n",
    "else:\n",
    "    print('The number ' + str(n) + ' is odd.')"
   ]
  },
  {
   "cell_type": "markdown",
   "id": "4d6e3f1f",
   "metadata": {},
   "source": [
    "> Code indented under the 'else' is what happens when this condition evaluates to false.\n",
    "The 'else' keyword is always followed by a colon and doesn't need a Boolean expression.\n"
   ]
  },
  {
   "cell_type": "code",
   "execution_count": 5,
   "id": "fb9cf44b",
   "metadata": {},
   "outputs": [
    {
     "name": "stdout",
     "output_type": "stream",
     "text": [
      "Plant the garden.\n"
     ]
    }
   ],
   "source": [
    "season = 'spring'\n",
    "\n",
    "if season == 'spring':\n",
    "    print('Plant the garden.')\n",
    "elif season == 'summer':\n",
    "    print('Water the garden')\n",
    "elif season == 'autumn':\n",
    "    print('Harvest the garden.')\n",
    "elif season == 'winter':\n",
    "    print('Stay indoors.')\n",
    "else:\n",
    "    print('unrecognized season')"
   ]
  },
  {
   "cell_type": "code",
   "execution_count": 6,
   "id": "f0d4db7d",
   "metadata": {},
   "outputs": [
    {
     "name": "stdout",
     "output_type": "stream",
     "text": [
      "Stay indoors.\n"
     ]
    }
   ],
   "source": [
    "season = 'winter'\n",
    "\n",
    "if season == 'spring':\n",
    "    print('Plant the garden.')\n",
    "elif season == 'summer':\n",
    "    print('Water the garden')\n",
    "elif season == 'autumn':\n",
    "    print('Harvest the garden.')\n",
    "elif season == 'winter':\n",
    "    print('Stay indoors.')\n",
    "else:\n",
    "    print('unrecognized season')"
   ]
  },
  {
   "cell_type": "markdown",
   "id": "8636bfd1",
   "metadata": {},
   "source": [
    "> If you have more than two possible cases, you can also use elif, short for 'else if', to deal with the situation. This saves the multiple indentation that would be needed if we used 'else' and then another 'if' statement inside the 'else' block.\n",
    "\n",
    "> Like 'if', an elif statement always requires a conditional expression. For example, let's say we wanted to print what to do with the garden based on the current season.\n",
    "\n",
    "> If we set season equal to spring, like this, then we can see that Plant the garden is printed as the first condition evaluates to true.\n",
    "\n",
    "> Alternatively, if we set season to winter, then each of these conditions will evaluate to false until we had this condition which will evaluate as true and print stay indoors."
   ]
  },
  {
   "cell_type": "code",
   "execution_count": 7,
   "id": "30620c4e",
   "metadata": {},
   "outputs": [
    {
     "name": "stdout",
     "output_type": "stream",
     "text": [
      "Congratulations! You won a wafer mint!\n"
     ]
    }
   ],
   "source": [
    "points = 174\n",
    "\n",
    "if points <= 50:\n",
    "    print('Congratulations! You won a wooden rabbit!')\n",
    "elif points <= 150:\n",
    "    print('Sorry! No prize this time.')\n",
    "elif points <= 180:\n",
    "    print('Congratulations! You won a wafer mint!')\n",
    "else:\n",
    "    print('Congratulations! You won a penguin!')\n",
    "    "
   ]
  },
  {
   "cell_type": "code",
   "execution_count": 8,
   "id": "e1bea65a",
   "metadata": {},
   "outputs": [
    {
     "name": "stdout",
     "output_type": "stream",
     "text": [
      "Since you're from CA, your total cost is 21.5.\n"
     ]
    }
   ],
   "source": [
    "# Depending on where an individual is from we need to tax them appropriately. \n",
    "# The states of CA, MN, and NY have taxes of 7.5%, 9.5%, and 8.9% respectively. \n",
    "# Use this information to take the amount of a purchase and \n",
    "# the corresponding state to assure that they are taxed by the right amount.\n",
    "\n",
    "state = 'CA'\n",
    "purchase_amount = 20.00    \n",
    "\n",
    "if state == 'CA':\n",
    "    tax_amount = .075\n",
    "    total_cost = purchase_amount*(1+tax_amount)\n",
    "    result = \"Since you're from {}, your total cost is {}.\".format(state, total_cost)\n",
    "\n",
    "elif state == 'MN':\n",
    "    tax_amount = .095\n",
    "    total_cost = purchase_amount*(1+tax_amount)\n",
    "    result = \"Since you're from {}, your total cost is {}.\".format(state, total_cost)\n",
    "\n",
    "elif state == 'NY':\n",
    "    tax_amount = .089\n",
    "    total_cost = purchase_amount*(1+tax_amount)\n",
    "    result = \"Since you're from {}, your total cost is {}.\".format(state, total_cost)\n",
    "\n",
    "print(result)\n"
   ]
  },
  {
   "cell_type": "markdown",
   "id": "aa46dabd",
   "metadata": {},
   "source": [
    "<a id='complex_boolean'></a>\n",
    "### Complex Boolean Expressions"
   ]
  },
  {
   "cell_type": "code",
   "execution_count": 9,
   "id": "787af32f",
   "metadata": {},
   "outputs": [
    {
     "name": "stdout",
     "output_type": "stream",
     "text": [
      "Result is normal\n"
     ]
    }
   ],
   "source": [
    "weight = 48\n",
    "height = 1.5\n",
    "bmi = weight / height ** 2\n",
    "\n",
    "if bmi < 18.5:\n",
    "    print('Result is underweight')\n",
    "elif bmi >= 18.5 and bmi < 25:\n",
    "    print('Result is normal')\n",
    "elif bmi >= 25 and bmi < 30:\n",
    "    print('Result is overweight')\n",
    "else:\n",
    "    print('Result is obesity')"
   ]
  },
  {
   "cell_type": "code",
   "execution_count": 10,
   "id": "b56ed981",
   "metadata": {},
   "outputs": [
    {
     "name": "stdout",
     "output_type": "stream",
     "text": [
      "send email only\n"
     ]
    }
   ],
   "source": [
    "unsubscribed = True\n",
    "location = 'GER'\n",
    "\n",
    "if (not unsubscribed) and (location == \"USA\" or location == \"CAN\"):\n",
    "    print(\"send email and snail mail\")\n",
    "else:\n",
    "    print('send email only')\n"
   ]
  },
  {
   "cell_type": "markdown",
   "id": "94aa9c15",
   "metadata": {},
   "source": [
    "> If statements sometimes use more complicated boolean expressions for their conditions. They may contain multiple comparisons operators, logical operators, and even calculations\n",
    "\n",
    "> For really complicated conditions you might need to combine some ands, ors and nots together. Use parentheses if you need to make the combinations clear.\n",
    "\n",
    "> However simple or complex, the condition in an if statement must be a boolean expression that evaluates to either True or False and it is this value that decides whether the indented block in an if statement executes or not.\n"
   ]
  },
  {
   "cell_type": "markdown",
   "id": "d86f2ddd",
   "metadata": {},
   "source": [
    "<a id='for_loop'></a>\n",
    "## For Loops\n",
    "- A for loop is used to \"iterate\", or do something repeatedly, over an iterable.\n",
    "- An iterable is an object that can return one of its elements at a time. This can include sequence types, such as strings, lists, and tuples, as well as non-sequence types, such as dictionaries and files.\n",
    "- \"For loops\" are an example of definite iteration, meaning that the loop's body is run a predefined number of times.\n",
    "- A \"for loop\" over a list, executes the body once for each element in the list.\n",
    "- A \"for loop\" using the range function will execute the number of times specified by the range function."
   ]
  },
  {
   "cell_type": "code",
   "execution_count": 11,
   "id": "daf64248",
   "metadata": {},
   "outputs": [
    {
     "name": "stdout",
     "output_type": "stream",
     "text": [
      "New York City\n",
      "Mountain View\n",
      "Chicago\n",
      "Los Angeles\n"
     ]
    }
   ],
   "source": [
    "cities = ['new york city', 'mountain view', 'chicago', 'los angeles']\n",
    "\n",
    "for city in cities:\n",
    "    print(city.title())"
   ]
  },
  {
   "cell_type": "markdown",
   "id": "e89d6ecf",
   "metadata": {},
   "source": [
    "> Consider this for loop that iterates through a list of cities, capitalizes each one, and prints it.\n",
    "The for keyword signals that this is a for loop. \n",
    "\n",
    "> Cities is the iterable and city is the loop's iteration variable. That is the variable that represents the element in the iterable that the loop is currently processing.\n",
    "\n",
    "> So, in the first iteration, city would be New York City.\n",
    "In the second iteration, it would be Mountain View, and so on.\n",
    "\n",
    "> We can use the city variable to refer to an element within the indented body of a for loop during any iteration. This indented body is executed once for each element in cities.\n",
    "\n",
    "> You can name iteration variables however you like though this example demonstrates a common pattern. The name of the list cities is the plural form of city, the name of the iteration variable. Naming lists and iteration variables in this style makes it easier for other programmers to understand the purpose of each variable.\n"
   ]
  },
  {
   "cell_type": "code",
   "execution_count": 12,
   "id": "17c9de4c",
   "metadata": {},
   "outputs": [
    {
     "name": "stdout",
     "output_type": "stream",
     "text": [
      "['New York City', 'Mountain View', 'Chicago', 'Los Angeles']\n"
     ]
    }
   ],
   "source": [
    "cities = ['new york city', 'mountain view', 'chicago', 'los angeles']\n",
    "\n",
    "capitalized_cities = []\n",
    "\n",
    "for city in cities:\n",
    "    capitalized_cities.append(city.title())\n",
    "\n",
    "print(capitalized_cities)"
   ]
  },
  {
   "cell_type": "markdown",
   "id": "513b4b5c",
   "metadata": {},
   "source": [
    "> We can also use for loops to create lists and to modify lists.\n",
    "\n",
    ">To create a new list, we can start with an empty list, and then use the append method to add new items.\n",
    "\n",
    ">This for loop iterates through each city and cities and appends it to capitalized cities.\n"
   ]
  },
  {
   "cell_type": "markdown",
   "id": "9e0f0e81",
   "metadata": {},
   "source": [
    "<a id='range'></a>\n",
    "### range() function\n",
    "- Range is a built in function used to create immutable sequences of numbers.\n",
    "\n",
    "- You will frequently use range() with a for loop to repeat an action a certain number of times.\n",
    "\n",
    "- Any variable can be used to iterate through the numbers, but Python programmers conventionally use i.\n",
    "\n",
    "- It has three arguments which must all be integers: start, stop, and step.\n",
    "\n",
    "- Start is the first number of the sequence. Stop is one above the last number of the sequence. And step is the difference between the numbers in the sequence. If unspecified, start defaults to zero and step defaults to one. \n",
    "\n",
    "- Calling range with one integer will make that the stop argument and return a sequence of numbers from zero to that integer minus one.\n"
   ]
  },
  {
   "cell_type": "code",
   "execution_count": 13,
   "id": "659f9a2d",
   "metadata": {},
   "outputs": [
    {
     "data": {
      "text/plain": [
       "[0, 1, 2, 3]"
      ]
     },
     "execution_count": 13,
     "metadata": {},
     "output_type": "execute_result"
    }
   ],
   "source": [
    "list(range(4))"
   ]
  },
  {
   "cell_type": "markdown",
   "id": "067c524d",
   "metadata": {},
   "source": [
    "> So, range four returns zero through four minus one, which is three."
   ]
  },
  {
   "cell_type": "code",
   "execution_count": 14,
   "id": "ca74a0fb",
   "metadata": {},
   "outputs": [
    {
     "data": {
      "text/plain": [
       "[2, 3, 4, 5]"
      ]
     },
     "execution_count": 14,
     "metadata": {},
     "output_type": "execute_result"
    }
   ],
   "source": [
    "list(range(2,6))"
   ]
  },
  {
   "cell_type": "markdown",
   "id": "9c3667f8",
   "metadata": {},
   "source": [
    "> Calling range with two integers will make those the start and stop, and return a sequence of numbers from the first number to the second number minus one."
   ]
  },
  {
   "cell_type": "code",
   "execution_count": 15,
   "id": "cc633958",
   "metadata": {},
   "outputs": [
    {
     "data": {
      "text/plain": [
       "[1, 3, 5, 7, 9]"
      ]
     },
     "execution_count": 15,
     "metadata": {},
     "output_type": "execute_result"
    }
   ],
   "source": [
    "list(range(1, 10, 2))"
   ]
  },
  {
   "cell_type": "markdown",
   "id": "8d796ed0",
   "metadata": {},
   "source": [
    "> Calling range with three integers will return a sequence of numbers from the first to the second minus one separated by the third."
   ]
  },
  {
   "cell_type": "code",
   "execution_count": 16,
   "id": "916597ce",
   "metadata": {},
   "outputs": [
    {
     "name": "stdout",
     "output_type": "stream",
     "text": [
      "range(0, 4)\n"
     ]
    }
   ],
   "source": [
    "print(range(4))"
   ]
  },
  {
   "cell_type": "code",
   "execution_count": 17,
   "id": "ae74f38d",
   "metadata": {},
   "outputs": [
    {
     "name": "stdout",
     "output_type": "stream",
     "text": [
      "0\n",
      "1\n",
      "2\n",
      "3\n"
     ]
    }
   ],
   "source": [
    "for number in range(4):\n",
    "    print(number)"
   ]
  },
  {
   "cell_type": "markdown",
   "id": "a24121eb",
   "metadata": {},
   "source": [
    "> Notice in these examples, we adopt range in a list before printing it.\n",
    "This is because printing just the output of range only shows you a range object.\n",
    "\n",
    "> You can view the values in the range object by converting it to a list or iterating through it in a for loop."
   ]
  },
  {
   "cell_type": "code",
   "execution_count": 18,
   "id": "abcc2b71",
   "metadata": {},
   "outputs": [
    {
     "name": "stdout",
     "output_type": "stream",
     "text": [
      "['New York City', 'Mountain View', 'Chicago', 'Los Angeles']\n"
     ]
    }
   ],
   "source": [
    "cities = ['new york city', 'mountain view', 'chicago', 'los angeles']\n",
    "\n",
    "for index in range(len(cities)):\n",
    "    cities[index] = cities[index].title()\n",
    "\n",
    "print(cities)"
   ]
  },
  {
   "cell_type": "markdown",
   "id": "fac2d187",
   "metadata": {},
   "source": [
    "> Back in our cities example, we can use the range function to generate the indices of each value in the cities list.\n",
    "\n",
    "> This lets us access the elements of the list with cities bracket index. So, that we can modify the values in the cities list in place."
   ]
  },
  {
   "cell_type": "code",
   "execution_count": 19,
   "id": "332abd30",
   "metadata": {},
   "outputs": [
    {
     "name": "stdout",
     "output_type": "stream",
     "text": [
      "Hello\n",
      "Hello\n",
      "Hello\n"
     ]
    }
   ],
   "source": [
    "for i in range(3):\n",
    "    print('Hello')"
   ]
  },
  {
   "cell_type": "markdown",
   "id": "366ae29f",
   "metadata": {},
   "source": [
    "<a id='for_loop_practice'></a>\n",
    "### For loop practice"
   ]
  },
  {
   "cell_type": "code",
   "execution_count": 20,
   "id": "b92dc726",
   "metadata": {},
   "outputs": [
    {
     "name": "stdout",
     "output_type": "stream",
     "text": [
      "the\n",
      "quick\n",
      "brown\n",
      "fox\n",
      "jumped\n",
      "over\n",
      "the\n",
      "lazy\n",
      "dog\n"
     ]
    }
   ],
   "source": [
    "# Use a for loop to take a list and print each element of the list in its own line.\n",
    "\n",
    "sentence = [\"the\", \"quick\", \"brown\", \"fox\", \"jumped\", \"over\", \"the\", \"lazy\", \"dog\"]\n",
    "\n",
    "for word in sentence:\n",
    "    print(word)"
   ]
  },
  {
   "cell_type": "code",
   "execution_count": 21,
   "id": "fc5ae4d9",
   "metadata": {},
   "outputs": [
    {
     "name": "stdout",
     "output_type": "stream",
     "text": [
      "5\n",
      "10\n",
      "15\n",
      "20\n",
      "25\n",
      "30\n"
     ]
    }
   ],
   "source": [
    "# Write a for loop below that will print out every whole number that is a multiple of 5 and less than or equal to 30\n",
    "\n",
    "for number in range(5, 31, 5):\n",
    "    print(number)"
   ]
  },
  {
   "cell_type": "code",
   "execution_count": 22,
   "id": "e3b72c9c",
   "metadata": {},
   "outputs": [
    {
     "name": "stdout",
     "output_type": "stream",
     "text": [
      "['joey_tribbiani', 'monica_geller', 'chandler_bing', 'phoebe_buffay']\n"
     ]
    }
   ],
   "source": [
    "# Write a for loop that iterates over the names list to create a usernames list. \n",
    "# To create a username for each name, make everything lowercase and replace spaces with underscores. \n",
    "# Running your for loop over the list\n",
    "\n",
    "names = [\"Joey Tribbiani\", \"Monica Geller\", \"Chandler Bing\", \"Phoebe Buffay\"]\n",
    "usernames = []\n",
    "\n",
    "for name in names:\n",
    "    usernames.append(name.lower().replace(' ', '_'))\n",
    "    \n",
    "print(usernames)"
   ]
  },
  {
   "cell_type": "code",
   "execution_count": 23,
   "id": "666b77da",
   "metadata": {},
   "outputs": [
    {
     "name": "stdout",
     "output_type": "stream",
     "text": [
      "['joey_tribbiani', 'monica_geller', 'chandler_bing', 'phoebe_buffay']\n"
     ]
    }
   ],
   "source": [
    "# Write a for loop that uses range() to iterate over the positions in usernames to modify the list. \n",
    "# Like you did in the previous quiz, change each name to be lowercase and replace spaces with underscores. \n",
    "# After running your loop, this list\n",
    "\n",
    "usernames = [\"Joey Tribbiani\", \"Monica Geller\", \"Chandler Bing\", \"Phoebe Buffay\"]\n",
    "\n",
    "for i in range(len(usernames)):\n",
    "    usernames[i] = usernames[i].lower().replace(' ', '_')\n",
    "\n",
    "print(usernames)\n"
   ]
  },
  {
   "cell_type": "code",
   "execution_count": 24,
   "id": "4a7aaed7",
   "metadata": {},
   "outputs": [
    {
     "name": "stdout",
     "output_type": "stream",
     "text": [
      "3\n"
     ]
    }
   ],
   "source": [
    "# Write a for loop that iterates over a list of strings, tokens, and counts how many of them are XML tags. \n",
    "# XML is a data language similar to HTML. You can tell if a string is an XML tag \n",
    "# if it begins with a left angle bracket \"<\" and ends with a right angle bracket \">\". \n",
    "# Keep track of the number of tags using the variable count. Assume that the list of strings will not contain empty strings.\n",
    "\n",
    "tokens = ['<greetings>', 'Hello World!', '</greeting>', '<pages', '<listing>']\n",
    "\n",
    "xml_count = 0\n",
    "\n",
    "for token in tokens:\n",
    "    if token[0] == '<' and token[-1] == '>':\n",
    "        xml_count += 1\n",
    "\n",
    "print(xml_count)"
   ]
  },
  {
   "cell_type": "code",
   "execution_count": 25,
   "id": "bd46cad2",
   "metadata": {},
   "outputs": [
    {
     "name": "stdout",
     "output_type": "stream",
     "text": [
      "['red', 'blue', 'green', 'purple']\n"
     ]
    }
   ],
   "source": [
    "colors = ['Red', 'Blue', 'Green', 'Purple']\n",
    "\n",
    "lower_colors = []\n",
    "\n",
    "for color in colors:\n",
    "    lower_colors.append(color.lower())\n",
    "\n",
    "print(lower_colors)"
   ]
  },
  {
   "cell_type": "code",
   "execution_count": 26,
   "id": "865aef2d",
   "metadata": {},
   "outputs": [
    {
     "name": "stdout",
     "output_type": "stream",
     "text": [
      "{'great': 2, 'expectations': 1, 'the': 2, 'adventures': 2, 'of': 2, 'sherlock': 1, 'holmes': 1, 'gasby': 1, 'hamlet': 1, 'huckleberry': 1, 'fin': 1}\n"
     ]
    }
   ],
   "source": [
    "# create a dictionary that keeps track of the total count of each word in a list\n",
    "\n",
    "book_title = ['great', 'expectations','the', 'adventures', 'of', 'sherlock','holmes','the','great',\n",
    "              'gasby','hamlet','adventures','of','huckleberry','fin']\n",
    "\n",
    "word_counter = {}\n",
    "\n",
    "for word in book_title:\n",
    "    if word not in word_counter:\n",
    "        word_counter[word] = 1\n",
    "    else:\n",
    "        word_counter[word] += 1\n",
    "\n",
    "print(word_counter)"
   ]
  },
  {
   "cell_type": "markdown",
   "id": "3d25fc60",
   "metadata": {},
   "source": [
    "> The for loop iterates through each element in the list. For the first iteration, word takes the value 'great'.\n",
    "\n",
    "> Next, the if statement checks if word is in the word_counter dictionary.\n",
    "\n",
    "> Since it doesn't yet, the statement word_counter[word] = 1 adds great as a key to the dictionary with a value of 1.\n",
    "\n",
    "> Then, it leaves the if else statement and moves on to the next iteration of the for loop. word now takes the value expectations and repeats the process.\n",
    "\n",
    "> When the if condition is not met, it is because thatword already exists in the word_counter dictionary, and the statement word_counter[word] = word_counter[word] + 1 increases the count of that word by 1.\n",
    "\n",
    "> Once the for loop finishes iterating through the list, the for loop is complete.\n",
    "We can see the output by printing out the dictionary. Printing word_counter results in the following output.\n"
   ]
  },
  {
   "cell_type": "code",
   "execution_count": 27,
   "id": "8ae46060",
   "metadata": {},
   "outputs": [
    {
     "name": "stdout",
     "output_type": "stream",
     "text": [
      "{'great': 2, 'expectations': 1, 'the': 2, 'adventures': 2, 'of': 2, 'sherlock': 1, 'holmes': 1, 'gasby': 1, 'hamlet': 1, 'huckleberry': 1, 'fin': 1}\n"
     ]
    }
   ],
   "source": [
    "# using the .get() method\n",
    "\n",
    "book_title = ['great', 'expectations','the', 'adventures', 'of', 'sherlock','holmes','the','great',\n",
    "              'gasby','hamlet','adventures','of','huckleberry','fin']\n",
    "\n",
    "word_counter = {}\n",
    "\n",
    "for word in book_title:\n",
    "    word_counter[word] = word_counter.get(word, 0) + 1\n",
    "\n",
    "print(word_counter)"
   ]
  },
  {
   "cell_type": "markdown",
   "id": "652ffcea",
   "metadata": {},
   "source": [
    "> The for loop iterates through the list as we saw earlier. The for loop feeds 'great' to the next statement in the body of the for loop.\n",
    "\n",
    "> In this line: word_counter[word] = word_counter.get(word,0) + 1, since the key 'great' doesn't yet exist in the dictionary, get() will return the value 0 and word_counter[word] will be set to 1.\n",
    "\n",
    "> Once it encounters a word that already exists in word_counter (e.g. the second appearance of 'the'), the value for that key is incremented by 1. On the second appearance of 'the', the key's value would add 1 again, resulting in 2.\n",
    "\n",
    "> Once the for loop finishes iterating through the list, the for loop is complete.\n",
    "Printing word_counter shows us we get the same result as we did in method 1."
   ]
  },
  {
   "cell_type": "markdown",
   "id": "24695485",
   "metadata": {},
   "source": [
    "<a id='dictionary_for_loop'></a>\n",
    "## Iterating through Dictionaries with For Loops"
   ]
  },
  {
   "cell_type": "code",
   "execution_count": 28,
   "id": "b33f10cc",
   "metadata": {},
   "outputs": [],
   "source": [
    "cloud_services = {\n",
    "                    'Amazon': 'Amazon Web Services',\n",
    "                    'Alphabet': 'Google Cloud Platform',\n",
    "                    'Microsoft': 'Microsoft Azure',\n",
    "                    'IBM': 'IBM Cloud',\n",
    "                    'Oracle': 'Oracle Cloud'\n",
    "                    }"
   ]
  },
  {
   "cell_type": "code",
   "execution_count": 29,
   "id": "beac9524",
   "metadata": {},
   "outputs": [
    {
     "name": "stdout",
     "output_type": "stream",
     "text": [
      "Amazon\n",
      "Alphabet\n",
      "Microsoft\n",
      "IBM\n",
      "Oracle\n"
     ]
    }
   ],
   "source": [
    "for key in cloud_services:\n",
    "    print(key)"
   ]
  },
  {
   "cell_type": "code",
   "execution_count": 30,
   "id": "2d1bd54f",
   "metadata": {},
   "outputs": [
    {
     "name": "stdout",
     "output_type": "stream",
     "text": [
      "Cloud Services Provider: Amazon          Cloud Product: Amazon Web Services\n",
      "Cloud Services Provider: Alphabet          Cloud Product: Google Cloud Platform\n",
      "Cloud Services Provider: Microsoft          Cloud Product: Microsoft Azure\n",
      "Cloud Services Provider: IBM          Cloud Product: IBM Cloud\n",
      "Cloud Services Provider: Oracle          Cloud Product: Oracle Cloud\n"
     ]
    }
   ],
   "source": [
    "for key, value in cloud_services.items():\n",
    "    print('Cloud Services Provider: {}          Cloud Product: {}'.format(key, value))"
   ]
  },
  {
   "cell_type": "markdown",
   "id": "f35e9073",
   "metadata": {},
   "source": [
    "> If you wish to iterate through both keys and values, you can use the built-in .items() method.\n",
    "> items is an awesome method that returns tuples of key, value pairs, which you can use to iterate over dictionaries in for loops."
   ]
  },
  {
   "cell_type": "markdown",
   "id": "47506041",
   "metadata": {},
   "source": [
    "### Iterating Through Dictionaries with For Loops - Practice"
   ]
  },
  {
   "cell_type": "code",
   "execution_count": 31,
   "id": "bb092e42",
   "metadata": {},
   "outputs": [
    {
     "name": "stdout",
     "output_type": "stream",
     "text": [
      "20\n"
     ]
    }
   ],
   "source": [
    "# You would like to count the number of fruits in your basket. \n",
    "# In order to do this, you have the following dictionary and list of fruits.\n",
    "# Use the dictionary and list to count the total number of fruits, but you do not want to count the other items in your basket.\n",
    "\n",
    "basket = {\n",
    "            'milk': 5,\n",
    "            'apple': 5,\n",
    "            'butter': 2,\n",
    "            'eggs': 12,\n",
    "            'mango': 10,\n",
    "            'banana': 5,\n",
    "            'eggplant': 2\n",
    "}\n",
    "\n",
    "fruits = ['apple', 'pear', 'avocado', 'banana', 'mango', 'peach']\n",
    "\n",
    "fruit_count = 0\n",
    "\n",
    "for item, count in basket.items():\n",
    "    if item in fruits:\n",
    "        fruit_count = fruit_count + count\n",
    "\n",
    "print(fruit_count)"
   ]
  },
  {
   "cell_type": "code",
   "execution_count": 32,
   "id": "72fc3267",
   "metadata": {},
   "outputs": [
    {
     "name": "stdout",
     "output_type": "stream",
     "text": [
      "20 21\n"
     ]
    }
   ],
   "source": [
    "# You would like to count the number of fruits in your basket. \n",
    "# In order to do this, you have the following dictionary and list of fruits.\n",
    "# Use the dictionary and list to count the total number of fruits and non-fruits\n",
    "\n",
    "basket = {\n",
    "            'milk': 5,\n",
    "            'apple': 5,\n",
    "            'butter': 2,\n",
    "            'eggs': 12,\n",
    "            'mango': 10,\n",
    "            'banana': 5,\n",
    "            'eggplant': 2\n",
    "}\n",
    "\n",
    "fruits = ['apple', 'pear', 'avocado', 'banana', 'mango', 'peach']\n",
    "\n",
    "fruit_count, non_fruit_count = 0, 0\n",
    "\n",
    "for item, count in basket.items():\n",
    "    if item in fruits:\n",
    "        fruit_count = fruit_count + count\n",
    "    else:\n",
    "        non_fruit_count = non_fruit_count + count\n",
    "\n",
    "print(fruit_count, non_fruit_count)"
   ]
  },
  {
   "cell_type": "markdown",
   "id": "e4b30d7f",
   "metadata": {},
   "source": [
    "<a id='while_loop'></a>\n",
    "## While Loops\n",
    "- While Loops are an example of indefinite iteration, which is when a loop repeats an unknown number of times and ends when some condition is met.\n"
   ]
  },
  {
   "cell_type": "code",
   "execution_count": 33,
   "id": "441bb0f6",
   "metadata": {},
   "outputs": [
    {
     "name": "stdout",
     "output_type": "stream",
     "text": [
      "[10, 8]\n"
     ]
    }
   ],
   "source": [
    "# Using while loop, draw cards from the card_deck list into a hand list \n",
    "# and stop when the value of the cards in the hand is 17 or more\n",
    "\n",
    "card_deck = [4, 11, 8, 5, 13, 2, 8, 10]\n",
    "hand = []\n",
    "\n",
    "while sum(hand) <= 17:\n",
    "    hand.append(card_deck.pop())\n",
    "\n",
    "print(hand)"
   ]
  },
  {
   "cell_type": "markdown",
   "id": "bfe28130",
   "metadata": {},
   "source": [
    "> .pop() method is the inverse of the .append() method, it removes the last element from a list and returns it.\n",
    "\n",
    "> In the while loop, we are computing the sum of the list hand and checking if that is less than or equal to 17.\n",
    "\n",
    "> In the second line, we're popping the last element from card deck and appending that to the hand list.\n",
    "\n",
    "> The while keyword indicates that this is a while loop.\n",
    "\n",
    "> Next is the condition. In this example, sum hand is less than or equal to 17.\n",
    "\n",
    "> If this condition is true, the loop's body will be executed.\n",
    "\n",
    "> Each time the loop's body runs, the condition is evaluated again.\n",
    "\n",
    "> This process of checking the condition and then running the loop repeats until the expression becomes false.\n",
    "\n",
    "> The indented body of the loop should modify at least one variable in the test expression.\n",
    "\n",
    "> If the value of the test expression never changes, the result is an infinite loop.\n",
    "\n",
    "> In this example, the loop's body appends numbers to the hand lists, which increases the value of sum hand.\n",
    "\n",
    "> Eventually, the value of sum hand becomes large enough that the condition becomes false."
   ]
  },
  {
   "cell_type": "markdown",
   "id": "e69ae932",
   "metadata": {},
   "source": [
    "<a id='while_loop_practice'></a>\n",
    "### While Loop Practice"
   ]
  },
  {
   "cell_type": "code",
   "execution_count": 34,
   "id": "f9596ae5",
   "metadata": {},
   "outputs": [
    {
     "name": "stdout",
     "output_type": "stream",
     "text": [
      "2\n",
      "3\n",
      "4\n",
      "5\n",
      "6\n",
      "7\n",
      "720\n"
     ]
    }
   ],
   "source": [
    "# Find the factorial of a number using a while loop.\n",
    "# A factorial of a whole number is that number multiplied by every whole number between itself and 1.\n",
    "# For example, 6 factorial (written \"6!\") equals 6 x 5 x 4 x 3 x 2 x 1 = 720. So 6! = 720.\n",
    "\n",
    "integer = 6 # the number to find the factorial of\n",
    "\n",
    "product = 1 # start with product equal to 1\n",
    "\n",
    "current_num = 1 # track the current number being multiplied\n",
    "\n",
    "while current_num <= integer:\n",
    "    product = product * current_num # multiply the product by the current number\n",
    "    current_num += 1 # increment current number with each iteration untl it reaches the integer\n",
    "    print(current_num)\n",
    "\n",
    "print(product)\n"
   ]
  },
  {
   "cell_type": "markdown",
   "id": "ff0f30f4",
   "metadata": {},
   "source": [
    "### Find the factorial of a number using For Loop"
   ]
  },
  {
   "cell_type": "code",
   "execution_count": 35,
   "id": "e696812d",
   "metadata": {},
   "outputs": [
    {
     "data": {
      "text/plain": [
       "[1, 2, 3, 4, 5, 6]"
      ]
     },
     "execution_count": 35,
     "metadata": {},
     "output_type": "execute_result"
    }
   ],
   "source": [
    "list(range(1, 7))"
   ]
  },
  {
   "cell_type": "code",
   "execution_count": 36,
   "id": "9252d135",
   "metadata": {},
   "outputs": [
    {
     "name": "stdout",
     "output_type": "stream",
     "text": [
      "720\n"
     ]
    }
   ],
   "source": [
    "integer = 6\n",
    "\n",
    "product = 1\n",
    "\n",
    "for num in range(1, integer +1):\n",
    "    product = product * num\n",
    "\n",
    "print(product)"
   ]
  },
  {
   "cell_type": "code",
   "execution_count": 37,
   "id": "dbfc2322",
   "metadata": {},
   "outputs": [
    {
     "name": "stdout",
     "output_type": "stream",
     "text": [
      "1\n",
      "2\n",
      "3\n",
      "4\n",
      "5\n",
      "6\n",
      "36\n"
     ]
    }
   ],
   "source": [
    "# Write a while loop to find the nearest/largest square number that is less than the an integer limit \n",
    "# and stores it in a variable nearest_square\n",
    "# A square number is the product of an integer multiplied by itself, for example 36 is a square number because it equals 6*6.\n",
    "# For example, if limit is 40, the nearest_square is 36.\n",
    "\n",
    "integer = 40\n",
    "\n",
    "nearest_square = 0\n",
    "\n",
    "while (nearest_square + 1) ** 2 < integer:\n",
    "    nearest_square += 1\n",
    "    print(nearest_square)\n",
    "nearest_square = nearest_square ** 2\n",
    "\n",
    "print(nearest_square)\n"
   ]
  },
  {
   "cell_type": "markdown",
   "id": "c5499cec",
   "metadata": {},
   "source": [
    "<a id='break'></a>\n",
    "## Break, Continue\n",
    "\n",
    "- For loops iterate over every element in a sequence, and while loops iterate until they're stopping condition is met.\n",
    "\n",
    "- This is sufficient for most purposes but we sometimes need more precise control over when a loop should end.\n",
    "\n",
    "- In these cases, we use the break keyword. A loop will terminate immediately if it encounters a break statement.\n",
    "\n",
    "- We can use this to end the loop if we detect that some condition has been met.\n",
    "\n",
    "- The break keyword can be used in both for and while loops.\n"
   ]
  },
  {
   "cell_type": "code",
   "execution_count": 38,
   "id": "7e987dfb",
   "metadata": {},
   "outputs": [
    {
     "name": "stdout",
     "output_type": "stream",
     "text": [
      "211\n",
      "['banana', 'mattresses', 'dog kennels', 'machine']\n"
     ]
    }
   ],
   "source": [
    "# Suppose you want to load a cargo ship with a list of items called manifest.\n",
    "# This list contains tuples of items and their weights. \n",
    "# Ideally, you would like to load all the items on the ship but the ship has a maximum weight capacity 100.\n",
    "# Therefore, when the ship's capacity is reached, you want to stop loading.\n",
    "\n",
    "manifest = [('banana', 15), \n",
    "            ('mattresses', 34),\n",
    "            ('dog kennels', 42),\n",
    "            ('machine', 120),\n",
    "            ('cheese', 5)]\n",
    "\n",
    "weight = 0\n",
    "items = []\n",
    "\n",
    "for cargo in manifest:\n",
    "    if weight >= 100:\n",
    "        break\n",
    "    else:\n",
    "        items.append(cargo[0])\n",
    "        weight = weight + cargo[1]\n",
    "\n",
    "print(weight)\n",
    "print(items)\n"
   ]
  },
  {
   "cell_type": "markdown",
   "id": "5bca85d4",
   "metadata": {},
   "source": [
    "> Here, we use a for loop to load each item and keep track pf the weight of all the items we hve loaded so fra.\n",
    "\n",
    "> In the if statement, we check if the ship's total cargo weight reaches its maximum capacity of 100 with each addition of cargo.\n",
    "\n",
    "> If it does, we use a break statement to stop loading. If not, we load the next item and add on its weight.\n",
    "\n",
    "> Here's what we end up loading. That's not good. The boat is severely over its weight limit of 100.\n",
    "\n",
    "> The break statement did prevent us from putting every item on the boat but we still exceeded the limit by 111."
   ]
  },
  {
   "cell_type": "code",
   "execution_count": 39,
   "id": "99e797a3",
   "metadata": {},
   "outputs": [
    {
     "name": "stdout",
     "output_type": "stream",
     "text": [
      "Current weight is 0\n",
      "Adding item banana with weight 15\n",
      "Current weight is 15\n",
      "Adding item mattresses with weight 34\n",
      "Current weight is 49\n",
      "Adding item dog kennels with weight 42\n",
      "Current weight is 91\n",
      "Adding item machine with weight 120\n",
      "Current weight is 211\n",
      "breaking loop now!\n",
      "211\n",
      "['banana', 'mattresses', 'dog kennels', 'machine']\n"
     ]
    }
   ],
   "source": [
    "manifest = [('banana', 15), \n",
    "            ('mattresses', 34),\n",
    "            ('dog kennels', 42),\n",
    "            ('machine', 120),\n",
    "            ('cheese', 5)]\n",
    "\n",
    "weight = 0\n",
    "items = []\n",
    "\n",
    "for cargo in manifest:\n",
    "    print('Current weight is {}'.format(weight))\n",
    "    if weight >= 100:\n",
    "        print('breaking loop now!')\n",
    "        break\n",
    "    else:\n",
    "        print('Adding item {} with weight {}'. format(cargo[0], cargo[1]))\n",
    "        items.append(cargo[0])\n",
    "        weight = weight + cargo[1]\n",
    "\n",
    "print(weight)\n",
    "print(items)"
   ]
  },
  {
   "cell_type": "markdown",
   "id": "d4422d80",
   "metadata": {},
   "source": [
    "> It's difficult to see what's gone wrong. One strategy we can use is to add print statements in the code. This is a really handy technique as it can give us some insight into what happens in the code as it's running step-by-step. Having print statements frequently that give context can really assist us in understanding what went wrong here.\n",
    "\n",
    "> Here's the loop with debugging statements added. Debugging is the process of identifying and removing errors in your code.\n",
    "\n",
    "> Here, we can see that we didn't break until the weight exceeded 100, when really, we should break before that item is added.\n",
    "\n",
    "> Additionally, we can see that the cheeses still could have fit if the machine wasn't added.\n"
   ]
  },
  {
   "cell_type": "code",
   "execution_count": 40,
   "id": "8a2d3574",
   "metadata": {},
   "outputs": [
    {
     "name": "stdout",
     "output_type": "stream",
     "text": [
      "Current weight is 0\n",
      "\n",
      "Adding item banana with weight 15\n",
      "Current weight is 15\n",
      "\n",
      "Adding item mattresses with weight 34\n",
      "Current weight is 49\n",
      "\n",
      "Adding item dog kennels with weight 42\n",
      "Current weight is 91\n",
      "\n",
      "Skipping item machine with weight 120\n",
      "Current weight is 91\n",
      "\n",
      "Adding item cheese with weight 5\n",
      "\n",
      "Final Weight: 96\n",
      "Final Items: ['banana', 'mattresses', 'dog kennels', 'cheese']\n"
     ]
    }
   ],
   "source": [
    "manifest = [('banana', 15), \n",
    "            ('mattresses', 34),\n",
    "            ('dog kennels', 42),\n",
    "            ('machine', 120),\n",
    "            ('cheese', 5)]\n",
    "\n",
    "weight = 0\n",
    "items = []\n",
    "\n",
    "for cargo_name, cargo_weight in manifest:\n",
    "    print('Current weight is {}'.format(weight))\n",
    "    if weight >= 100:\n",
    "        print('breaking loop now!')\n",
    "        break\n",
    "    elif weight + cargo_weight > 100:\n",
    "        print('\\nSkipping item {} with weight {}'.format(cargo_name, cargo_weight))\n",
    "        continue\n",
    "    else:\n",
    "        print('\\nAdding item {} with weight {}'. format(cargo_name, cargo_weight))\n",
    "        items.append(cargo_name)\n",
    "        weight = weight + cargo_weight\n",
    "        \n",
    "print('\\nFinal Weight: {}'.format(weight))\n",
    "print('Final Items: {}'.format(items))"
   ]
  },
  {
   "cell_type": "markdown",
   "id": "2179786f",
   "metadata": {},
   "source": [
    "<a id='zip'></a>\n",
    "## Zip\n",
    "\n",
    "- zip() function returns an iterator that combines multiple iterables into one sequence of tuples. Each tuple contains the elements in that position from all the iterables.\n",
    "- zip() returns an iterator. So we need to convert it to a list to see the elements or iterate through a for loop, if we want to print the values, similar to range."
   ]
  },
  {
   "cell_type": "code",
   "execution_count": 41,
   "id": "77551bf9",
   "metadata": {},
   "outputs": [
    {
     "name": "stdout",
     "output_type": "stream",
     "text": [
      "<zip object at 0x000002A36E0C8A80>\n",
      "[('bananas', 15), ('mattresses', 34), ('dog kennels', 42), ('machine', 120), ('cheese', 5)]\n"
     ]
    }
   ],
   "source": [
    "items = ['bananas', 'mattresses', 'dog kennels', 'machine', 'cheese']\n",
    "weights = [15, 34, 42, 120, 5]\n",
    "\n",
    "print(zip(items, weights))\n",
    "print(list(zip(items, weights)))"
   ]
  },
  {
   "cell_type": "code",
   "execution_count": 42,
   "id": "243dd3ac",
   "metadata": {},
   "outputs": [
    {
     "name": "stdout",
     "output_type": "stream",
     "text": [
      "bananas 15\n",
      "mattresses 34\n",
      "dog kennels 42\n",
      "machine 120\n",
      "cheese 5\n"
     ]
    }
   ],
   "source": [
    "items = ['bananas', 'mattresses', 'dog kennels', 'machine', 'cheese']\n",
    "weights = [15, 34, 42, 120, 5]\n",
    "\n",
    "for cargo in zip(items, weights):\n",
    "    print(cargo[0], cargo[1])"
   ]
  },
  {
   "cell_type": "code",
   "execution_count": 43,
   "id": "c30ffce1",
   "metadata": {},
   "outputs": [
    {
     "name": "stdout",
     "output_type": "stream",
     "text": [
      "bananas\n",
      "mattresses\n",
      "dog kennels\n",
      "machine\n",
      "cheese\n"
     ]
    }
   ],
   "source": [
    "items = ['bananas', 'mattresses', 'dog kennels', 'machine', 'cheese']\n",
    "weights = [15, 34, 42, 120, 5]\n",
    "\n",
    "for cargo in zip(items, weights):\n",
    "    print(cargo[0])"
   ]
  },
  {
   "cell_type": "code",
   "execution_count": 44,
   "id": "1755e515",
   "metadata": {},
   "outputs": [
    {
     "name": "stdout",
     "output_type": "stream",
     "text": [
      "15\n",
      "34\n",
      "42\n",
      "120\n",
      "5\n"
     ]
    }
   ],
   "source": [
    "items = ['bananas', 'mattresses', 'dog kennels', 'machine', 'cheese']\n",
    "weights = [15, 34, 42, 120, 5]\n",
    "\n",
    "for cargo in zip(items, weights):\n",
    "    print(cargo[1])"
   ]
  },
  {
   "cell_type": "markdown",
   "id": "6de2d035",
   "metadata": {},
   "source": [
    "<a id='unzip'></a>\n",
    "## Unzip using *\n",
    "\n",
    "- unzip a list using an asterisk *"
   ]
  },
  {
   "cell_type": "code",
   "execution_count": 45,
   "id": "285d4c97",
   "metadata": {},
   "outputs": [
    {
     "name": "stdout",
     "output_type": "stream",
     "text": [
      "('banana', 'mattresses', 'dog kennels', 'machine', 'cheese')\n",
      "(15, 34, 42, 120, 5)\n"
     ]
    }
   ],
   "source": [
    "manifest = [('banana', 15), \n",
    "            ('mattresses', 34),\n",
    "            ('dog kennels', 42),\n",
    "            ('machine', 120),\n",
    "            ('cheese', 5)]\n",
    "\n",
    "items, weights = zip(*manifest)\n",
    "\n",
    "print(items)\n",
    "print(weights)"
   ]
  },
  {
   "cell_type": "markdown",
   "id": "62b74a0a",
   "metadata": {},
   "source": [
    "> Using the manifest list, you can separate it into an items tuple and a weights tuple"
   ]
  },
  {
   "cell_type": "markdown",
   "id": "937def65",
   "metadata": {},
   "source": [
    "<a id='enumerate'></a>\n",
    "## Enumerate\n",
    "- Enumerate is a special built-in function that returns tuples containing indices and vlues of a list in an iterable"
   ]
  },
  {
   "cell_type": "code",
   "execution_count": 46,
   "id": "73db247c",
   "metadata": {},
   "outputs": [
    {
     "name": "stdout",
     "output_type": "stream",
     "text": [
      "0 bananas\n",
      "1 mattresses\n",
      "2 dog kennels\n",
      "3 machine\n",
      "4 cheese\n"
     ]
    }
   ],
   "source": [
    "items = ['bananas', 'mattresses', 'dog kennels', 'machine', 'cheese']\n",
    "\n",
    "for i, item in enumerate(items):\n",
    "    print(i, item)"
   ]
  },
  {
   "cell_type": "code",
   "execution_count": 47,
   "id": "0ca1cd76",
   "metadata": {},
   "outputs": [
    {
     "name": "stdout",
     "output_type": "stream",
     "text": [
      "0 bananas\n",
      "1 mattresses\n",
      "2 dog kennels\n",
      "3 machine\n",
      "4 cheese\n"
     ]
    }
   ],
   "source": [
    "items = ['bananas', 'mattresses', 'dog kennels', 'machine', 'cheese']\n",
    "\n",
    "for i, item in zip(range(len(items)), items):\n",
    "    print(i, item)"
   ]
  },
  {
   "cell_type": "markdown",
   "id": "7c335c4a",
   "metadata": {},
   "source": [
    "> This is one way you could do it. This uses a for loop to iterate through a list of tuples containing the index, and value of each item in the list."
   ]
  },
  {
   "cell_type": "code",
   "execution_count": 48,
   "id": "8a4f7699",
   "metadata": {},
   "outputs": [
    {
     "name": "stdout",
     "output_type": "stream",
     "text": [
      "['Barney Stinson 72', 'Robin Scherbatsky 68', 'Ted Mosby 72', 'Lily Aldrin 66', 'Marshall Eriksen 76']\n"
     ]
    }
   ],
   "source": [
    "# Enumerate practice\n",
    "\n",
    "cast = [\"Barney Stinson\", \"Robin Scherbatsky\", \"Ted Mosby\", \"Lily Aldrin\", \"Marshall Eriksen\"]\n",
    "heights = [72, 68, 72, 66, 76]\n",
    "\n",
    "for i, character in enumerate(cast):\n",
    "    cast[i] = character + ' ' + str(heights[i])\n",
    "\n",
    "print(cast)"
   ]
  },
  {
   "cell_type": "markdown",
   "id": "fb680a0f",
   "metadata": {},
   "source": [
    "### Zip Practice"
   ]
  },
  {
   "cell_type": "code",
   "execution_count": 49,
   "id": "93669350",
   "metadata": {},
   "outputs": [
    {
     "name": "stdout",
     "output_type": "stream",
     "text": [
      "F: 23, 677, 4\n",
      "J: 53, 233, 16\n",
      "A: 2, 405, -6\n",
      "Q: -12, 433, -42\n",
      "Y: 95, 905, 3\n",
      "B: 103, 376, -6\n",
      "W: 14, 432, 23\n",
      "X: -5, 445, -1\n"
     ]
    }
   ],
   "source": [
    "# Use zip to write a for loop that creates a string specifying the label and coordinates of each point \n",
    "# and appends it to the list points. \n",
    "# Each string should be formatted as label: x, y, z. For example, the string for the first coordinate should be F: 23, 677, 4.\n",
    "\n",
    "x_coord = [23, 53, 2, -12, 95, 103, 14, -5]\n",
    "y_coord = [677, 233, 405, 433, 905, 376, 432, 445]\n",
    "z_coord = [4, 16, -6, -42, 3, -6, 23, -1]\n",
    "labels = [\"F\", \"J\", \"A\", \"Q\", \"Y\", \"B\", \"W\", \"X\"]\n",
    "\n",
    "points = []\n",
    "\n",
    "for point in zip(labels, x_coord, y_coord, z_coord):\n",
    "    points.append('{}: {}, {}, {}'.format(*point))\n",
    "    \n",
    "for point in points:\n",
    "    print(point)\n"
   ]
  },
  {
   "cell_type": "code",
   "execution_count": 50,
   "id": "e9e6ec99",
   "metadata": {},
   "outputs": [
    {
     "name": "stdout",
     "output_type": "stream",
     "text": [
      "{'Barney': 72, 'Robin': 68, 'Ted': 72, 'Lily': 66, 'Marshall': 76}\n"
     ]
    }
   ],
   "source": [
    "# zip lists to a dictionary\n",
    "\n",
    "cast_names = [\"Barney\", \"Robin\", \"Ted\", \"Lily\", \"Marshall\"]\n",
    "cast_heights = [72, 68, 72, 66, 76]\n",
    "\n",
    "cast = dict(zip(cast_names, cast_heights))\n",
    "\n",
    "print(cast)"
   ]
  },
  {
   "cell_type": "code",
   "execution_count": 51,
   "id": "f28a6060",
   "metadata": {},
   "outputs": [
    {
     "name": "stdout",
     "output_type": "stream",
     "text": [
      "('Barney', 'Robin', 'Ted', 'Lily', 'Marshall')\n",
      "(72, 68, 72, 66, 76)\n"
     ]
    }
   ],
   "source": [
    "# unzip tuples\n",
    "\n",
    "cast = ((\"Barney\", 72), (\"Robin\", 68), (\"Ted\", 72), (\"Lily\", 66), (\"Marshall\", 76))\n",
    "\n",
    "cast_names, cast_heights = zip(*cast)\n",
    "\n",
    "print(cast_names)\n",
    "print(cast_heights)"
   ]
  },
  {
   "cell_type": "code",
   "execution_count": 52,
   "id": "13864c9b",
   "metadata": {},
   "outputs": [
    {
     "name": "stdout",
     "output_type": "stream",
     "text": [
      "((0, 3, 6, 9), (1, 4, 7, 10), (2, 5, 8, 11))\n"
     ]
    }
   ],
   "source": [
    "# transpose with zip\n",
    "\n",
    "data = ((0, 1, 2), (3, 4, 5), (6, 7, 8), (9, 10, 11))\n",
    "\n",
    "data_transpose = tuple(zip(*data))\n",
    "\n",
    "print(data_transpose)"
   ]
  },
  {
   "cell_type": "markdown",
   "id": "82a6f0cd",
   "metadata": {},
   "source": [
    "<a id='list_comprehension'></a>\n",
    "## List Comprehensions\n",
    "- List comprehensions allow us to create a list using a for loop in one step.\n",
    "- You create a list comprehension with brackets [], including an expression to evaluate for each element in an iterable. \n",
    "- List comprehensions are not found in other languages, but are very common in Python."
   ]
  },
  {
   "cell_type": "code",
   "execution_count": 53,
   "id": "a719ed33",
   "metadata": {},
   "outputs": [
    {
     "name": "stdout",
     "output_type": "stream",
     "text": [
      "['New York City', 'Abu Dhabi', 'Berlin', 'Tokyo', 'Los Angeles', 'Manila']\n"
     ]
    }
   ],
   "source": [
    "# create capitalized cities list using for loop \n",
    "\n",
    "cities = ['new york city', 'abu dhabi', 'berlin', 'tokyo', 'los angeles', 'manila']\n",
    "\n",
    "capitalized_cities = []\n",
    "\n",
    "for city in cities:\n",
    "    capitalized_cities.append(city.title())\n",
    "    \n",
    "print(capitalized_cities)"
   ]
  },
  {
   "cell_type": "code",
   "execution_count": 54,
   "id": "82118c99",
   "metadata": {},
   "outputs": [
    {
     "name": "stdout",
     "output_type": "stream",
     "text": [
      "['New York City', 'Abu Dhabi', 'Berlin', 'Tokyo', 'Los Angeles', 'Manila']\n"
     ]
    }
   ],
   "source": [
    "# create capitalized cities list using list comprehension\n",
    "\n",
    "cities = ['new york city', 'abu dhabi', 'berlin', 'tokyo', 'los angeles', 'manila']\n",
    "\n",
    "capitalized_cities = [city.title() for city in cities]\n",
    "\n",
    "print(capitalized_cities)"
   ]
  },
  {
   "cell_type": "markdown",
   "id": "de7b3dfa",
   "metadata": {},
   "source": [
    "> This line called city.title for each element in cities to create each element in the new list.\n",
    "\n",
    "> Notice this part looks just like the first line of a for loop without a colon, and the action you want to take on each element is taking on the element here, and append it to this new list.\n",
    "\n",
    "> In the list comprehension, we don't need to create a new list beforehand and append to it like we would in a for loop."
   ]
  },
  {
   "cell_type": "markdown",
   "id": "4d276f9d",
   "metadata": {},
   "source": [
    "<a id='list_comp_practice'></a>\n",
    "### List Comprehension Practice"
   ]
  },
  {
   "cell_type": "markdown",
   "id": "439558e6",
   "metadata": {},
   "source": [
    "#### create a list of squares"
   ]
  },
  {
   "cell_type": "code",
   "execution_count": 55,
   "id": "54e0d9c2",
   "metadata": {},
   "outputs": [
    {
     "name": "stdout",
     "output_type": "stream",
     "text": [
      "[0, 1, 4, 9, 16, 25, 36, 49, 64]\n"
     ]
    }
   ],
   "source": [
    "# create a list of squares using for loop\n",
    "\n",
    "squares = []\n",
    "\n",
    "for x in range(9):\n",
    "    squares.append(x**2)\n",
    "    \n",
    "print(squares)"
   ]
  },
  {
   "cell_type": "code",
   "execution_count": 56,
   "id": "ad9e5e8d",
   "metadata": {},
   "outputs": [
    {
     "name": "stdout",
     "output_type": "stream",
     "text": [
      "[0, 1, 4, 9, 16, 25, 36, 49, 64]\n"
     ]
    }
   ],
   "source": [
    "# create a list of squares using list comprehension\n",
    "\n",
    "squares = [x**2 for x in range(9)]\n",
    "\n",
    "print(squares)"
   ]
  },
  {
   "cell_type": "markdown",
   "id": "34ef4dc0",
   "metadata": {},
   "source": [
    "> Again, we are just looping through each element in this iterable and evaluating this expression to get each new element in our list."
   ]
  },
  {
   "cell_type": "markdown",
   "id": "10147448",
   "metadata": {},
   "source": [
    "<a id='conditionals'></a>\n",
    "### Conditionals in List Comprehension\n",
    "- Conditions can also be aded to list comprehensions\n",
    "- After the iterable, use the if keyword to check the condition in each iteration"
   ]
  },
  {
   "cell_type": "code",
   "execution_count": 57,
   "id": "c721326b",
   "metadata": {},
   "outputs": [
    {
     "name": "stdout",
     "output_type": "stream",
     "text": [
      "[0, 4, 16, 36, 64]\n"
     ]
    }
   ],
   "source": [
    "# create a list of squares of even numbers within the given range using list comprehension\n",
    "\n",
    "squares = [x**2 for x in range(9) if x % 2 == 0]\n",
    "\n",
    "print(squares)"
   ]
  },
  {
   "cell_type": "markdown",
   "id": "661df275",
   "metadata": {},
   "source": [
    "> In this example, x to the power of two is only evaluated if x is even. This gives us a list only including squares of even numbers.\n"
   ]
  },
  {
   "cell_type": "markdown",
   "id": "2f6bc551",
   "metadata": {},
   "source": [
    "<a id='adding_else'></a>\n",
    "### Adding Else statement"
   ]
  },
  {
   "cell_type": "code",
   "execution_count": 58,
   "id": "76c6b906",
   "metadata": {},
   "outputs": [
    {
     "ename": "SyntaxError",
     "evalue": "invalid syntax (Temp/ipykernel_14344/1379272804.py, line 1)",
     "output_type": "error",
     "traceback": [
      "\u001b[1;36m  File \u001b[1;32m\"C:\\Users\\MARTIN~1\\AppData\\Local\\Temp/ipykernel_14344/1379272804.py\"\u001b[1;36m, line \u001b[1;32m1\u001b[0m\n\u001b[1;33m    squares = [x**2 for x in range(9) if x % 2 == 0 else x + 3] # invalid syntax\u001b[0m\n\u001b[1;37m                                                    ^\u001b[0m\n\u001b[1;31mSyntaxError\u001b[0m\u001b[1;31m:\u001b[0m invalid syntax\n"
     ]
    }
   ],
   "source": [
    "squares = [x**2 for x in range(9) if x % 2 == 0 else x + 3] # invalid syntax\n",
    "\n",
    "print(squares)"
   ]
  },
  {
   "cell_type": "markdown",
   "id": "74a554df",
   "metadata": {},
   "source": [
    "> The code gives a syntax error"
   ]
  },
  {
   "cell_type": "code",
   "execution_count": null,
   "id": "90596750",
   "metadata": {},
   "outputs": [],
   "source": [
    "squares = [x**2 if x % 2 == 0 else x + 3 for x in range(9)]\n",
    "\n",
    "print(squares)"
   ]
  },
  {
   "cell_type": "markdown",
   "id": "7181ce78",
   "metadata": {},
   "source": [
    "> If you'd like to add else, you have to move the conditionals to the beginning of the list comprehension right after the expression like this. "
   ]
  },
  {
   "cell_type": "markdown",
   "id": "2ebbc548",
   "metadata": {},
   "source": [
    "<a id='list_comp_quiz'></a>\n",
    "### List Comprehension Quiz"
   ]
  },
  {
   "cell_type": "code",
   "execution_count": null,
   "id": "cf139c9b",
   "metadata": {},
   "outputs": [],
   "source": [
    "# Use a list comprehension to create a new list first_names containing just the first names in names in lowercase.\n",
    "\n",
    "names = ['Martin Kunth', 'Dorothy Kunth', 'Samantha Kunth', 'Finja Kunth', 'Leona Kunth']\n",
    "\n",
    "first_names = [name.split()[0].lower() for name in names]\n",
    "\n",
    "print(first_names)"
   ]
  },
  {
   "cell_type": "code",
   "execution_count": null,
   "id": "73e323f5",
   "metadata": {},
   "outputs": [],
   "source": [
    "# Use a list comprehension to create a list multiples_3 containing the first 20 multiples of 3.\n",
    "\n",
    "multiples_3 = [x*3 for x in range(1,21)]\n",
    "\n",
    "print(multiples_3)\n"
   ]
  },
  {
   "cell_type": "code",
   "execution_count": null,
   "id": "f567f3c3",
   "metadata": {},
   "outputs": [],
   "source": [
    "# Use a list comprehension to create a list of names passed that only include those that scored at least 65.\n",
    "\n",
    "scores = {\n",
    "            'Martin Kunth': 100,\n",
    "            'Dorothy Kunth': 25,\n",
    "            'Samantha Kunth': 65,\n",
    "            'Finja Kunth': 20,\n",
    "            'Leona Kunth': 75\n",
    "}\n",
    "\n",
    "passed = [name for name, score in scores.items() if score >= 65]\n",
    "\n",
    "print(passed)"
   ]
  },
  {
   "cell_type": "markdown",
   "id": "6a93fc8a",
   "metadata": {},
   "source": [
    "# END"
   ]
  }
 ],
 "metadata": {
  "kernelspec": {
   "display_name": "Python 3 (ipykernel)",
   "language": "python",
   "name": "python3"
  },
  "language_info": {
   "codemirror_mode": {
    "name": "ipython",
    "version": 3
   },
   "file_extension": ".py",
   "mimetype": "text/x-python",
   "name": "python",
   "nbconvert_exporter": "python",
   "pygments_lexer": "ipython3",
   "version": "3.9.7"
  }
 },
 "nbformat": 4,
 "nbformat_minor": 5
}
