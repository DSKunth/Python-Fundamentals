{
 "cells": [
  {
   "cell_type": "markdown",
   "id": "d6868d19",
   "metadata": {},
   "source": [
    "# Python Fundamentals - Functions and Lambda Expressions\n",
    "## Contents\n",
    "- [Functions](#functions)\n",
    "- [Print vs. Return in Functions](#printvsreturn)\n",
    "- [Documentation (docstrings)](#docstring)\n",
    "- [Defining Function - Practice](#function_practice)\n",
    "- [Variable Scope](#variablescope)\n",
    "- [Lambda Expressions](#lambda)\n",
    "- [Lambda with map()](#lambda_map)\n",
    "- [Lambda with Filter](#lambda_filter)\n"
   ]
  },
  {
   "cell_type": "markdown",
   "id": "9a938420",
   "metadata": {},
   "source": [
    "<a id='functions'></a>\n",
    "## Functions\n",
    "- Functions are useful blocks of code that allow you to encapsulate a task.\n",
    "- Encapsulation allows us to carry out a whole series of steps with one simple command.\n",
    "- You can think about functions as a way to take what you have already learned how to do and put it in an easy-to-use container that allows you to use it over and over again.\n",
    "- The code in the function will only get executed when we call or use this function. So functions and function calls provide another way to control the flow of a Python program."
   ]
  },
  {
   "cell_type": "code",
   "execution_count": 1,
   "id": "ac09f13e",
   "metadata": {},
   "outputs": [],
   "source": [
    "def cylinder_volume(height, radius):\n",
    "    pi = 3.14159\n",
    "    return height * pi * radius ** 2"
   ]
  },
  {
   "cell_type": "markdown",
   "id": "8bd328e2",
   "metadata": {},
   "source": [
    "> A function definition includes several important parts.\n",
    "\n",
    "> The function header always starts with the def keyword, which indicates that this is a function definition.\n",
    "\n",
    "> Then comes the function name (here, cylinder_volume), which follows the same naming conventions as variables\n",
    "\n",
    "> Immediately after the name are parentheses that may include arguments separated by commas (here, height and radius). Arguments, or parameters, are values that are passed in as inputs when the function is called, and are used in the function body. If a function doesn't take arguments, these parentheses are left empty.\n",
    "\n",
    "> The header always end with a colon :.\n",
    "\n",
    "> The rest of the function is contained in the body, which is where the function does its work.\n",
    "\n",
    "> The body of a function is the code indented after the header line. Here, it's the two lines that define pi and return the volume.\n",
    "\n",
    "> Within this body, we can refer to the argument variables and define new variables, which can only be used within these indented lines.\n",
    "\n",
    "> The body will often include a return statement, which is used to send back an output value from the function to the statement that called the function. A return statement consists of the return keyword followed by an expression that is evaluated to get the output value for the function. If there is no return statement, the function simply returns None"
   ]
  },
  {
   "cell_type": "code",
   "execution_count": 2,
   "id": "6be6e7d1",
   "metadata": {},
   "outputs": [
    {
     "data": {
      "text/plain": [
       "282.7431"
      ]
     },
     "execution_count": 2,
     "metadata": {},
     "output_type": "execute_result"
    }
   ],
   "source": [
    "cylinder_volume(10, 3)"
   ]
  },
  {
   "cell_type": "markdown",
   "id": "c0719884",
   "metadata": {},
   "source": [
    "> After defining the cylinder_volume function, we can call the function like this. This is called a function call statement."
   ]
  },
  {
   "cell_type": "markdown",
   "id": "8d1aec53",
   "metadata": {},
   "source": [
    "<a id='printvsreturn'></a>\n",
    "## Print vs. Return in Functions\n",
    "\n",
    "- ``print`` in functions simply prints a value while ``return`` returns a value"
   ]
  },
  {
   "cell_type": "code",
   "execution_count": 3,
   "id": "729d870f",
   "metadata": {},
   "outputs": [],
   "source": [
    "def show_plus_ten(num):\n",
    "    print(num + 10)"
   ]
  },
  {
   "cell_type": "code",
   "execution_count": 4,
   "id": "df5b4b5f",
   "metadata": {},
   "outputs": [
    {
     "name": "stdout",
     "output_type": "stream",
     "text": [
      "15\n"
     ]
    }
   ],
   "source": [
    "show_plus_ten(5)"
   ]
  },
  {
   "cell_type": "markdown",
   "id": "a5f60fb8",
   "metadata": {},
   "source": [
    "> this prints something but does not return anything"
   ]
  },
  {
   "cell_type": "code",
   "execution_count": 5,
   "id": "0343ddac",
   "metadata": {},
   "outputs": [
    {
     "name": "stdout",
     "output_type": "stream",
     "text": [
      "Calling show_plus_ten...\n",
      "15\n",
      "Done calling\n",
      "This function returned: None\n"
     ]
    }
   ],
   "source": [
    "print('Calling show_plus_ten...')\n",
    "return_value_1 = show_plus_ten(5)\n",
    "print('Done calling')\n",
    "print('This function returned: {}'. format(return_value_1))"
   ]
  },
  {
   "cell_type": "code",
   "execution_count": 6,
   "id": "703af459",
   "metadata": {},
   "outputs": [],
   "source": [
    "def add_ten(num):\n",
    "    return (num + 10)"
   ]
  },
  {
   "cell_type": "code",
   "execution_count": 7,
   "id": "2e252cf0",
   "metadata": {},
   "outputs": [
    {
     "data": {
      "text/plain": [
       "15"
      ]
     },
     "execution_count": 7,
     "metadata": {},
     "output_type": "execute_result"
    }
   ],
   "source": [
    "add_ten(5)"
   ]
  },
  {
   "cell_type": "markdown",
   "id": "d4bdaa07",
   "metadata": {},
   "source": [
    "> this returns something"
   ]
  },
  {
   "cell_type": "code",
   "execution_count": 8,
   "id": "5e78a24a",
   "metadata": {},
   "outputs": [
    {
     "name": "stdout",
     "output_type": "stream",
     "text": [
      "Calling add_ten...\n",
      "Done calling\n",
      "This function returned 15\n"
     ]
    }
   ],
   "source": [
    "print('Calling add_ten...')\n",
    "return_value_2 = add_ten(5)\n",
    "print('Done calling')\n",
    "print('This function returned {}'.format(return_value_2))"
   ]
  },
  {
   "cell_type": "markdown",
   "id": "bb6d5ee0",
   "metadata": {},
   "source": [
    "<a id='docstring'></a>\n",
    "## Docstring\n",
    "\n",
    "- A docstring is a string literal that occurs as the first statement in a module, function, class, or method definition.\n",
    "- Documentation is used to make your code easier to understand and use. \n",
    "- Functions are especially readable because they often use documentation strings, or docstrings. \n",
    "- Docstrings are a type of comment used to explain the purpose of a function, and how it should be used.<br><br>\n",
    "\n",
    "- **One-line docstrings** as the name suggests fit on one line. Notes:<br><br>\n",
    "    - Triple quotes are used even though the string fits on one line. This makes it easy to later expand it.\n",
    "    - The closing quotes are on the same line as the opening quotes. This looks better for one-liners.\n",
    "    - There’s no blank line either before or after the docstring.\n",
    "    - The docstring is a phrase ending in a period. It prescribes the function or method’s effect as a command (“Do this”, “Return that”), not as a description; e.g. don’t write “Returns the pathname …”.\n",
    "    - The one-line docstring should NOT be a “signature” reiterating the function/method parameters.<br><br>\n",
    "    \n",
    "- **Multi-line docstrings** - consist of a summary line just like a one-line docstring, followed by a blank line, followed by a more elaborate description. The summary line may be used by automatic indexing tools; it is important that it fits on one line and is separated from the rest of the docstring by a blank line. The summary line may be on the same line as the opening quotes or on the next line. The entire docstring is indented the same as the quotes at its first line. The docstring for a function or method should summarize its behavior and document its arguments, return value(s), side effects, exceptions raised, and restrictions on when it can be called (all if applicable). Optional arguments should be indicated. It should be documented whether keyword arguments are part of the interface."
   ]
  },
  {
   "cell_type": "markdown",
   "id": "2a99fc3f",
   "metadata": {},
   "source": [
    "#### One-line Docstring"
   ]
  },
  {
   "cell_type": "code",
   "execution_count": 9,
   "id": "95f77b8b",
   "metadata": {},
   "outputs": [],
   "source": [
    "def add_number(x, y):\n",
    "    \"\"\"Add the two numbers and return the sum.\"\"\"\n",
    "    total = x + y\n",
    "    return total"
   ]
  },
  {
   "cell_type": "markdown",
   "id": "4ff3fdbd",
   "metadata": {},
   "source": [
    "#### Multi-line Docstring"
   ]
  },
  {
   "cell_type": "code",
   "execution_count": 10,
   "id": "0373ab9c",
   "metadata": {},
   "outputs": [
    {
     "name": "stdout",
     "output_type": "stream",
     "text": [
      "Please enter your height in cm:150\n",
      "Please enter your height in kg:48\n",
      "Your BMI is normal and your result is 21.333333333333332\n"
     ]
    }
   ],
   "source": [
    "height = float(input('Please enter your height in cm:'))\n",
    "weight = float(input('Please enter your height in kg:'))\n",
    "\n",
    "def bmi_calc(height, weight):\n",
    "    \"\"\"Calculate BMI.\n",
    "    \n",
    "    :param height: enter height in cm\n",
    "    :param weight: enter weight in kg\n",
    "    :return: bmi and result\n",
    "    \"\"\"\n",
    "    bmi = weight / (height/100) ** 2\n",
    "\n",
    "    if bmi < 18.5:\n",
    "        result = 'underweight'\n",
    "\n",
    "    elif bmi >= 18.5 and bmi < 25:\n",
    "        result = 'normal'\n",
    "\n",
    "    elif bmi >= 25 and bmi < 30:\n",
    "        result = 'overweight'\n",
    "\n",
    "    elif bmi > 30:\n",
    "        result = 'obesity'\n",
    "\n",
    "    else:\n",
    "        result = 'incorrect input'\n",
    "\n",
    "    return bmi, result\n",
    "\n",
    "res, bmi = bmi_calc(height, weight)\n",
    "print(f'Your BMI is {bmi} and your result is {res}')"
   ]
  },
  {
   "cell_type": "code",
   "execution_count": 11,
   "id": "c6480fe5",
   "metadata": {},
   "outputs": [],
   "source": [
    "def population_density(population, land_area):\n",
    "    \"\"\"\n",
    "    Calculate the population density of an area.\n",
    "    \n",
    "    Input:\n",
    "    population : integer, the population of that area\n",
    "    land_area: integer or float, this function is unit-agnostic, \n",
    "        if you pass in valuesin terms of square km or square miles, the function will return a density in those units\n",
    "        \n",
    "    Output:\n",
    "    population_density: population / land_area, the population density of a given area\n",
    "    \"\"\"\n",
    "    return population / land_area"
   ]
  },
  {
   "cell_type": "markdown",
   "id": "f049c186",
   "metadata": {},
   "source": [
    "> If you think that a longer description would be appropriate for the function, you can add more information after the one-line summary. \n",
    "\n",
    "> In the example above, you can see that we wrote an explanation of the function's arguments, stating the purpose and types of each one. It's also common to provide some description of the function's output.\n",
    "\n",
    "> Every piece of the docstring is optional, however, docstrings are a part of good coding practice.\n"
   ]
  },
  {
   "cell_type": "markdown",
   "id": "05194b7a",
   "metadata": {},
   "source": [
    "<a id='function_practice'></a>\n",
    "## Defining Function - Practice"
   ]
  },
  {
   "cell_type": "markdown",
   "id": "402174bb",
   "metadata": {},
   "source": [
    "#### Population Density"
   ]
  },
  {
   "cell_type": "code",
   "execution_count": 12,
   "id": "92549b5a",
   "metadata": {},
   "outputs": [],
   "source": [
    "# Write a function named population_density that takes two arguments, population and land_area\n",
    "# and returns a population density calculated from those values.\n",
    "\n",
    "def population_density(population, land_area):\n",
    "    return population / land_area"
   ]
  },
  {
   "cell_type": "code",
   "execution_count": 13,
   "id": "74c55754",
   "metadata": {},
   "outputs": [
    {
     "name": "stdout",
     "output_type": "stream",
     "text": [
      "Expected result: 10 and actual result: 10.0\n"
     ]
    }
   ],
   "source": [
    "test1 = population_density(10, 1)\n",
    "expected_result = 10\n",
    "print('Expected result: {} and actual result: {}'.format(expected_result, test1))"
   ]
  },
  {
   "cell_type": "code",
   "execution_count": 14,
   "id": "e745e61d",
   "metadata": {},
   "outputs": [
    {
     "name": "stdout",
     "output_type": "stream",
     "text": [
      "Expected result: 7123.6902801 and actual result: 7123.690280065897\n"
     ]
    }
   ],
   "source": [
    "test2 = population_density(864816, 121.4)\n",
    "expected_result2 = 7123.6902801\n",
    "print('Expected result: {} and actual result: {}'.format(expected_result2, test2))"
   ]
  },
  {
   "cell_type": "markdown",
   "id": "6846228d",
   "metadata": {},
   "source": [
    "#### Timedelta"
   ]
  },
  {
   "cell_type": "code",
   "execution_count": 15,
   "id": "d645afa8",
   "metadata": {},
   "outputs": [],
   "source": [
    "# Write a function named readable_timedelta. \n",
    "# The function should take one argument, an integer days, and return a string that says how many weeks and days that is. \n",
    "# For example, calling the function and printing the result like this:\n",
    "# print(readable_timedelta(10))\n",
    "# should output the following:\n",
    "# 1 week(s) and 3 day(s)\n",
    "\n",
    "def readable_timedelta(days):\n",
    "    weeks = days // 7\n",
    "    remainder = days % 7\n",
    "    return('{} week(s) and {} day(s)'.format(weeks, remainder))"
   ]
  },
  {
   "cell_type": "code",
   "execution_count": 16,
   "id": "b5ff3729",
   "metadata": {},
   "outputs": [
    {
     "name": "stdout",
     "output_type": "stream",
     "text": [
      "1 week(s) and 3 day(s)\n",
      "2 week(s) and 1 day(s)\n",
      "4 week(s) and 2 day(s)\n",
      "8 week(s) and 4 day(s)\n",
      "12 week(s) and 6 day(s)\n"
     ]
    }
   ],
   "source": [
    "print(readable_timedelta(10))\n",
    "print(readable_timedelta(15))\n",
    "print(readable_timedelta(30))\n",
    "print(readable_timedelta(60))\n",
    "print(readable_timedelta(90))"
   ]
  },
  {
   "cell_type": "markdown",
   "id": "cfd3e705",
   "metadata": {},
   "source": [
    "<a id='variablescope'></a>\n",
    "## Variable Scope\n",
    "- Variable scope refers to which parts of a program a variable can be referenced, or used, from.\n",
    "- It's important to consider scope when using variables in functions. \n",
    "- If a variable is created inside a function, it can only be used within that function. Accessing it outside that function is not possible."
   ]
  },
  {
   "cell_type": "code",
   "execution_count": 17,
   "id": "59e509b9",
   "metadata": {},
   "outputs": [
    {
     "ename": "NameError",
     "evalue": "name 'word' is not defined",
     "output_type": "error",
     "traceback": [
      "\u001b[1;31m---------------------------------------------------------------------------\u001b[0m",
      "\u001b[1;31mNameError\u001b[0m                                 Traceback (most recent call last)",
      "\u001b[1;32mC:\\Users\\MARTIN~1\\AppData\\Local\\Temp/ipykernel_12172/2151935545.py\u001b[0m in \u001b[0;36m<module>\u001b[1;34m\u001b[0m\n\u001b[0;32m      4\u001b[0m     \u001b[0mword\u001b[0m \u001b[1;33m=\u001b[0m \u001b[1;34m'Hello'\u001b[0m\u001b[1;33m\u001b[0m\u001b[1;33m\u001b[0m\u001b[0m\n\u001b[0;32m      5\u001b[0m \u001b[1;33m\u001b[0m\u001b[0m\n\u001b[1;32m----> 6\u001b[1;33m \u001b[0mprint\u001b[0m\u001b[1;33m(\u001b[0m\u001b[0mword\u001b[0m\u001b[1;33m)\u001b[0m\u001b[1;33m\u001b[0m\u001b[1;33m\u001b[0m\u001b[0m\n\u001b[0m",
      "\u001b[1;31mNameError\u001b[0m: name 'word' is not defined"
     ]
    }
   ],
   "source": [
    "# This resulted in error \n",
    "\n",
    "def some_function():\n",
    "    word = 'Hello'\n",
    "    \n",
    "print(word)"
   ]
  },
  {
   "cell_type": "markdown",
   "id": "01dfd738",
   "metadata": {},
   "source": [
    "> The variable ``word`` is created inside a function, it can only be used within that function. Accessing it outside that function is not possible."
   ]
  },
  {
   "cell_type": "code",
   "execution_count": 18,
   "id": "8b47b81f",
   "metadata": {},
   "outputs": [],
   "source": [
    "def some_function():\n",
    "    word = 'Hello'\n",
    "\n",
    "def another_function():\n",
    "    word = 'Goodbye'"
   ]
  },
  {
   "cell_type": "markdown",
   "id": "9c04bf01",
   "metadata": {},
   "source": [
    "> In the 2 examples, word is said to have scope that is only local to each function. This means you can use the same name for different variables that are used in different functions. Here, word has a local scope."
   ]
  },
  {
   "cell_type": "code",
   "execution_count": 19,
   "id": "34826d01",
   "metadata": {},
   "outputs": [
    {
     "name": "stdout",
     "output_type": "stream",
     "text": [
      "Hello\n"
     ]
    }
   ],
   "source": [
    "word = 'Hello'\n",
    "\n",
    "def some_function():\n",
    "    print(word)\n",
    "\n",
    "some_function()"
   ]
  },
  {
   "cell_type": "markdown",
   "id": "465f3edc",
   "metadata": {},
   "source": [
    "> Variables defined outside functions can still be accessed within a function. Here, word is said to have a global scope.\n",
    "\n",
    "> Notice that we can still access the value of the global variable word within this function. However, the value of a global variable can not be modified inside the function. If you want to modify that variable's value inside this function, it should be passed in as an argument. "
   ]
  },
  {
   "cell_type": "code",
   "execution_count": 20,
   "id": "dcdc5811",
   "metadata": {},
   "outputs": [
    {
     "ename": "UnboundLocalError",
     "evalue": "local variable 'egg_count' referenced before assignment",
     "output_type": "error",
     "traceback": [
      "\u001b[1;31m---------------------------------------------------------------------------\u001b[0m",
      "\u001b[1;31mUnboundLocalError\u001b[0m                         Traceback (most recent call last)",
      "\u001b[1;32mC:\\Users\\MARTIN~1\\AppData\\Local\\Temp/ipykernel_12172/1170130402.py\u001b[0m in \u001b[0;36m<module>\u001b[1;34m\u001b[0m\n\u001b[0;32m      5\u001b[0m     \u001b[0megg_count\u001b[0m \u001b[1;33m+=\u001b[0m \u001b[1;36m12\u001b[0m\u001b[1;33m\u001b[0m\u001b[1;33m\u001b[0m\u001b[0m\n\u001b[0;32m      6\u001b[0m \u001b[1;33m\u001b[0m\u001b[0m\n\u001b[1;32m----> 7\u001b[1;33m \u001b[0mbuy_eggs\u001b[0m\u001b[1;33m(\u001b[0m\u001b[1;33m)\u001b[0m\u001b[1;33m\u001b[0m\u001b[1;33m\u001b[0m\u001b[0m\n\u001b[0m",
      "\u001b[1;32mC:\\Users\\MARTIN~1\\AppData\\Local\\Temp/ipykernel_12172/1170130402.py\u001b[0m in \u001b[0;36mbuy_eggs\u001b[1;34m()\u001b[0m\n\u001b[0;32m      3\u001b[0m \u001b[1;33m\u001b[0m\u001b[0m\n\u001b[0;32m      4\u001b[0m \u001b[1;32mdef\u001b[0m \u001b[0mbuy_eggs\u001b[0m\u001b[1;33m(\u001b[0m\u001b[1;33m)\u001b[0m\u001b[1;33m:\u001b[0m\u001b[1;33m\u001b[0m\u001b[1;33m\u001b[0m\u001b[0m\n\u001b[1;32m----> 5\u001b[1;33m     \u001b[0megg_count\u001b[0m \u001b[1;33m+=\u001b[0m \u001b[1;36m12\u001b[0m\u001b[1;33m\u001b[0m\u001b[1;33m\u001b[0m\u001b[0m\n\u001b[0m\u001b[0;32m      6\u001b[0m \u001b[1;33m\u001b[0m\u001b[0m\n\u001b[0;32m      7\u001b[0m \u001b[0mbuy_eggs\u001b[0m\u001b[1;33m(\u001b[0m\u001b[1;33m)\u001b[0m\u001b[1;33m\u001b[0m\u001b[1;33m\u001b[0m\u001b[0m\n",
      "\u001b[1;31mUnboundLocalError\u001b[0m: local variable 'egg_count' referenced before assignment"
     ]
    }
   ],
   "source": [
    "# This returns an error\n",
    "egg_count = 0\n",
    "\n",
    "def buy_eggs():\n",
    "    egg_count += 12\n",
    "\n",
    "buy_eggs()"
   ]
  },
  {
   "cell_type": "markdown",
   "id": "f76f6b53",
   "metadata": {},
   "source": [
    "> This code causes an UnboundLocalError, because the variable egg_count in the first line has global scope. Note that it is not passed as an argument into the function, so the function assumes the egg_count being referred to is the global variable."
   ]
  },
  {
   "cell_type": "code",
   "execution_count": 21,
   "id": "2d858547",
   "metadata": {},
   "outputs": [
    {
     "name": "stdout",
     "output_type": "stream",
     "text": [
      "12\n"
     ]
    }
   ],
   "source": [
    "egg_count = 0\n",
    "\n",
    "def buy_eggs(count):\n",
    "    return count + 12\n",
    "\n",
    "egg_count = buy_eggs(egg_count)\n",
    "\n",
    "print(egg_count)"
   ]
  },
  {
   "cell_type": "markdown",
   "id": "7ac9aac5",
   "metadata": {},
   "source": [
    "> Here is the better way to write the function."
   ]
  },
  {
   "cell_type": "markdown",
   "id": "c824c066",
   "metadata": {},
   "source": [
    "<a id='lambda'></a>\n",
    "## Lambda Expressions\n",
    "- Lambda expressions can be used to create anonymous functions. That is, functions that don’t have a name.\n",
    "- They are helpful for creating quick functions that aren’t needed later in your code. \n",
    "- This can be especially useful for higher order functions, or functions that take in other functions as arguments.\n",
    "- Components of a Lambda Function:\n",
    "    - 1.\tThe lambda keyword is used to indicate that this is a lambda expression.\n",
    "    - 2.\tFollowing lambda are one or more arguments for the anonymous function separated by commas, followed by a colon :. Similar to functions, the way the arguments are named in a lambda expression is arbitrary.\n",
    "    - 3.\tLast is an expression that is evaluated and returned in this function. This is a lot like an expression you might see as a return statement in a function.\n",
    "- With this structure, lambda expressions aren’t ideal for complex functions, but can be very useful for short, simple functions.\n",
    "\n"
   ]
  },
  {
   "cell_type": "code",
   "execution_count": 22,
   "id": "185497c8",
   "metadata": {},
   "outputs": [
    {
     "data": {
      "text/plain": [
       "30"
      ]
     },
     "execution_count": 22,
     "metadata": {},
     "output_type": "execute_result"
    }
   ],
   "source": [
    "# normal function\n",
    "\n",
    "def multiply(x, y):\n",
    "    return x * y\n",
    "\n",
    "multiply(3, 10)"
   ]
  },
  {
   "cell_type": "code",
   "execution_count": 23,
   "id": "0d8750e4",
   "metadata": {},
   "outputs": [
    {
     "data": {
      "text/plain": [
       "30"
      ]
     },
     "execution_count": 23,
     "metadata": {},
     "output_type": "execute_result"
    }
   ],
   "source": [
    "# using lambda\n",
    "\n",
    "multiply = lambda x, y: x * y\n",
    "\n",
    "multiply(3, 10)"
   ]
  },
  {
   "cell_type": "markdown",
   "id": "3c474b6d",
   "metadata": {},
   "source": [
    "<a id='lambda_map'></a>\n",
    "## Lambda with map()\n",
    "- map() is a higher-order built-in function that takes a function and iterable as inputs, and returns an iterator that applies the function to each element of the iterable."
   ]
  },
  {
   "cell_type": "code",
   "execution_count": 24,
   "id": "6fcf31cb",
   "metadata": {},
   "outputs": [
    {
     "name": "stdout",
     "output_type": "stream",
     "text": [
      "[57.0, 58.2, 50.6, 27.2]\n"
     ]
    }
   ],
   "source": [
    "# normal function\n",
    "\n",
    "numbers = [\n",
    "            [34, 63, 88, 71, 29],\n",
    "            [90, 78, 51, 27, 45],\n",
    "            [63, 37, 85, 46, 22],\n",
    "            [51, 22, 34, 11, 18]\n",
    "          ]\n",
    "\n",
    "def mean(num_list):\n",
    "    return sum(num_list) / len(num_list)\n",
    "\n",
    "averages = list(map(mean, numbers))\n",
    "\n",
    "print(averages)"
   ]
  },
  {
   "cell_type": "code",
   "execution_count": 25,
   "id": "fd110e3d",
   "metadata": {},
   "outputs": [
    {
     "name": "stdout",
     "output_type": "stream",
     "text": [
      "[57.0, 58.2, 50.6, 27.2]\n"
     ]
    }
   ],
   "source": [
    "# using lambda with map\n",
    "\n",
    "mean = lambda num_list: sum(num_list) / len(num_list)\n",
    "\n",
    "averages2 = list(map(mean, numbers))\n",
    "\n",
    "print(averages2)"
   ]
  },
  {
   "cell_type": "markdown",
   "id": "3d2a9c19",
   "metadata": {},
   "source": [
    "> The code uses map() to find the mean of each list in numbers to create the list averages2"
   ]
  },
  {
   "cell_type": "markdown",
   "id": "9e70e4c8",
   "metadata": {},
   "source": [
    "<a id='lambda_filter'></a>\n",
    "## Lambda with Filter\n",
    "- filter() is a higher-order built-in function that takes a function and iterable as inputs and returns an iterator with the elements from the iterable for which the function returns True."
   ]
  },
  {
   "cell_type": "code",
   "execution_count": 26,
   "id": "d3ee4ac6",
   "metadata": {},
   "outputs": [
    {
     "name": "stdout",
     "output_type": "stream",
     "text": [
      "['Chicago', 'Denver', 'Boston']\n"
     ]
    }
   ],
   "source": [
    "# normal function\n",
    "\n",
    "cities = ['New York City', 'Los Angeles', 'Chicago', 'Mountain View', 'Denver', 'Boston']\n",
    "\n",
    "def is_short(name):\n",
    "    return len(name) < 10\n",
    "\n",
    "short_cities = list(filter(is_short, cities))\n",
    "\n",
    "print(short_cities)"
   ]
  },
  {
   "cell_type": "code",
   "execution_count": 27,
   "id": "ea02f5a3",
   "metadata": {},
   "outputs": [
    {
     "name": "stdout",
     "output_type": "stream",
     "text": [
      "['Chicago', 'Denver', 'Boston']\n"
     ]
    }
   ],
   "source": [
    "# using lambda with filter\n",
    "\n",
    "cities = ['New York City', 'Los Angeles', 'Chicago', 'Mountain View', 'Denver', 'Boston']\n",
    "\n",
    "is_short = lambda name: len(name) < 10\n",
    "\n",
    "short_cities2 = list(filter(is_short, cities))\n",
    "\n",
    "print(short_cities2)"
   ]
  },
  {
   "cell_type": "markdown",
   "id": "c9d9eba7",
   "metadata": {},
   "source": [
    "> The code uses filter() to get the names in cities that are fewer than 10 characters long to create the list short_cities."
   ]
  },
  {
   "cell_type": "markdown",
   "id": "0fb65f50",
   "metadata": {},
   "source": [
    "## END"
   ]
  }
 ],
 "metadata": {
  "kernelspec": {
   "display_name": "Python 3 (ipykernel)",
   "language": "python",
   "name": "python3"
  },
  "language_info": {
   "codemirror_mode": {
    "name": "ipython",
    "version": 3
   },
   "file_extension": ".py",
   "mimetype": "text/x-python",
   "name": "python",
   "nbconvert_exporter": "python",
   "pygments_lexer": "ipython3",
   "version": "3.9.7"
  }
 },
 "nbformat": 4,
 "nbformat_minor": 5
}
