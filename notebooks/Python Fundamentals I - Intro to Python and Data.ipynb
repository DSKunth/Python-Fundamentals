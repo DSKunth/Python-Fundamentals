{
 "cells": [
  {
   "cell_type": "markdown",
   "id": "aa92e865",
   "metadata": {},
   "source": [
    "# Python Fundamentals I - Intro to Python and Data\n",
    "\n",
    "## Contents:\n",
    "\n",
    "## I. Programming in Python\n",
    "- [Python Syntax](#syntax)\n",
    "- [Python is case-sensitive](#case_sensitive)\n",
    "- [Indentation in Python](#indentation)\n",
    "- [Commenting in Python](#comment)\n",
    "- [Error Messages in Python](#errors)\n",
    "\n",
    "## II. Python Operators\n",
    "- [Arithmetic Operators](#arithmetic)\n",
    "- [Variables and Assignment Operators](#var_assignment)\n",
    "- [Comparison Operators](#comparison)\n",
    "- [Logical Operators](#logical)\n",
    "- [Bitwise Operators](#bitwise)\n",
    "- [Identity Operators](#identity)\n",
    "- [Membership Operators](#membership)\n",
    "\n",
    "## III. Data Types\n",
    "- [Integers and Floats](#int_and_float)\n",
    "- [Booleans](#boolean)\n",
    "- [Strings](#strings)\n",
    "\n",
    "## IV. Built-in Functions\n",
    "- [print() function](#print) \n",
    "- [len() function](#len)\n",
    "- [type() function](#type)\n",
    "- [int() function](#int)\n",
    "- [str() function](#str)\n",
    "- [float() function](#float)\n",
    "\n",
    "## V. String Methods\n",
    "- [.title() method](#title)\n",
    "- [.islower() method](#islower)\n",
    "- [.count() method](#count)\n",
    "- [.find() method](#find)\n",
    "- [.rfind() method](#rfind)\n",
    "- [.index() method](#index)\n",
    "- [.format() method](#format)\n",
    "- [.split() split](#split)"
   ]
  },
  {
   "cell_type": "markdown",
   "id": "81fc24af",
   "metadata": {},
   "source": [
    "## I. Programming in Python\n",
    "\n",
    "**Python** is a computer programming language that can be used in software and web development, data analysis and data science, and automation or scripting. Python is a general-purpose language, which means it can be used for building software in a wide variety of application domains. \n",
    "\n",
    "According to Wikipedia, Python consistently ranks as one of the most popular progamming languages."
   ]
  },
  {
   "cell_type": "markdown",
   "id": "117d6914",
   "metadata": {},
   "source": [
    "<a id='syntax'></a>\n",
    "### Python Syntax \n",
    "\n",
    "As you learn Python, there are a few things that should be kept in mind:\n",
    "\n",
    "**1. Python is case-sensitive**<br>\n",
    "**2. Indentation is important in Python**<br>\n",
    "**3. Comments in Python use the hash (#) character**<br>\n",
    "**4. Error messages are helpful**<br>"
   ]
  },
  {
   "cell_type": "markdown",
   "id": "81c26343",
   "metadata": {},
   "source": [
    "<a id='case_sensitive'></a>\n",
    "#### I. Python is case-sensitive\n",
    "- Unlike SQL, Python is case-sensitive. ``Hello`` is not the same as ``hello``."
   ]
  },
  {
   "cell_type": "code",
   "execution_count": 1,
   "id": "b5542ac5",
   "metadata": {},
   "outputs": [
    {
     "data": {
      "text/plain": [
       "False"
      ]
     },
     "execution_count": 1,
     "metadata": {},
     "output_type": "execute_result"
    }
   ],
   "source": [
    "greeting1 = 'Hello'\n",
    "greeting2 = 'hello'\n",
    "\n",
    "greeting1 == greeting2"
   ]
  },
  {
   "cell_type": "markdown",
   "id": "1ffec51c",
   "metadata": {},
   "source": [
    "> Here, we assign the string ``'Hello'`` to variable ``greeting1`` and the string ``'hello'`` to variable ``greeting2``. Then we ask Python whether ``greeting1`` is equal to or is the same with ``greeting2``. The output is False."
   ]
  },
  {
   "cell_type": "code",
   "execution_count": 2,
   "id": "b089db5f",
   "metadata": {},
   "outputs": [
    {
     "data": {
      "text/plain": [
       "True"
      ]
     },
     "execution_count": 2,
     "metadata": {},
     "output_type": "execute_result"
    }
   ],
   "source": [
    "greet1 = 'Hello'\n",
    "greet2 = 'Hello'\n",
    "\n",
    "greet1 == greet2"
   ]
  },
  {
   "cell_type": "markdown",
   "id": "4f653e86",
   "metadata": {},
   "source": [
    "> Here, we assign the string ``'Hello'`` to variables ``greet1`` and ``greet2``. Then we ask Python whether ``greet1`` is equal to or is the same with ``greet2. The output is True."
   ]
  },
  {
   "cell_type": "code",
   "execution_count": 3,
   "id": "e96de4cd",
   "metadata": {},
   "outputs": [
    {
     "ename": "NameError",
     "evalue": "name 'User_name' is not defined",
     "output_type": "error",
     "traceback": [
      "\u001b[1;31m---------------------------------------------------------------------------\u001b[0m",
      "\u001b[1;31mNameError\u001b[0m                                 Traceback (most recent call last)",
      "\u001b[1;32mC:\\Users\\MARTIN~1\\AppData\\Local\\Temp/ipykernel_15084/873517045.py\u001b[0m in \u001b[0;36m<module>\u001b[1;34m\u001b[0m\n\u001b[0;32m      1\u001b[0m \u001b[0muser_name\u001b[0m \u001b[1;33m=\u001b[0m \u001b[1;34m'Isabel'\u001b[0m\u001b[1;33m\u001b[0m\u001b[1;33m\u001b[0m\u001b[0m\n\u001b[1;32m----> 2\u001b[1;33m \u001b[0mprint\u001b[0m\u001b[1;33m(\u001b[0m\u001b[0mUser_name\u001b[0m\u001b[1;33m)\u001b[0m\u001b[1;33m\u001b[0m\u001b[1;33m\u001b[0m\u001b[0m\n\u001b[0m",
      "\u001b[1;31mNameError\u001b[0m: name 'User_name' is not defined"
     ]
    }
   ],
   "source": [
    "user_name = 'Isabel' \n",
    "print(User_name)"
   ]
  },
  {
   "cell_type": "markdown",
   "id": "5f69d0ac",
   "metadata": {},
   "source": [
    "> Here, we assign the username ``'Isabel'`` to variable ``user_name`` then we call the print function to print ``User_name``. This throws an error stating ``'User_name'`` is not defined."
   ]
  },
  {
   "cell_type": "code",
   "execution_count": 4,
   "id": "2581018b",
   "metadata": {},
   "outputs": [
    {
     "name": "stdout",
     "output_type": "stream",
     "text": [
      "Isabel\n"
     ]
    }
   ],
   "source": [
    "user_name = 'Isabel' \n",
    "print(user_name)"
   ]
  },
  {
   "cell_type": "markdown",
   "id": "d0579cbf",
   "metadata": {},
   "source": [
    "> Here, we assign the username ``'Isabel'`` to variable ``user_name`` then we call the print function to print ``user_name``. This outputs ``'Isabel'``."
   ]
  },
  {
   "cell_type": "markdown",
   "id": "d6ca0569",
   "metadata": {},
   "source": [
    "<a id='indentation'></a>\n",
    "#### II. Indentation is important in Python\n",
    "- Python relies on indentation, using whitespace, to define scope; such as the scope of loops, functions and classes. In Python, the indentation is an essential and mandatory concept that should be followed when writing a python code. A missing or extra space in a Python block could cause an error or unexpected behavior. Statements within the same block of code need to be indented at the same level."
   ]
  },
  {
   "cell_type": "code",
   "execution_count": 5,
   "id": "fba56b66",
   "metadata": {},
   "outputs": [
    {
     "name": "stdout",
     "output_type": "stream",
     "text": [
      "The value of c will be a negative number. The value is -5\n"
     ]
    }
   ],
   "source": [
    "a = 5\n",
    "b = 10\n",
    "c = a - b\n",
    "\n",
    "if a > b:\n",
    "    print(f'The value of c will be a positive number. The value is {c}')\n",
    "else:\n",
    "    print(f'The value of c will be a negative number. The value is {c}')"
   ]
  },
  {
   "cell_type": "markdown",
   "id": "b6dc84e9",
   "metadata": {},
   "source": [
    "> Here, we have created an If-Else statement where the line of code after the IF or Else statement requires indentation."
   ]
  },
  {
   "cell_type": "code",
   "execution_count": 6,
   "id": "491a054c",
   "metadata": {},
   "outputs": [
    {
     "ename": "IndentationError",
     "evalue": "expected an indented block (Temp/ipykernel_15084/3330186076.py, line 6)",
     "output_type": "error",
     "traceback": [
      "\u001b[1;36m  File \u001b[1;32m\"C:\\Users\\MARTIN~1\\AppData\\Local\\Temp/ipykernel_15084/3330186076.py\"\u001b[1;36m, line \u001b[1;32m6\u001b[0m\n\u001b[1;33m    print(f'The value of c will be a positive number. The value is {c}')\u001b[0m\n\u001b[1;37m    ^\u001b[0m\n\u001b[1;31mIndentationError\u001b[0m\u001b[1;31m:\u001b[0m expected an indented block\n"
     ]
    }
   ],
   "source": [
    "a = 5\n",
    "b = 10\n",
    "c = a - b\n",
    "\n",
    "if a > b:\n",
    "print(f'The value of c will be a positive number. The value is {c}')\n",
    "else:\n",
    "print(f'The value of c will be a negative number. The value is {c}')"
   ]
  },
  {
   "cell_type": "markdown",
   "id": "d7c89940",
   "metadata": {},
   "source": [
    "> Here, we remove the indentation. Python throws an IndentationError: expected an indented block."
   ]
  },
  {
   "cell_type": "markdown",
   "id": "b2ce1cf4",
   "metadata": {},
   "source": [
    "<a id='comment'></a>\n",
    "#### III. Commenting in Python\n",
    "- A comment is a programmer-readable explanation or annotation in the code. They are added with the purpose of making the code easier for humans to understand, and are generally ignored by compilers and interpreters. Comments in Python are indicated with a single hash (#) character at the beginning of an inline comment."
   ]
  },
  {
   "cell_type": "code",
   "execution_count": 7,
   "id": "6f2bfeb6",
   "metadata": {},
   "outputs": [
    {
     "name": "stdout",
     "output_type": "stream",
     "text": [
      "105.0\n"
     ]
    }
   ],
   "source": [
    "# compute total price with tax\n",
    "\n",
    "price = 100\n",
    "tax = .05\n",
    "price_with_tax = price + price * tax\n",
    "\n",
    "print(price_with_tax)"
   ]
  },
  {
   "cell_type": "code",
   "execution_count": 8,
   "id": "3f6d567e",
   "metadata": {},
   "outputs": [
    {
     "name": "stdout",
     "output_type": "stream",
     "text": [
      "7800180.0\n"
     ]
    }
   ],
   "source": [
    "Japan_population = 5200120\n",
    "\n",
    "Japan_population = Japan_population * 1.50 # increase population by 50%\n",
    "\n",
    "print(Japan_population)"
   ]
  },
  {
   "cell_type": "markdown",
   "id": "de74c3a9",
   "metadata": {},
   "source": [
    "<a id='errors'></a>\n",
    "#### IV. Error messages in Python\n",
    "- Error messages are just a way of Python telling you that it does not understand the code or something is wrong with the code. The two types of errors are:\n",
    "\n",
    "**1. Syntax errors (also called as parsing errors)** - Syntax errors are the most basic type of error. They arise when the Python parser is unable to understand a line of code.<br><br>\n",
    "**2. Exceptions** - Exceptions arise when the python parser knows what to do with a piece of code but is unable to perform the action. Even if a statement or expression is syntactically correct, it may cause an error when an attempt is made to execute it. Errors detected during execution are called exceptions and are not unconditionally fatal. Examples are ``NameError``, ``IndentationError``, ``TypeError``, and ``ValueError``."
   ]
  },
  {
   "cell_type": "markdown",
   "id": "f69150b9",
   "metadata": {},
   "source": [
    "##### Syntax Error"
   ]
  },
  {
   "cell_type": "code",
   "execution_count": 9,
   "id": "70ffe5ca",
   "metadata": {},
   "outputs": [
    {
     "ename": "SyntaxError",
     "evalue": "Missing parentheses in call to 'print'. Did you mean print('Hello World')? (Temp/ipykernel_15084/729776420.py, line 1)",
     "output_type": "error",
     "traceback": [
      "\u001b[1;36m  File \u001b[1;32m\"C:\\Users\\MARTIN~1\\AppData\\Local\\Temp/ipykernel_15084/729776420.py\"\u001b[1;36m, line \u001b[1;32m1\u001b[0m\n\u001b[1;33m    print 'Hello World'\u001b[0m\n\u001b[1;37m          ^\u001b[0m\n\u001b[1;31mSyntaxError\u001b[0m\u001b[1;31m:\u001b[0m Missing parentheses in call to 'print'. Did you mean print('Hello World')?\n"
     ]
    }
   ],
   "source": [
    "print 'Hello World'"
   ]
  },
  {
   "cell_type": "markdown",
   "id": "2c192159",
   "metadata": {},
   "source": [
    "> The parser repeats the offending line and displays a little ‘arrow’ pointing at the earliest point in the line where the error was detected. In this case, since ``print`` is a built-in function and requires parentheses, the code violates this and hence syntax error is displayed."
   ]
  },
  {
   "cell_type": "markdown",
   "id": "deca5544",
   "metadata": {},
   "source": [
    "##### NameError \n",
    "NameError occurs when you try to use a variable, function, or module that doesn't exist or wasn't used in a valid way."
   ]
  },
  {
   "cell_type": "code",
   "execution_count": 10,
   "id": "6e696964",
   "metadata": {},
   "outputs": [
    {
     "ename": "NameError",
     "evalue": "name 'surname' is not defined",
     "output_type": "error",
     "traceback": [
      "\u001b[1;31m---------------------------------------------------------------------------\u001b[0m",
      "\u001b[1;31mNameError\u001b[0m                                 Traceback (most recent call last)",
      "\u001b[1;32mC:\\Users\\MARTIN~1\\AppData\\Local\\Temp/ipykernel_15084/3065286834.py\u001b[0m in \u001b[0;36m<module>\u001b[1;34m\u001b[0m\n\u001b[0;32m      1\u001b[0m \u001b[0mname\u001b[0m \u001b[1;33m=\u001b[0m \u001b[1;34m'James'\u001b[0m\u001b[1;33m\u001b[0m\u001b[1;33m\u001b[0m\u001b[0m\n\u001b[0;32m      2\u001b[0m \u001b[1;33m\u001b[0m\u001b[0m\n\u001b[1;32m----> 3\u001b[1;33m \u001b[0mprint\u001b[0m\u001b[1;33m(\u001b[0m\u001b[0msurname\u001b[0m\u001b[1;33m)\u001b[0m\u001b[1;33m\u001b[0m\u001b[1;33m\u001b[0m\u001b[0m\n\u001b[0m",
      "\u001b[1;31mNameError\u001b[0m: name 'surname' is not defined"
     ]
    }
   ],
   "source": [
    "name = 'James'\n",
    "\n",
    "print(surname)"
   ]
  },
  {
   "cell_type": "markdown",
   "id": "c2118c8d",
   "metadata": {},
   "source": [
    "> Here, we defined the variable ``name`` but we tried to print ``surname`` that is not yet defined, hence, the NameError."
   ]
  },
  {
   "cell_type": "code",
   "execution_count": 11,
   "id": "5c9c5610",
   "metadata": {},
   "outputs": [
    {
     "ename": "NameError",
     "evalue": "name 'calculate_bm' is not defined",
     "output_type": "error",
     "traceback": [
      "\u001b[1;31m---------------------------------------------------------------------------\u001b[0m",
      "\u001b[1;31mNameError\u001b[0m                                 Traceback (most recent call last)",
      "\u001b[1;32mC:\\Users\\MARTIN~1\\AppData\\Local\\Temp/ipykernel_15084/2134200894.py\u001b[0m in \u001b[0;36m<module>\u001b[1;34m\u001b[0m\n\u001b[0;32m      6\u001b[0m     \u001b[1;32mreturn\u001b[0m \u001b[0mbmi\u001b[0m\u001b[1;33m\u001b[0m\u001b[1;33m\u001b[0m\u001b[0m\n\u001b[0;32m      7\u001b[0m \u001b[1;33m\u001b[0m\u001b[0m\n\u001b[1;32m----> 8\u001b[1;33m \u001b[0mcalculate_bm\u001b[0m\u001b[1;33m(\u001b[0m\u001b[0mweight\u001b[0m\u001b[1;33m,\u001b[0m \u001b[0mheight\u001b[0m\u001b[1;33m)\u001b[0m\u001b[1;33m\u001b[0m\u001b[1;33m\u001b[0m\u001b[0m\n\u001b[0m",
      "\u001b[1;31mNameError\u001b[0m: name 'calculate_bm' is not defined"
     ]
    }
   ],
   "source": [
    "weight = 47\n",
    "height = 1.5\n",
    "\n",
    "def calculate_bmi(weight, height):\n",
    "    bmi = weight/height**2\n",
    "    return bmi\n",
    "    \n",
    "calculate_bm(weight, height)"
   ]
  },
  {
   "cell_type": "markdown",
   "id": "2d8db531",
   "metadata": {},
   "source": [
    "> Here, we defined the function ``calculate_bmi`` but we tried to call ``calculate_bm`` that is not yet defined, hence, the NameError."
   ]
  },
  {
   "cell_type": "code",
   "execution_count": 12,
   "id": "6859157d",
   "metadata": {},
   "outputs": [
    {
     "ename": "NameError",
     "evalue": "name 'pd' is not defined",
     "output_type": "error",
     "traceback": [
      "\u001b[1;31m---------------------------------------------------------------------------\u001b[0m",
      "\u001b[1;31mNameError\u001b[0m                                 Traceback (most recent call last)",
      "\u001b[1;32mC:\\Users\\MARTIN~1\\AppData\\Local\\Temp/ipykernel_15084/2687795941.py\u001b[0m in \u001b[0;36m<module>\u001b[1;34m\u001b[0m\n\u001b[1;32m----> 1\u001b[1;33m \u001b[0mdf\u001b[0m \u001b[1;33m=\u001b[0m \u001b[0mpd\u001b[0m\u001b[1;33m.\u001b[0m\u001b[0mread_csv\u001b[0m\u001b[1;33m(\u001b[0m\u001b[1;34m'cars'\u001b[0m\u001b[1;33m)\u001b[0m\u001b[1;33m\u001b[0m\u001b[1;33m\u001b[0m\u001b[0m\n\u001b[0m\u001b[0;32m      2\u001b[0m \u001b[0mdf\u001b[0m\u001b[1;33m\u001b[0m\u001b[1;33m\u001b[0m\u001b[0m\n",
      "\u001b[1;31mNameError\u001b[0m: name 'pd' is not defined"
     ]
    }
   ],
   "source": [
    "df = pd.read_csv('cars')\n",
    "df"
   ]
  },
  {
   "cell_type": "markdown",
   "id": "69da194e",
   "metadata": {},
   "source": [
    "> Here, we call the pandas function ``pd.read_csv()`` without importing the pandas module first, hence the NameError."
   ]
  },
  {
   "cell_type": "markdown",
   "id": "90845814",
   "metadata": {},
   "source": [
    "##### IndentationError"
   ]
  },
  {
   "cell_type": "code",
   "execution_count": 13,
   "id": "8986d003",
   "metadata": {},
   "outputs": [
    {
     "ename": "IndentationError",
     "evalue": "expected an indented block (Temp/ipykernel_15084/3852876885.py, line 4)",
     "output_type": "error",
     "traceback": [
      "\u001b[1;36m  File \u001b[1;32m\"C:\\Users\\MARTIN~1\\AppData\\Local\\Temp/ipykernel_15084/3852876885.py\"\u001b[1;36m, line \u001b[1;32m4\u001b[0m\n\u001b[1;33m    print('You are an adult')\u001b[0m\n\u001b[1;37m    ^\u001b[0m\n\u001b[1;31mIndentationError\u001b[0m\u001b[1;31m:\u001b[0m expected an indented block\n"
     ]
    }
   ],
   "source": [
    "age = 20\n",
    "\n",
    "if age >= 18:\n",
    "print('You are an adult')\n",
    "else:\n",
    "print('You are a minor')"
   ]
  },
  {
   "cell_type": "markdown",
   "id": "f065d4f1",
   "metadata": {},
   "source": [
    "Here, we didn't use indentation after the IF and Else statements, hence the IndentationError."
   ]
  },
  {
   "cell_type": "markdown",
   "id": "ca542565",
   "metadata": {},
   "source": [
    "##### TypeError\n",
    "TypeError is an exception in Python that occurs when the data type of objects in an operation is inappropriate."
   ]
  },
  {
   "cell_type": "code",
   "execution_count": 14,
   "id": "8c0e3b2b",
   "metadata": {},
   "outputs": [
    {
     "ename": "TypeError",
     "evalue": "can only concatenate str (not \"int\") to str",
     "output_type": "error",
     "traceback": [
      "\u001b[1;31m---------------------------------------------------------------------------\u001b[0m",
      "\u001b[1;31mTypeError\u001b[0m                                 Traceback (most recent call last)",
      "\u001b[1;32mC:\\Users\\MARTIN~1\\AppData\\Local\\Temp/ipykernel_15084/3599129394.py\u001b[0m in \u001b[0;36m<module>\u001b[1;34m\u001b[0m\n\u001b[0;32m      1\u001b[0m \u001b[0mname\u001b[0m \u001b[1;33m=\u001b[0m \u001b[1;34m'Emily'\u001b[0m\u001b[1;33m\u001b[0m\u001b[1;33m\u001b[0m\u001b[0m\n\u001b[0;32m      2\u001b[0m \u001b[1;33m\u001b[0m\u001b[0m\n\u001b[1;32m----> 3\u001b[1;33m \u001b[0mprint\u001b[0m\u001b[1;33m(\u001b[0m\u001b[0mname\u001b[0m \u001b[1;33m+\u001b[0m \u001b[1;36m10\u001b[0m\u001b[1;33m)\u001b[0m\u001b[1;33m\u001b[0m\u001b[1;33m\u001b[0m\u001b[0m\n\u001b[0m",
      "\u001b[1;31mTypeError\u001b[0m: can only concatenate str (not \"int\") to str"
     ]
    }
   ],
   "source": [
    "name = 'Emily'\n",
    "\n",
    "print(name + 10)"
   ]
  },
  {
   "cell_type": "markdown",
   "id": "12bbdd9d",
   "metadata": {},
   "source": [
    "> Here we try to concatenate string ``'Emily'`` to ``10`` which is an integer, hence the TypeError."
   ]
  },
  {
   "cell_type": "markdown",
   "id": "aa9a11f0",
   "metadata": {},
   "source": [
    "##### ValueError\n",
    "In Python, a ValueError occurs when a correct argument type but an incorrect value is supplied to a function."
   ]
  },
  {
   "cell_type": "code",
   "execution_count": 15,
   "id": "5e165ba1",
   "metadata": {},
   "outputs": [
    {
     "name": "stdout",
     "output_type": "stream",
     "text": [
      "Please enter weight in kg: \n"
     ]
    },
    {
     "ename": "ValueError",
     "evalue": "could not convert string to float: ''",
     "output_type": "error",
     "traceback": [
      "\u001b[1;31m---------------------------------------------------------------------------\u001b[0m",
      "\u001b[1;31mValueError\u001b[0m                                Traceback (most recent call last)",
      "\u001b[1;32mC:\\Users\\MARTIN~1\\AppData\\Local\\Temp/ipykernel_15084/454781235.py\u001b[0m in \u001b[0;36m<module>\u001b[1;34m\u001b[0m\n\u001b[1;32m----> 1\u001b[1;33m \u001b[0mweight\u001b[0m \u001b[1;33m=\u001b[0m \u001b[0mfloat\u001b[0m\u001b[1;33m(\u001b[0m\u001b[0minput\u001b[0m\u001b[1;33m(\u001b[0m\u001b[1;34m'Please enter weight in kg: '\u001b[0m\u001b[1;33m)\u001b[0m\u001b[1;33m)\u001b[0m\u001b[1;33m\u001b[0m\u001b[1;33m\u001b[0m\u001b[0m\n\u001b[0m\u001b[0;32m      2\u001b[0m \u001b[0mheight\u001b[0m \u001b[1;33m=\u001b[0m \u001b[0mfloat\u001b[0m\u001b[1;33m(\u001b[0m\u001b[0minput\u001b[0m\u001b[1;33m(\u001b[0m\u001b[1;34m'please enter height in meters: '\u001b[0m\u001b[1;33m)\u001b[0m\u001b[1;33m)\u001b[0m\u001b[1;33m\u001b[0m\u001b[1;33m\u001b[0m\u001b[0m\n\u001b[0;32m      3\u001b[0m \u001b[1;33m\u001b[0m\u001b[0m\n\u001b[0;32m      4\u001b[0m \u001b[1;32mdef\u001b[0m \u001b[0mcalculate_bmi\u001b[0m\u001b[1;33m(\u001b[0m\u001b[0mweight\u001b[0m\u001b[1;33m,\u001b[0m \u001b[0mheight\u001b[0m\u001b[1;33m)\u001b[0m\u001b[1;33m:\u001b[0m\u001b[1;33m\u001b[0m\u001b[1;33m\u001b[0m\u001b[0m\n\u001b[0;32m      5\u001b[0m     \u001b[0mbmi\u001b[0m \u001b[1;33m=\u001b[0m \u001b[0mweight\u001b[0m\u001b[1;33m/\u001b[0m\u001b[0mheight\u001b[0m\u001b[1;33m**\u001b[0m\u001b[1;36m2\u001b[0m\u001b[1;33m\u001b[0m\u001b[1;33m\u001b[0m\u001b[0m\n",
      "\u001b[1;31mValueError\u001b[0m: could not convert string to float: ''"
     ]
    }
   ],
   "source": [
    "weight = float(input('Please enter weight in kg: '))\n",
    "height = float(input('please enter height in meters: '))\n",
    "\n",
    "def calculate_bmi(weight, height):\n",
    "    bmi = weight/height**2\n",
    "    return bmi\n",
    "    \n",
    "calculate_bmi(weight, height)"
   ]
  },
  {
   "cell_type": "markdown",
   "id": "b591d2db",
   "metadata": {},
   "source": [
    "> Here, the weight is a float type which is a correct type for the argument but the user supplied an incorrect value, hence a ValueError."
   ]
  },
  {
   "cell_type": "markdown",
   "id": "9b908815",
   "metadata": {},
   "source": [
    "## II. Python Operators\n",
    "\n",
    "**Operators** are the constructs which can manipulate the value of **operands**. Operators are special symbols used in between operands to perform logical and mathematical operations in a programming language.<br><br>\n",
    "The value on which the operator operates the computation is called the **operand**. There are different types of operators - arithmetic, assignment, comparison, logical, relational, bitwise, etc.<br><br>\n",
    "Consider the expression ``4 + 5 = 9``. Here, ``4`` and ``5`` are called **operands** and ``+`` is called **operator**."
   ]
  },
  {
   "cell_type": "markdown",
   "id": "76168108",
   "metadata": {},
   "source": [
    "<a id='arithmetic'></a>\n",
    "## Arithmetic Operators\n",
    "The arithmetic operators perform addition, subtraction, multiplication, division, exponentiation, and modulus operations.\n",
    "\n",
    "- `+` Addition\n",
    "- `-` Subtraction\n",
    "- `*` Multiplication\n",
    "- `/` Division\n",
    "- `%` Modulo (the remainder after dividing)\n",
    "- `**` Exponentiation (note that ^ does not do this operation, as you might have seen in other languages)\n",
    "- `//` Floor or integer division (divides and rounds down to the nearest integer)"
   ]
  },
  {
   "cell_type": "markdown",
   "id": "6cbee0c6",
   "metadata": {},
   "source": [
    "### Addition"
   ]
  },
  {
   "cell_type": "code",
   "execution_count": 16,
   "id": "7ab2292e",
   "metadata": {},
   "outputs": [
    {
     "data": {
      "text/plain": [
       "290"
      ]
     },
     "execution_count": 16,
     "metadata": {},
     "output_type": "execute_result"
    }
   ],
   "source": [
    "140 + 150"
   ]
  },
  {
   "cell_type": "markdown",
   "id": "344d4cd8",
   "metadata": {},
   "source": [
    "### Subtraction"
   ]
  },
  {
   "cell_type": "code",
   "execution_count": 17,
   "id": "6b095831",
   "metadata": {},
   "outputs": [
    {
     "data": {
      "text/plain": [
       "20"
      ]
     },
     "execution_count": 17,
     "metadata": {},
     "output_type": "execute_result"
    }
   ],
   "source": [
    "100 - 80"
   ]
  },
  {
   "cell_type": "markdown",
   "id": "1b887f77",
   "metadata": {},
   "source": [
    "### Multiplication"
   ]
  },
  {
   "cell_type": "code",
   "execution_count": 18,
   "id": "3fb0f43b",
   "metadata": {},
   "outputs": [
    {
     "data": {
      "text/plain": [
       "1200"
      ]
     },
     "execution_count": 18,
     "metadata": {},
     "output_type": "execute_result"
    }
   ],
   "source": [
    "8 * 150"
   ]
  },
  {
   "cell_type": "markdown",
   "id": "ed8af654",
   "metadata": {},
   "source": [
    "### Division"
   ]
  },
  {
   "cell_type": "code",
   "execution_count": 19,
   "id": "7e29184e",
   "metadata": {},
   "outputs": [
    {
     "data": {
      "text/plain": [
       "3.3333333333333335"
      ]
     },
     "execution_count": 19,
     "metadata": {},
     "output_type": "execute_result"
    }
   ],
   "source": [
    "100 / 30"
   ]
  },
  {
   "cell_type": "code",
   "execution_count": 20,
   "id": "3f1bbb0a",
   "metadata": {},
   "outputs": [
    {
     "data": {
      "text/plain": [
       "1.5"
      ]
     },
     "execution_count": 20,
     "metadata": {},
     "output_type": "execute_result"
    }
   ],
   "source": [
    "3 / 2"
   ]
  },
  {
   "cell_type": "markdown",
   "id": "12c0b8a9",
   "metadata": {},
   "source": [
    "### Modulo\n",
    "It returns the remainder after the first number is divided by the second"
   ]
  },
  {
   "cell_type": "code",
   "execution_count": 21,
   "id": "ca3ed698",
   "metadata": {},
   "outputs": [
    {
     "data": {
      "text/plain": [
       "1"
      ]
     },
     "execution_count": 21,
     "metadata": {},
     "output_type": "execute_result"
    }
   ],
   "source": [
    "3 % 2"
   ]
  },
  {
   "cell_type": "code",
   "execution_count": 22,
   "id": "ca71686f",
   "metadata": {},
   "outputs": [
    {
     "data": {
      "text/plain": [
       "2"
      ]
     },
     "execution_count": 22,
     "metadata": {},
     "output_type": "execute_result"
    }
   ],
   "source": [
    "10 % 4"
   ]
  },
  {
   "cell_type": "code",
   "execution_count": 23,
   "id": "bcd7e916",
   "metadata": {},
   "outputs": [
    {
     "data": {
      "text/plain": [
       "2"
      ]
     },
     "execution_count": 23,
     "metadata": {},
     "output_type": "execute_result"
    }
   ],
   "source": [
    "8 % 3"
   ]
  },
  {
   "cell_type": "markdown",
   "id": "57505cce",
   "metadata": {},
   "source": [
    "### Exponentiation\n",
    "It raises the number to the power of another with two asterisks"
   ]
  },
  {
   "cell_type": "code",
   "execution_count": 24,
   "id": "e5c2dccd",
   "metadata": {},
   "outputs": [
    {
     "data": {
      "text/plain": [
       "8"
      ]
     },
     "execution_count": 24,
     "metadata": {},
     "output_type": "execute_result"
    }
   ],
   "source": [
    "2 ** 3"
   ]
  },
  {
   "cell_type": "code",
   "execution_count": 25,
   "id": "9b768275",
   "metadata": {},
   "outputs": [
    {
     "data": {
      "text/plain": [
       "9"
      ]
     },
     "execution_count": 25,
     "metadata": {},
     "output_type": "execute_result"
    }
   ],
   "source": [
    "3 ** 2"
   ]
  },
  {
   "cell_type": "markdown",
   "id": "a9501733",
   "metadata": {},
   "source": [
    "### Integer Division \n",
    "It divides one integer by another but rather than giving the exact answer, it rounds down the answer down to an integer."
   ]
  },
  {
   "cell_type": "code",
   "execution_count": 26,
   "id": "82f0cb63",
   "metadata": {},
   "outputs": [
    {
     "data": {
      "text/plain": [
       "2"
      ]
     },
     "execution_count": 26,
     "metadata": {},
     "output_type": "execute_result"
    }
   ],
   "source": [
    "5 // 2"
   ]
  },
  {
   "cell_type": "code",
   "execution_count": 27,
   "id": "0957c69d",
   "metadata": {},
   "outputs": [
    {
     "data": {
      "text/plain": [
       "3"
      ]
     },
     "execution_count": 27,
     "metadata": {},
     "output_type": "execute_result"
    }
   ],
   "source": [
    "100 // 30"
   ]
  },
  {
   "cell_type": "code",
   "execution_count": 28,
   "id": "ab62f050",
   "metadata": {},
   "outputs": [
    {
     "data": {
      "text/plain": [
       "0"
      ]
     },
     "execution_count": 28,
     "metadata": {},
     "output_type": "execute_result"
    }
   ],
   "source": [
    "1 // 3"
   ]
  },
  {
   "cell_type": "markdown",
   "id": "14a43a1d",
   "metadata": {},
   "source": [
    "### Mathematical Expressions (multiple operations)\n",
    "Python follows Mathematical Order of Operations (PEMDAS)"
   ]
  },
  {
   "cell_type": "code",
   "execution_count": 29,
   "id": "9bbf046f",
   "metadata": {},
   "outputs": [
    {
     "data": {
      "text/plain": [
       "12"
      ]
     },
     "execution_count": 29,
     "metadata": {},
     "output_type": "execute_result"
    }
   ],
   "source": [
    "(1 + 2 + 3 * 3)"
   ]
  },
  {
   "cell_type": "markdown",
   "id": "e203fb66",
   "metadata": {},
   "source": [
    "> Here, multiplication is performed first followed by addition. Hence, 3 multiply by 3 equals 9 then add 2 and 1 equals 12"
   ]
  },
  {
   "cell_type": "code",
   "execution_count": 30,
   "id": "70aabd93",
   "metadata": {},
   "outputs": [
    {
     "data": {
      "text/plain": [
       "18"
      ]
     },
     "execution_count": 30,
     "metadata": {},
     "output_type": "execute_result"
    }
   ],
   "source": [
    "(1 + 2 + 3) * 3"
   ]
  },
  {
   "cell_type": "markdown",
   "id": "0b296ae6",
   "metadata": {},
   "source": [
    "> Here, parenthesis is performed first followed by multiplication. Hence, 1 plus 2 and 3 equals 6 then multiply by 3 equals 18"
   ]
  },
  {
   "cell_type": "code",
   "execution_count": 31,
   "id": "3a9df054",
   "metadata": {},
   "outputs": [
    {
     "data": {
      "text/plain": [
       "39.666666666666664"
      ]
     },
     "execution_count": 31,
     "metadata": {},
     "output_type": "execute_result"
    }
   ],
   "source": [
    "(23 + 32 + 64) / 3"
   ]
  },
  {
   "cell_type": "markdown",
   "id": "7c8993b9",
   "metadata": {},
   "source": [
    "> Here, parenthesis is performed first followed by division. Hence, 23 plus 32 and 64 equals 119 then divided by 3 equals 39.66666666666664"
   ]
  },
  {
   "cell_type": "code",
   "execution_count": 32,
   "id": "ff31c57b",
   "metadata": {},
   "outputs": [
    {
     "data": {
      "text/plain": [
       "252"
      ]
     },
     "execution_count": 32,
     "metadata": {},
     "output_type": "execute_result"
    }
   ],
   "source": [
    "(2 + 5 ** 2 * 10) "
   ]
  },
  {
   "cell_type": "markdown",
   "id": "8b2a487c",
   "metadata": {},
   "source": [
    "> Here, within the parenthesis, exponentiation is performed first followed by multiplication then addition. Hence 5 raised to 2 equals 25. Then multiply by 10 equals 250. Then add 2 equals 252"
   ]
  },
  {
   "cell_type": "markdown",
   "id": "e6bb9847",
   "metadata": {},
   "source": [
    "## Exercise - Arithmetic Operators"
   ]
  },
  {
   "cell_type": "markdown",
   "id": "3b003e64",
   "metadata": {},
   "source": [
    "### 1. Compute for the average electricity bill\n",
    "For the last three months, your electricity bill has been €55, €84, and €70. What is the average monthly electricity over the three month period? Write an expression to calculate the mean or average."
   ]
  },
  {
   "cell_type": "code",
   "execution_count": 33,
   "id": "5575fbf0",
   "metadata": {},
   "outputs": [
    {
     "data": {
      "text/plain": [
       "69.66666666666667"
      ]
     },
     "execution_count": 33,
     "metadata": {},
     "output_type": "execute_result"
    }
   ],
   "source": [
    "(55 + 84 + 70)/3"
   ]
  },
  {
   "cell_type": "markdown",
   "id": "4529b296",
   "metadata": {},
   "source": [
    "### 2. Calculate the number of tiles\n",
    "Two parts of the bathroom floor needs tiling. One part is 8 tiles wide by 8 tiles long. The other is 5 tiles wide by 8 tiles long. Tiles come in packages of 6. You purchased 20 packages of tiles containing 6 tiles each.\n",
    "\n",
    "a. Calculate the number of tiles needed\n",
    "b. Calculate the number of leftover tiles"
   ]
  },
  {
   "cell_type": "code",
   "execution_count": 34,
   "id": "5939cbc7",
   "metadata": {},
   "outputs": [
    {
     "data": {
      "text/plain": [
       "104"
      ]
     },
     "execution_count": 34,
     "metadata": {},
     "output_type": "execute_result"
    }
   ],
   "source": [
    "# Calculate the number of tiles needed\n",
    "\n",
    "(8 * 8 + 5 * 8)"
   ]
  },
  {
   "cell_type": "code",
   "execution_count": 35,
   "id": "2cebc7b5",
   "metadata": {},
   "outputs": [
    {
     "data": {
      "text/plain": [
       "16"
      ]
     },
     "execution_count": 35,
     "metadata": {},
     "output_type": "execute_result"
    }
   ],
   "source": [
    "# Calculate the number of leftover tiles\n",
    "\n",
    "(20 * 6) - (8 * 8 + 5 * 8)"
   ]
  },
  {
   "cell_type": "markdown",
   "id": "620cbfa1",
   "metadata": {},
   "source": [
    "<a id='var_assignment'></a>\n",
    "## Variables and Assignment Operators\n",
    "- **Variables** are containers for storing data values. They are reserved memory locations to store values. This means that when you create a variable you reserve some space in memory. The equal sign ``=`` is used to assign values to variables. The equal sign is the assignment operator.<br><br>\n",
    "\n",
    "- **Assignment Operators** are used to assigning values to variables. <br><br>\n",
    "\n",
    "- The operand to the left of the ``= operator`` is the name of the variable and the operand to the right of the ``= operator`` is the value stored in the variable."
   ]
  },
  {
   "cell_type": "code",
   "execution_count": 36,
   "id": "1430d229",
   "metadata": {},
   "outputs": [],
   "source": [
    "# Variable Example 1\n",
    "\n",
    "germany_population = 83200000"
   ]
  },
  {
   "cell_type": "code",
   "execution_count": 37,
   "id": "c79891e1",
   "metadata": {},
   "outputs": [
    {
     "name": "stdout",
     "output_type": "stream",
     "text": [
      "The current population of Germany is 83200000\n"
     ]
    }
   ],
   "source": [
    "print('The current population of Germany is', germany_population)"
   ]
  },
  {
   "cell_type": "markdown",
   "id": "fbc672a7",
   "metadata": {},
   "source": [
    "> The variable name is germany_population. The equal sign is the assignment operator and the value of the variable is 83200000.\n",
    "This is interpreted as ``germany_population`` is assigned the value 83200000. Once this is executed, ``germany_population`` can be used in a statement or expression, and its value will be substituted."
   ]
  },
  {
   "cell_type": "code",
   "execution_count": 38,
   "id": "7a496b4a",
   "metadata": {},
   "outputs": [],
   "source": [
    "# Variable Eaxmple 2\n",
    "\n",
    "x, y, z = 20, 10, 5"
   ]
  },
  {
   "cell_type": "markdown",
   "id": "120fffdd",
   "metadata": {},
   "source": [
    "> Python also has a useful way to assign multiple variables at once. These three assignments can be abbreviated using multiple assignments like this: x is assigned to two, y to three, and z to five."
   ]
  },
  {
   "attachments": {
    "image.png": {
     "image/png": "[encoded data removed]"
    }
   },
   "cell_type": "markdown",
   "id": "ac62e99d",
   "metadata": {},
   "source": [
    "### Variable Naming Convention\n",
    "**1. It is a good practice to create variable names that are descriptive.**\n",
    "* In example 2, we used x, y, and z as variables names. However, while this is technically allowed, it is recommended to use descriptive variable names. In this case, if we are pertaining to the measurement of let's say a board, we can use ``height``, ``length``, and ``width`` instead.\n",
    "\n",
    "**2. Apart from being descriptive, here are the rules in proper naming of variables:**\n",
    "* A variable name must start with a letter or the underscore character. It cannot start with a number. \n",
    "* A variable name can only contain alpha-numeric characters and underscores (A-z, 0-9, and _ ). They can't have spaces.\n",
    "* Variable names are case-sensitive (age, Age and AGE are three different variables)\n",
    "* Reserved words or built-in identifiers in python cannot be used as variables names\n",
    "* The pythonic way to name variables is to use all lowercase letters and underscores to separate words\n",
    "\n",
    "\n",
    "![image.png](attachment:image.png)"
   ]
  },
  {
   "cell_type": "markdown",
   "id": "49fb2185",
   "metadata": {},
   "source": [
    "#### A variable name must start with a letter or the underscore character. It cannot start with a number."
   ]
  },
  {
   "cell_type": "code",
   "execution_count": 39,
   "id": "7a9ab905",
   "metadata": {},
   "outputs": [
    {
     "ename": "SyntaxError",
     "evalue": "invalid syntax (Temp/ipykernel_15084/3031923674.py, line 1)",
     "output_type": "error",
     "traceback": [
      "\u001b[1;36m  File \u001b[1;32m\"C:\\Users\\MARTIN~1\\AppData\\Local\\Temp/ipykernel_15084/3031923674.py\"\u001b[1;36m, line \u001b[1;32m1\u001b[0m\n\u001b[1;33m    1car = 300\u001b[0m\n\u001b[1;37m     ^\u001b[0m\n\u001b[1;31mSyntaxError\u001b[0m\u001b[1;31m:\u001b[0m invalid syntax\n"
     ]
    }
   ],
   "source": [
    "1car = 300 \n",
    "\n",
    "print(1car)"
   ]
  },
  {
   "cell_type": "markdown",
   "id": "321acf45",
   "metadata": {},
   "source": [
    "> Here we get a SyntaxError because a variable name cannot start with a number."
   ]
  },
  {
   "cell_type": "code",
   "execution_count": 40,
   "id": "4f59c0c6",
   "metadata": {},
   "outputs": [
    {
     "name": "stdout",
     "output_type": "stream",
     "text": [
      "300\n"
     ]
    }
   ],
   "source": [
    "_car = 300\n",
    "\n",
    "print(_car)"
   ]
  },
  {
   "cell_type": "markdown",
   "id": "dbb24f6b",
   "metadata": {},
   "source": [
    "#### A variable name can only contain alpha-numeric characters and underscores (A-z, 0-9, and _ ). They can't have spaces."
   ]
  },
  {
   "cell_type": "code",
   "execution_count": 41,
   "id": "06dbc6bc",
   "metadata": {},
   "outputs": [
    {
     "ename": "SyntaxError",
     "evalue": "invalid syntax (Temp/ipykernel_15084/860130602.py, line 1)",
     "output_type": "error",
     "traceback": [
      "\u001b[1;36m  File \u001b[1;32m\"C:\\Users\\MARTIN~1\\AppData\\Local\\Temp/ipykernel_15084/860130602.py\"\u001b[1;36m, line \u001b[1;32m1\u001b[0m\n\u001b[1;33m    total sales = 3500\u001b[0m\n\u001b[1;37m          ^\u001b[0m\n\u001b[1;31mSyntaxError\u001b[0m\u001b[1;31m:\u001b[0m invalid syntax\n"
     ]
    }
   ],
   "source": [
    "total sales = 3500\n",
    "\n",
    "print(total sales)"
   ]
  },
  {
   "cell_type": "markdown",
   "id": "6e0d5752",
   "metadata": {},
   "source": [
    "> Here we get a SyntaxError because a variable name cannot have spaces."
   ]
  },
  {
   "cell_type": "code",
   "execution_count": 42,
   "id": "b2bede71",
   "metadata": {},
   "outputs": [
    {
     "name": "stdout",
     "output_type": "stream",
     "text": [
      "3500\n"
     ]
    }
   ],
   "source": [
    "total_sales = 3500\n",
    "\n",
    "print(total_sales)"
   ]
  },
  {
   "cell_type": "markdown",
   "id": "5153e978",
   "metadata": {},
   "source": [
    "#### Variable names are case-sensitive (age, Age, and AGE are three different variables)"
   ]
  },
  {
   "cell_type": "code",
   "execution_count": 43,
   "id": "fb7d866f",
   "metadata": {},
   "outputs": [
    {
     "ename": "NameError",
     "evalue": "name 'Age' is not defined",
     "output_type": "error",
     "traceback": [
      "\u001b[1;31m---------------------------------------------------------------------------\u001b[0m",
      "\u001b[1;31mNameError\u001b[0m                                 Traceback (most recent call last)",
      "\u001b[1;32mC:\\Users\\MARTIN~1\\AppData\\Local\\Temp/ipykernel_15084/2866262302.py\u001b[0m in \u001b[0;36m<module>\u001b[1;34m\u001b[0m\n\u001b[0;32m      1\u001b[0m \u001b[0mage\u001b[0m \u001b[1;33m=\u001b[0m \u001b[1;36m25\u001b[0m\u001b[1;33m\u001b[0m\u001b[1;33m\u001b[0m\u001b[0m\n\u001b[0;32m      2\u001b[0m \u001b[1;33m\u001b[0m\u001b[0m\n\u001b[1;32m----> 3\u001b[1;33m \u001b[0mprint\u001b[0m\u001b[1;33m(\u001b[0m\u001b[0mAge\u001b[0m\u001b[1;33m)\u001b[0m\u001b[1;33m\u001b[0m\u001b[1;33m\u001b[0m\u001b[0m\n\u001b[0m",
      "\u001b[1;31mNameError\u001b[0m: name 'Age' is not defined"
     ]
    }
   ],
   "source": [
    "age = 25\n",
    "\n",
    "print(Age)"
   ]
  },
  {
   "cell_type": "markdown",
   "id": "22e11de9",
   "metadata": {},
   "source": [
    "> Here, we get a NameError since we called ``Age`` which is not yet defined instead of ``age``"
   ]
  },
  {
   "cell_type": "markdown",
   "id": "07ae9192",
   "metadata": {},
   "source": [
    "#### Reserved words or built-in identifiers in python cannot be used as variables names"
   ]
  },
  {
   "cell_type": "code",
   "execution_count": 44,
   "id": "7d23425e",
   "metadata": {},
   "outputs": [
    {
     "ename": "SyntaxError",
     "evalue": "cannot assign to True (Temp/ipykernel_15084/1608914516.py, line 1)",
     "output_type": "error",
     "traceback": [
      "\u001b[1;36m  File \u001b[1;32m\"C:\\Users\\MARTIN~1\\AppData\\Local\\Temp/ipykernel_15084/1608914516.py\"\u001b[1;36m, line \u001b[1;32m1\u001b[0m\n\u001b[1;33m    True = 100\u001b[0m\n\u001b[1;37m    ^\u001b[0m\n\u001b[1;31mSyntaxError\u001b[0m\u001b[1;31m:\u001b[0m cannot assign to True\n"
     ]
    }
   ],
   "source": [
    "True = 100\n",
    "\n",
    "print(True)"
   ]
  },
  {
   "cell_type": "markdown",
   "id": "9ff5dc39",
   "metadata": {},
   "source": [
    "> Here we get a SyntaxError because ``True`` is a reserved keyword in Python"
   ]
  },
  {
   "cell_type": "markdown",
   "id": "eebc6fd2",
   "metadata": {},
   "source": [
    "#### The pythonic way to name variables is to use all lowercase letters and underscores to separate words"
   ]
  },
  {
   "cell_type": "code",
   "execution_count": null,
   "id": "44dfe7f3",
   "metadata": {},
   "outputs": [],
   "source": [
    "# Pythonic way\n",
    "\n",
    "current_year = 2023\n",
    "birth_year = 1978\n",
    "my_age = current_year - birth_year\n",
    "\n",
    "print(my_age)"
   ]
  },
  {
   "cell_type": "markdown",
   "id": "4cd09bb8",
   "metadata": {},
   "source": [
    "> Here, the pythonic way of naming variables is used. It is clear, clean and easy to understand."
   ]
  },
  {
   "cell_type": "code",
   "execution_count": 45,
   "id": "9f2cff3d",
   "metadata": {},
   "outputs": [
    {
     "name": "stdout",
     "output_type": "stream",
     "text": [
      "45\n"
     ]
    }
   ],
   "source": [
    "# Non-pythonic way\n",
    "\n",
    "CURRENT_year = 2023\n",
    "BIRTHYEAR = 1978\n",
    "Myage = CURRENT_year - BIRTHYEAR\n",
    "\n",
    "print(Myage)"
   ]
  },
  {
   "cell_type": "markdown",
   "id": "cedd07a4",
   "metadata": {},
   "source": [
    "> Here, the variable names are acceptable in Python as the rules in naming variables were followed. However, this is not the pythonic way which is confusing and not easy to comprehend. This is especially important when your code will be read by other programmers. "
   ]
  },
  {
   "cell_type": "markdown",
   "id": "63243a33",
   "metadata": {},
   "source": [
    "### Special Assignment Operators\n",
    "Special assignment operators are arithmetic operators followed by an equal sign. These operators perform the arithmetic operation to the variable on the left with the value on the right then assigning the (new) result to the variable.\n",
    "\n",
    " \n",
    " |                 Description                 | Operator |\n",
    "|:-------------------------------------------:|:--------:|\n",
    "| Addition and Assignment Operator            |    +=    |\n",
    "| Subtraction and Assignment Operator         |    -=    |\n",
    "| Multiplication and Assignment Operator      |    *=    |\n",
    "| Division and Assignment Operator            |    /=    |\n",
    "| Modulo and Assignment Operator              |    %=    |\n",
    "| Floor Division and Assignment Operator      |    //=   |\n",
    "| Exponent and Assignment Operator            |    **=   |\n",
    "| Bitwise AND and Assignment Operator         |    &=    |\n",
    "| Bitwise OR and Assignment Operator          |    \\|=   |\n",
    "| Bitwise XOR and Assignment Operator         |    ^=    |\n",
    "| Bitwise Right Shift and Assignment Operator |    >>=   |\n",
    "| Bitwise Left Shift and Assignment Operator  |    <<=   |"
   ]
  },
  {
   "cell_type": "markdown",
   "id": "059ff26e",
   "metadata": {},
   "source": [
    "#### Addition and Assignment Operator: +="
   ]
  },
  {
   "cell_type": "code",
   "execution_count": 46,
   "id": "e74a0378",
   "metadata": {},
   "outputs": [
    {
     "name": "stdout",
     "output_type": "stream",
     "text": [
      "1500\n"
     ]
    }
   ],
   "source": [
    "sales = 1000\n",
    "sales += 500\n",
    "\n",
    "print(sales)"
   ]
  },
  {
   "cell_type": "code",
   "execution_count": 47,
   "id": "1a8af8fa",
   "metadata": {},
   "outputs": [
    {
     "name": "stdout",
     "output_type": "stream",
     "text": [
      "1500\n"
     ]
    }
   ],
   "source": [
    "# This is the long version of the code\n",
    "sales = 1000\n",
    "sales = sales + 500\n",
    "\n",
    "print(sales)"
   ]
  },
  {
   "cell_type": "markdown",
   "id": "00eebb66",
   "metadata": {},
   "source": [
    "#### Subtraction and Assignment Operator: -="
   ]
  },
  {
   "cell_type": "code",
   "execution_count": 48,
   "id": "0fe564bb",
   "metadata": {},
   "outputs": [
    {
     "name": "stdout",
     "output_type": "stream",
     "text": [
      "800\n"
     ]
    }
   ],
   "source": [
    "sales = 1000\n",
    "sales -= 200\n",
    "\n",
    "print(sales)"
   ]
  },
  {
   "cell_type": "code",
   "execution_count": 49,
   "id": "82564bb1",
   "metadata": {},
   "outputs": [
    {
     "name": "stdout",
     "output_type": "stream",
     "text": [
      "800\n"
     ]
    }
   ],
   "source": [
    "# This is the long version of the code\n",
    "sales = 1000\n",
    "sales = sales - 200\n",
    "\n",
    "print(sales)"
   ]
  },
  {
   "cell_type": "markdown",
   "id": "5137d118",
   "metadata": {},
   "source": [
    "#### Multiplication and Assignment Operator: *="
   ]
  },
  {
   "cell_type": "code",
   "execution_count": 50,
   "id": "7589bdb7",
   "metadata": {},
   "outputs": [
    {
     "name": "stdout",
     "output_type": "stream",
     "text": [
      "2000\n"
     ]
    }
   ],
   "source": [
    "sales = 1000\n",
    "sales *= 2\n",
    "\n",
    "print(sales)"
   ]
  },
  {
   "cell_type": "code",
   "execution_count": 51,
   "id": "baeb48df",
   "metadata": {},
   "outputs": [
    {
     "name": "stdout",
     "output_type": "stream",
     "text": [
      "2000\n"
     ]
    }
   ],
   "source": [
    "# This is the long version of the code\n",
    "sales = 1000\n",
    "sales = sales * 2\n",
    "\n",
    "print(sales)"
   ]
  },
  {
   "cell_type": "markdown",
   "id": "1766116f",
   "metadata": {},
   "source": [
    "#### Division and Assignment Operator: /="
   ]
  },
  {
   "cell_type": "code",
   "execution_count": 52,
   "id": "9be37401",
   "metadata": {},
   "outputs": [
    {
     "name": "stdout",
     "output_type": "stream",
     "text": [
      "333.3333333333333\n"
     ]
    }
   ],
   "source": [
    "sales = 1000\n",
    "sales /= 3\n",
    "\n",
    "print(sales)"
   ]
  },
  {
   "cell_type": "code",
   "execution_count": 53,
   "id": "e911ec2e",
   "metadata": {},
   "outputs": [
    {
     "name": "stdout",
     "output_type": "stream",
     "text": [
      "333.3333333333333\n"
     ]
    }
   ],
   "source": [
    "# This is the long version of the code\n",
    "sales = 1000\n",
    "sales = sales / 3\n",
    "\n",
    "print(sales)"
   ]
  },
  {
   "cell_type": "markdown",
   "id": "9672c9a0",
   "metadata": {},
   "source": [
    "#### Modulo and Assignment Operator: %="
   ]
  },
  {
   "cell_type": "code",
   "execution_count": 54,
   "id": "7786aa29",
   "metadata": {},
   "outputs": [
    {
     "name": "stdout",
     "output_type": "stream",
     "text": [
      "1\n"
     ]
    }
   ],
   "source": [
    "sales = 1000\n",
    "sales %= 3\n",
    "\n",
    "print(sales)"
   ]
  },
  {
   "cell_type": "code",
   "execution_count": 55,
   "id": "d703fa9e",
   "metadata": {},
   "outputs": [
    {
     "name": "stdout",
     "output_type": "stream",
     "text": [
      "1\n"
     ]
    }
   ],
   "source": [
    "# This is the long version of the code\n",
    "sales = 1000\n",
    "sales = sales % 3\n",
    "\n",
    "print(sales)"
   ]
  },
  {
   "cell_type": "markdown",
   "id": "f9f15518",
   "metadata": {},
   "source": [
    "#### Floor Division and Assignment Operator: //="
   ]
  },
  {
   "cell_type": "code",
   "execution_count": 56,
   "id": "c9b08353",
   "metadata": {},
   "outputs": [
    {
     "name": "stdout",
     "output_type": "stream",
     "text": [
      "333\n"
     ]
    }
   ],
   "source": [
    "sales = 1000\n",
    "sales //= 3\n",
    "\n",
    "print(sales)"
   ]
  },
  {
   "cell_type": "code",
   "execution_count": 57,
   "id": "36b44abd",
   "metadata": {},
   "outputs": [
    {
     "name": "stdout",
     "output_type": "stream",
     "text": [
      "333\n"
     ]
    }
   ],
   "source": [
    "# This is the long version of the code\n",
    "sales = 1000\n",
    "sales = sales // 3\n",
    "\n",
    "print(sales)"
   ]
  },
  {
   "cell_type": "markdown",
   "id": "910da731",
   "metadata": {},
   "source": [
    "#### Exponent and Assignment Operator: **="
   ]
  },
  {
   "cell_type": "code",
   "execution_count": 58,
   "id": "27c72eaa",
   "metadata": {},
   "outputs": [
    {
     "name": "stdout",
     "output_type": "stream",
     "text": [
      "1000000\n"
     ]
    }
   ],
   "source": [
    "sales = 1000\n",
    "sales **= 2\n",
    "\n",
    "print(sales)"
   ]
  },
  {
   "cell_type": "code",
   "execution_count": 59,
   "id": "c5e569ae",
   "metadata": {},
   "outputs": [
    {
     "name": "stdout",
     "output_type": "stream",
     "text": [
      "1000000\n"
     ]
    }
   ],
   "source": [
    "# This is the long version of the code\n",
    "sales = 1000\n",
    "sales = sales ** 2\n",
    "\n",
    "print(sales)"
   ]
  },
  {
   "cell_type": "markdown",
   "id": "edbbef8f",
   "metadata": {},
   "source": [
    "#### Bitwise AND and Assignment Operator: &="
   ]
  },
  {
   "cell_type": "code",
   "execution_count": 60,
   "id": "a49cc997",
   "metadata": {},
   "outputs": [
    {
     "name": "stdout",
     "output_type": "stream",
     "text": [
      "4\n"
     ]
    }
   ],
   "source": [
    "apple = 6\n",
    "banana = 13\n",
    "\n",
    "apple &= banana\n",
    "\n",
    "print(apple)"
   ]
  },
  {
   "cell_type": "code",
   "execution_count": 61,
   "id": "af47ce30",
   "metadata": {},
   "outputs": [
    {
     "name": "stdout",
     "output_type": "stream",
     "text": [
      "4\n"
     ]
    }
   ],
   "source": [
    "# This is the long version of the code\n",
    "apple = 6\n",
    "banana = 13\n",
    "\n",
    "apple = apple & banana\n",
    "\n",
    "print(apple)"
   ]
  },
  {
   "cell_type": "markdown",
   "id": "40e6962d",
   "metadata": {},
   "source": [
    "> To demostrate the Bitwise AND and Assign Operators in Python:<br>\n",
    "> Compares each bit and set it to 1 if both are 1, otherwise it is set to 0:\n",
    "\n",
    "| Value | Binary |\n",
    "|:-----:|:------:|\n",
    "|   6   |  0110  |\n",
    "|   13  |  1101  |\n",
    "|   ==  |  ====  |\n",
    "|   4   |  0100  |"
   ]
  },
  {
   "cell_type": "markdown",
   "id": "5ccdfdf0",
   "metadata": {},
   "source": [
    "#### Bitwise OR and Assignment Operator: |="
   ]
  },
  {
   "cell_type": "code",
   "execution_count": 62,
   "id": "482f856a",
   "metadata": {},
   "outputs": [
    {
     "name": "stdout",
     "output_type": "stream",
     "text": [
      "15\n"
     ]
    }
   ],
   "source": [
    "apple = 6\n",
    "banana = 13\n",
    "\n",
    "apple |= banana\n",
    "\n",
    "print(apple)"
   ]
  },
  {
   "cell_type": "code",
   "execution_count": 63,
   "id": "0b1e4a11",
   "metadata": {},
   "outputs": [
    {
     "name": "stdout",
     "output_type": "stream",
     "text": [
      "15\n"
     ]
    }
   ],
   "source": [
    "# This is the long version of the code\n",
    "apple = 6\n",
    "banana = 13\n",
    "\n",
    "apple = apple | banana\n",
    "\n",
    "print(apple)"
   ]
  },
  {
   "cell_type": "markdown",
   "id": "f3981ee8",
   "metadata": {},
   "source": [
    "> To demonstrate the Bitwise OR and Assign Operators in Python:<br>\n",
    "> Compares each bit and set it to 1 if one or both is 1, otherwise it is set to 0:\n",
    "\n",
    "\n",
    "| Value | Binary |\n",
    "|:-----:|:------:|\n",
    "|   6   |  0110  |\n",
    "|   13  |  1101  |\n",
    "|   ==  |  ====  |\n",
    "|   15   |  1111  |"
   ]
  },
  {
   "cell_type": "markdown",
   "id": "14ff4da1",
   "metadata": {},
   "source": [
    "#### Bitwise XOR and Assignment Operator: ^="
   ]
  },
  {
   "cell_type": "code",
   "execution_count": 64,
   "id": "49bbba1c",
   "metadata": {},
   "outputs": [
    {
     "name": "stdout",
     "output_type": "stream",
     "text": [
      "11\n"
     ]
    }
   ],
   "source": [
    "apple = 6\n",
    "banana = 13\n",
    "\n",
    "apple ^= banana\n",
    "\n",
    "print(apple)"
   ]
  },
  {
   "cell_type": "code",
   "execution_count": 65,
   "id": "0b890e78",
   "metadata": {},
   "outputs": [
    {
     "name": "stdout",
     "output_type": "stream",
     "text": [
      "11\n"
     ]
    }
   ],
   "source": [
    "# This is the long version of the code\n",
    "apple = 6\n",
    "banana = 13\n",
    "\n",
    "apple = apple ^ banana\n",
    "\n",
    "print(apple)"
   ]
  },
  {
   "cell_type": "markdown",
   "id": "35dd0f27",
   "metadata": {},
   "source": [
    "> To demonstrate the Bitwise XOR and Assign Operators in Python:<br>\n",
    "> Compares each bit and set it to 1 if only one is 1, otherwise (if both are 1 or both are 0) it is set to 0:\n",
    "\n",
    "| Value | Binary |\n",
    "|:-----:|:------:|\n",
    "|   6   |  0110  |\n",
    "|   13  |  1101  |\n",
    "|   ==  |  ====  |\n",
    "|   11   |  1011  |"
   ]
  },
  {
   "cell_type": "markdown",
   "id": "da588862",
   "metadata": {},
   "source": [
    "#### Bitwise Right Shift and Assignment Operator: >>="
   ]
  },
  {
   "cell_type": "code",
   "execution_count": 66,
   "id": "b08444af",
   "metadata": {},
   "outputs": [
    {
     "name": "stdout",
     "output_type": "stream",
     "text": [
      "1\n"
     ]
    }
   ],
   "source": [
    "apple = 6\n",
    "banana = 2\n",
    "\n",
    "apple >>= banana\n",
    "\n",
    "print(apple)"
   ]
  },
  {
   "cell_type": "code",
   "execution_count": 67,
   "id": "7b0fcedd",
   "metadata": {},
   "outputs": [
    {
     "name": "stdout",
     "output_type": "stream",
     "text": [
      "1\n"
     ]
    }
   ],
   "source": [
    "# This is the long version of the code\n",
    "apple = 6\n",
    "banana = 2\n",
    "\n",
    "apple = apple >> banana\n",
    "\n",
    "print(apple)"
   ]
  },
  {
   "cell_type": "markdown",
   "id": "7a550e44",
   "metadata": {},
   "source": [
    "> To demonstrate the Bitwise Righshift and Assign Operators in Python:<br>\n",
    "> Moves each bit the specified number of times, in this case, 2 times to the right. Empty holes at the left are filled with 0's.\n",
    "> If you move each bit 2 times to the right, 6 becomes 1:\n",
    "\n",
    "| Value | Binary |\n",
    "|:-----:|:------:|\n",
    "|   6   |  0110 |\n",
    "\n",
    "\n",
    "> becomes:\n",
    "\n",
    "| Value | Binary |\n",
    "|:-----:|:------:|\n",
    "|   1   |  0001 |"
   ]
  },
  {
   "cell_type": "markdown",
   "id": "c19599d4",
   "metadata": {},
   "source": [
    "#### Bitwise Left Shift and Assignment Operator: >>="
   ]
  },
  {
   "cell_type": "code",
   "execution_count": 68,
   "id": "034ae636",
   "metadata": {},
   "outputs": [
    {
     "name": "stdout",
     "output_type": "stream",
     "text": [
      "24\n"
     ]
    }
   ],
   "source": [
    "apple = 6\n",
    "banana = 2\n",
    "\n",
    "apple <<= banana\n",
    "\n",
    "print(apple)"
   ]
  },
  {
   "cell_type": "code",
   "execution_count": 69,
   "id": "4796cfba",
   "metadata": {},
   "outputs": [
    {
     "name": "stdout",
     "output_type": "stream",
     "text": [
      "24\n"
     ]
    }
   ],
   "source": [
    "# This is the long version of the code\n",
    "apple = 6\n",
    "banana = 2\n",
    "\n",
    "apple = apple << banana\n",
    "\n",
    "print(apple)"
   ]
  },
  {
   "cell_type": "markdown",
   "id": "522b4191",
   "metadata": {},
   "source": [
    "> To demonstrate the Bitwise Zero Fill Leftshift and Assign Operators in Python:<br>\n",
    "> Inserts the specified number of 0's, in this case, 2 from the right and let the same amount of leftmost bits fall off\n",
    "\n",
    "> If you push 00 in from the left, 6 becomes 24\n",
    "\n",
    "| Value | Binary |\n",
    "|:-----:|:------:|\n",
    "|   6   |  0110 |\n",
    "\n",
    "> becomes:\n",
    "\n",
    "| Value | Binary |\n",
    "|:-----:|:------:|\n",
    "|   24   |  11000 |\n",
    "\n"
   ]
  },
  {
   "cell_type": "markdown",
   "id": "d95c2f3b",
   "metadata": {},
   "source": [
    "## Exercise - Variables and Assignment Operators"
   ]
  },
  {
   "cell_type": "code",
   "execution_count": 70,
   "id": "8a1fab87",
   "metadata": {},
   "outputs": [
    {
     "name": "stdout",
     "output_type": "stream",
     "text": [
      "110000000\n"
     ]
    }
   ],
   "source": [
    "# Current population of the Philippines\n",
    "philippines_population = 95000000\n",
    "\n",
    "# Write a code to to reflect 30000000 who moved in and 5000000 who moved out\n",
    "philippines_population += 30000000 - 15000000\n",
    "print(philippines_population)"
   ]
  },
  {
   "cell_type": "code",
   "execution_count": 71,
   "id": "96f30cd7",
   "metadata": {},
   "outputs": [
    {
     "name": "stdout",
     "output_type": "stream",
     "text": [
      "104500000.0\n"
     ]
    }
   ],
   "source": [
    "# Current population of the Philippines\n",
    "philippines_population = 95000000\n",
    "\n",
    "# Write a code to reflect 10% increase in population\n",
    "philippines_population += philippines_population * .1\n",
    "print(philippines_population)"
   ]
  },
  {
   "cell_type": "code",
   "execution_count": 72,
   "id": "4b102173",
   "metadata": {},
   "outputs": [
    {
     "name": "stdout",
     "output_type": "stream",
     "text": [
      "90250000.0\n"
     ]
    }
   ],
   "source": [
    "# Current population of the Philippines\n",
    "philippines_population = 95000000\n",
    "\n",
    "# Write a code to reflect 5% decrease in population\n",
    "philippines_population -= philippines_population * .05\n",
    "print(philippines_population)"
   ]
  },
  {
   "cell_type": "markdown",
   "id": "003299b8",
   "metadata": {},
   "source": [
    "## Changing the value of variables"
   ]
  },
  {
   "cell_type": "code",
   "execution_count": 73,
   "id": "ba2ba180",
   "metadata": {},
   "outputs": [
    {
     "name": "stdout",
     "output_type": "stream",
     "text": [
      "3.0\n"
     ]
    }
   ],
   "source": [
    "# Consider this example. Compute how many chocolates per child.\n",
    "\n",
    "chocolates = 24\n",
    "children = 8\n",
    "\n",
    "choc_per_child = chocolates/children\n",
    "\n",
    "print(choc_per_child)"
   ]
  },
  {
   "cell_type": "code",
   "execution_count": 74,
   "id": "ad4efc6c",
   "metadata": {},
   "outputs": [
    {
     "name": "stdout",
     "output_type": "stream",
     "text": [
      "3.0\n"
     ]
    }
   ],
   "source": [
    "# What if we change the value of children to 6\n",
    "\n",
    "chocolates = 24\n",
    "children = 8\n",
    "\n",
    "choc_per_child = chocolates/children\n",
    "\n",
    "children = 6\n",
    "\n",
    "print(choc_per_child)"
   ]
  },
  {
   "cell_type": "markdown",
   "id": "003a4cf1",
   "metadata": {},
   "source": [
    "> In this case, the value of ``choc_per_child`` did not change even if we changed the value of ``children`` to 6.<br><br>\n",
    ">This is because when a variable is assigned, it is assigned to the value of the expression on the right-hand-side, not to the expression itself.<br><br>\n",
    "> Python actually did the calculation to evaluate the expression on the right-hand-side, ``chocolates/children``, and then assigned the variable ``choc_per_child`` to be the value of that expression. It promptly forgot the formula, only saving the result in the variable."
   ]
  },
  {
   "cell_type": "code",
   "execution_count": 75,
   "id": "2174d287",
   "metadata": {},
   "outputs": [
    {
     "name": "stdout",
     "output_type": "stream",
     "text": [
      "4.0\n"
     ]
    }
   ],
   "source": [
    "# In order to update the value of choc_per_child to take into account the change in children, we need to run this line again:\n",
    "# choc_per_child = chocolates/children\n",
    "\n",
    "chocolates = 24\n",
    "children = 8\n",
    "\n",
    "choc_per_child = chocolates/children\n",
    "\n",
    "children = 6\n",
    "choc_per_child = chocolates/children\n",
    "\n",
    "print(choc_per_child)"
   ]
  },
  {
   "cell_type": "markdown",
   "id": "b24bb54b",
   "metadata": {},
   "source": [
    "<a id='comparison'></a>\n",
    "## Comparison Operators\n",
    "\n",
    "**Comparison Operators (Relational Operators)** are used to compare two values. A True or False value is returned depending on the condition.\n",
    "\n",
    "- Here, you can see a full list of the comparison operators in Python. There are 6 comparison operators that are common to see in order to obtain a bool value: less than, greater than, less than or equal to, greater than or equal to, equal to, and not equal to.\n",
    "\n",
    "| Operator |               Operation               |                            Output                            |        Syntax |\n",
    "|:--------:|:-------------------------------------:|:------------------------------------------------------------:|:-------------:|\n",
    "|    ==    | Equal to                              | True   if both operands are equal                            |     x == y    |\n",
    "|    !=    | Not equal to                          | True   if operands are not equal                             |     x != y    |\n",
    "|     >    | Greater than                          | True   if the left operand is greater than the right         |     x > y     |\n",
    "|     <    |                             Less than | True if the left operand is less than the right              |     x < y     |\n",
    "|    >=    | Greater than or equal to              | True   if left operand is greater than or equal to the right |     x >= y    |\n",
    "|    <=    | Less than or equal to                 | True   if left operand is less than or equal to the right    |     x <= y    |\n",
    "\n",
    "\n",
    "- Notice that evaluating equality is performed with two equal signs and a ``not equal`` uses an exclamation point. This is a bit different than Excel or SQL."
   ]
  },
  {
   "cell_type": "markdown",
   "id": "5f76c317",
   "metadata": {},
   "source": [
    "#### Equal to"
   ]
  },
  {
   "cell_type": "code",
   "execution_count": 76,
   "id": "acaba5f4",
   "metadata": {},
   "outputs": [
    {
     "name": "stdout",
     "output_type": "stream",
     "text": [
      "False\n"
     ]
    }
   ],
   "source": [
    "my_height = 150\n",
    "your_height = 180\n",
    "\n",
    "print(my_height == your_height)"
   ]
  },
  {
   "cell_type": "markdown",
   "id": "cfb651a5",
   "metadata": {},
   "source": [
    "#### Not Equal to"
   ]
  },
  {
   "cell_type": "code",
   "execution_count": 77,
   "id": "b7da6c81",
   "metadata": {},
   "outputs": [
    {
     "name": "stdout",
     "output_type": "stream",
     "text": [
      "True\n"
     ]
    }
   ],
   "source": [
    "my_height = 150\n",
    "your_height = 180\n",
    "\n",
    "print(my_height != your_height)"
   ]
  },
  {
   "cell_type": "markdown",
   "id": "447e663a",
   "metadata": {},
   "source": [
    "#### Greater than"
   ]
  },
  {
   "cell_type": "code",
   "execution_count": 78,
   "id": "c7707ce4",
   "metadata": {},
   "outputs": [
    {
     "name": "stdout",
     "output_type": "stream",
     "text": [
      "False\n"
     ]
    }
   ],
   "source": [
    "my_height = 150\n",
    "your_height = 180\n",
    "\n",
    "print(my_height > your_height)"
   ]
  },
  {
   "cell_type": "markdown",
   "id": "dbad1b29",
   "metadata": {},
   "source": [
    "#### Less than"
   ]
  },
  {
   "cell_type": "code",
   "execution_count": 79,
   "id": "ffaa82e7",
   "metadata": {},
   "outputs": [
    {
     "name": "stdout",
     "output_type": "stream",
     "text": [
      "True\n"
     ]
    }
   ],
   "source": [
    "my_height = 150\n",
    "your_height = 180\n",
    "\n",
    "print(my_height < your_height)"
   ]
  },
  {
   "cell_type": "markdown",
   "id": "a394fca2",
   "metadata": {},
   "source": [
    "#### Greater than or equal to"
   ]
  },
  {
   "cell_type": "code",
   "execution_count": 80,
   "id": "34731400",
   "metadata": {},
   "outputs": [
    {
     "name": "stdout",
     "output_type": "stream",
     "text": [
      "False\n"
     ]
    }
   ],
   "source": [
    "my_height = 150\n",
    "your_height = 180\n",
    "\n",
    "print(my_height >= your_height)"
   ]
  },
  {
   "cell_type": "markdown",
   "id": "a8448aed",
   "metadata": {},
   "source": [
    "#### Less than or equal to"
   ]
  },
  {
   "cell_type": "code",
   "execution_count": 81,
   "id": "a9e07604",
   "metadata": {},
   "outputs": [
    {
     "name": "stdout",
     "output_type": "stream",
     "text": [
      "True\n"
     ]
    }
   ],
   "source": [
    "my_height = 150\n",
    "your_height = 180\n",
    "\n",
    "print(my_height <= your_height)"
   ]
  },
  {
   "cell_type": "markdown",
   "id": "d8e72773",
   "metadata": {},
   "source": [
    "<a id='logical'></a>\n",
    "## Logical Operators\n",
    "**Logical Operators** are used on conditional statements. \n",
    "\n",
    "\n",
    "\n",
    "| Operator |                                                        Operation                                                       |        Example        |\n",
    "|:--------:|:----------------------------------------------------------------------------------------------------------------------:|:---------------------:|\n",
    "|    and   | evaluates if both conditions are true                                                                                  | x < 5 and  x < 10     |\n",
    "|    or    | evaluates if atleast one of the conditions are true                                                                    | x < 5 or x < 4        |\n",
    "|    not   | applies to one condition   and  it reverses the result of that   condition, True becomes False and False becomes True. | not(x < 5 and x < 10) |"
   ]
  },
  {
   "cell_type": "markdown",
   "id": "2c2dc249",
   "metadata": {},
   "source": [
    "#### The Logical ``and`` operator"
   ]
  },
  {
   "cell_type": "code",
   "execution_count": 82,
   "id": "10c04c09",
   "metadata": {},
   "outputs": [
    {
     "name": "stdout",
     "output_type": "stream",
     "text": [
      "True\n"
     ]
    }
   ],
   "source": [
    "x = 20 \n",
    "\n",
    "print (x < 50 and x > 5)"
   ]
  },
  {
   "cell_type": "markdown",
   "id": "fcd0ce4a",
   "metadata": {},
   "source": [
    "> It returned ``True`` because 20 is greater than 50 and 20 is less than 5."
   ]
  },
  {
   "cell_type": "markdown",
   "id": "43a3a509",
   "metadata": {},
   "source": [
    "#### The Logical ``or`` operator"
   ]
  },
  {
   "cell_type": "code",
   "execution_count": 83,
   "id": "263edb2d",
   "metadata": {},
   "outputs": [
    {
     "name": "stdout",
     "output_type": "stream",
     "text": [
      "True\n"
     ]
    }
   ],
   "source": [
    "x = 20 \n",
    "\n",
    "print (x < 50 or x > 25)"
   ]
  },
  {
   "cell_type": "markdown",
   "id": "ebc3b8e1",
   "metadata": {},
   "source": [
    "> It returned ``True`` because at least one of the conditions are true which is 20 is greater than 50."
   ]
  },
  {
   "cell_type": "code",
   "execution_count": 84,
   "id": "2d896b57",
   "metadata": {},
   "outputs": [
    {
     "name": "stdout",
     "output_type": "stream",
     "text": [
      "False\n"
     ]
    }
   ],
   "source": [
    "x = 20 \n",
    "\n",
    "print (x < 10 or x > 25)"
   ]
  },
  {
   "cell_type": "markdown",
   "id": "c3a6a72e",
   "metadata": {},
   "source": [
    "> It returned ``False`` because none of the conditions are true. 20 is not less than 10 and 20 is not greater than 25. Both statements are false."
   ]
  },
  {
   "cell_type": "markdown",
   "id": "a361029d",
   "metadata": {},
   "source": [
    "#### The Logical ``not`` operator"
   ]
  },
  {
   "cell_type": "code",
   "execution_count": 85,
   "id": "7f9812b5",
   "metadata": {},
   "outputs": [
    {
     "name": "stdout",
     "output_type": "stream",
     "text": [
      "False\n"
     ]
    }
   ],
   "source": [
    "x = 20 \n",
    "\n",
    "print(not(x < 50))"
   ]
  },
  {
   "cell_type": "markdown",
   "id": "fbb161e1",
   "metadata": {},
   "source": [
    "> It returned ``False`` because ``not`` reverses the statement 20 is less than 50 which is true."
   ]
  },
  {
   "cell_type": "markdown",
   "id": "6cc125d6",
   "metadata": {},
   "source": [
    "<a id='bitwise'></a>\n",
    "## Bitwise Operators\n",
    "Computers store all kinds of information as a stream of binary digits called bits. Whether you’re working with text, images, or videos, they all boil down to ones and zeros. Python’s bitwise operators let you manipulate those individual bits of data at the most granular level.<br><br>\n",
    "In Python, bitwise operators are used to perform bitwise calculations on integers. The integers are first converted into binary and then operations are performed on each bit or corresponding pair of bits, hence the name bitwise operators. The result is then returned in decimal format. Simply said, bitwise operators are used to compare (binary) numbers.\n",
    "\n",
    "| Operator | Name                 | Description                                                                                               |\n",
    "|----------|----------------------|-----------------------------------------------------------------------------------------------------------|\n",
    "| &        | AND                  | Sets each bit to 1 if both bits are 1                                                                     |\n",
    "| \\|       | OR                   | Sets each bit to 1 if one of two bits is   1                                                              |\n",
    "|  ^       | XOR (Exclusive)      | Sets each bit to 1 if only one of two   bits is 1                                                         |\n",
    "| ~        | NOT                  | Inverts all the bits                                                                                      |\n",
    "| <<       | Zero fill left shift | Shift left by pushing zeros in from the   right and let the leftmost bits fall off                        |\n",
    "| >>       | Signed right shift   | Shift right by pushing copies of the   leftmost bit in from the left, and let the rightmost bits fall off |"
   ]
  },
  {
   "cell_type": "markdown",
   "id": "916f2a20",
   "metadata": {},
   "source": [
    "#### The Bitwise AND (&) Operator"
   ]
  },
  {
   "cell_type": "code",
   "execution_count": 86,
   "id": "ddb75ddd",
   "metadata": {},
   "outputs": [
    {
     "name": "stdout",
     "output_type": "stream",
     "text": [
      "2\n"
     ]
    }
   ],
   "source": [
    "x = 6\n",
    "y = 3\n",
    "\n",
    "z = x & y\n",
    "\n",
    "print(z)"
   ]
  },
  {
   "cell_type": "markdown",
   "id": "c9a21fe1",
   "metadata": {},
   "source": [
    "> The AND (&) operator compares each bit and set it to 1 if both are 1, otherwise it is set to 0:\n",
    "\n",
    "| Value | Binary |\n",
    "|:-----:|:------:|\n",
    "|   6   |  0110  |\n",
    "|   3   |  0011  |\n",
    "|   ==  |  ====  |\n",
    "|   2   |  0010  |"
   ]
  },
  {
   "cell_type": "markdown",
   "id": "1002ba98",
   "metadata": {},
   "source": [
    "#### The Bitwise OR (|) Operator"
   ]
  },
  {
   "cell_type": "code",
   "execution_count": 87,
   "id": "c049373d",
   "metadata": {},
   "outputs": [
    {
     "name": "stdout",
     "output_type": "stream",
     "text": [
      "7\n"
     ]
    }
   ],
   "source": [
    "x = 6\n",
    "y = 3\n",
    "\n",
    "z = x | y\n",
    "\n",
    "print(z)"
   ]
  },
  {
   "cell_type": "markdown",
   "id": "3fa8cefb",
   "metadata": {},
   "source": [
    "> The OR (|) operator compares each bit and set it to 1 if one or both is 1, otherwise it is set to 0:\n",
    "\n",
    "| Value | Binary |\n",
    "|:-----:|:------:|\n",
    "|   6   |  0110  |\n",
    "|   3   |  0011  |\n",
    "|   ==  |  ====  |\n",
    "|   7   |  0111  |"
   ]
  },
  {
   "cell_type": "markdown",
   "id": "706528b3",
   "metadata": {},
   "source": [
    "#### The Bitwise XOR (^) Operator"
   ]
  },
  {
   "cell_type": "code",
   "execution_count": 88,
   "id": "17b2eda5",
   "metadata": {},
   "outputs": [
    {
     "name": "stdout",
     "output_type": "stream",
     "text": [
      "5\n"
     ]
    }
   ],
   "source": [
    "x = 6\n",
    "y = 3\n",
    "\n",
    "z = x ^ y\n",
    "\n",
    "print(z)"
   ]
  },
  {
   "cell_type": "markdown",
   "id": "4718b20f",
   "metadata": {},
   "source": [
    "> The ^ operator compares each bit and set it to 1 if only one is 1, otherwise (if both are 1 or both are 0) it is set to 0:\n",
    "\n",
    "| Value | Binary |\n",
    "|:-----:|:------:|\n",
    "|   6   |  0110  |\n",
    "|   3   |  0011  |\n",
    "|   ==  |  ====  |\n",
    "|   5   |  0101  |"
   ]
  },
  {
   "cell_type": "markdown",
   "id": "01beee55",
   "metadata": {},
   "source": [
    "#### The Bitwise NOT (~) Operator"
   ]
  },
  {
   "cell_type": "code",
   "execution_count": 89,
   "id": "96dce3d6",
   "metadata": {},
   "outputs": [
    {
     "name": "stdout",
     "output_type": "stream",
     "text": [
      "-4\n"
     ]
    }
   ],
   "source": [
    "x = 3\n",
    "\n",
    "z = ~ x\n",
    "\n",
    "print(z)"
   ]
  },
  {
   "cell_type": "markdown",
   "id": "ac3df3ae",
   "metadata": {},
   "source": [
    "> The ~ operator inverts each bit (0 becomes 1 and 1 becomes 0):\n",
    "\n",
    "> Inverted 3 becomes -4\n",
    "\n",
    "| Value | Binary |\n",
    "|:-----:|:------:|\n",
    "|   3   |  0011  |\n",
    "|   ==  |  ====  |\n",
    "|   -4   |  100  |"
   ]
  },
  {
   "cell_type": "markdown",
   "id": "173416d8",
   "metadata": {},
   "source": [
    "#### The Bitwise LEFTSHIFT (<<) Operator"
   ]
  },
  {
   "cell_type": "code",
   "execution_count": 90,
   "id": "656c1656",
   "metadata": {},
   "outputs": [
    {
     "name": "stdout",
     "output_type": "stream",
     "text": [
      "12\n"
     ]
    }
   ],
   "source": [
    "x = 3\n",
    "y = 2\n",
    "\n",
    "z = x << y\n",
    "\n",
    "print(z)"
   ]
  },
  {
   "cell_type": "markdown",
   "id": "39dd5160",
   "metadata": {},
   "source": [
    "> The << operator inserts the specified number of 0's (in this case 2) from the right and let the same amount of leftmost bits fall off:\n",
    "\n",
    "> If you push 00 in from the left, 3 becomes 12\n",
    "\n",
    "| Value | Binary |\n",
    "|:-----:|:------:|\n",
    "|   3   |  0011  || \n",
    "\n",
    "> becomes:\n",
    "\n",
    "| Value | Binary |\n",
    "|:-----:|:------:|\n",
    "|   12   |  1100 |\n"
   ]
  },
  {
   "cell_type": "markdown",
   "id": "9ec8c1b9",
   "metadata": {},
   "source": [
    "#### The Bitwise RIGHTSHIFT (>>) Operator"
   ]
  },
  {
   "cell_type": "code",
   "execution_count": 91,
   "id": "3cc20e5e",
   "metadata": {},
   "outputs": [
    {
     "name": "stdout",
     "output_type": "stream",
     "text": [
      "2\n"
     ]
    }
   ],
   "source": [
    "x = 8\n",
    "y = 2\n",
    "\n",
    "z = x >> y\n",
    "\n",
    "print(z)"
   ]
  },
  {
   "cell_type": "markdown",
   "id": "9fc07d1b",
   "metadata": {},
   "source": [
    "> The >> operator moves each bit the specified number of times to the right. Empty holes at the left are filled with 0's.\n",
    "\n",
    "> If you move each bit 2 times to the right, 8 becomes 2:\n",
    "\n",
    "| Value | Binary |\n",
    "|:-----:|:------:|\n",
    "|   8   |  1000 |\n",
    "\n",
    "> becomes:\n",
    "\n",
    "| Value | Binary |\n",
    "|:-----:|:------:|\n",
    "|   2   |  0010 |"
   ]
  },
  {
   "cell_type": "markdown",
   "id": "03313d53",
   "metadata": {},
   "source": [
    "<a id='identity'></a>\n",
    "## Identity Operators\n",
    "\n",
    "**Identity Operators** are used to compare the objects, not if they are equal, but if they are actually the same object and share the same memory location.\n",
    "\n",
    "There are two identity operators:\n",
    "\n",
    "1. ``is`` operator - Evaluates to True if the variables on either side of the operator point to the same object, otherwise, it returns False.\n",
    "\n",
    "2. ``is not`` operator - Evaluates to False if the variables on either side of the operator point to the same object, otherwise, it returns True"
   ]
  },
  {
   "cell_type": "markdown",
   "id": "107bf570",
   "metadata": {},
   "source": [
    "#### ``is`` operator"
   ]
  },
  {
   "cell_type": "code",
   "execution_count": 92,
   "id": "c90c9b31",
   "metadata": {},
   "outputs": [
    {
     "name": "stdout",
     "output_type": "stream",
     "text": [
      "True\n"
     ]
    }
   ],
   "source": [
    "a = 20\n",
    "b = 20\n",
    "\n",
    "print(a is b)"
   ]
  },
  {
   "cell_type": "code",
   "execution_count": 93,
   "id": "cc90305d",
   "metadata": {},
   "outputs": [
    {
     "name": "stdout",
     "output_type": "stream",
     "text": [
      "True\n"
     ]
    }
   ],
   "source": [
    "a = 20\n",
    "b = 20\n",
    "c = a\n",
    "\n",
    "print(a is c)"
   ]
  },
  {
   "cell_type": "code",
   "execution_count": 94,
   "id": "2c887a8d",
   "metadata": {},
   "outputs": [
    {
     "name": "stdout",
     "output_type": "stream",
     "text": [
      "True\n"
     ]
    }
   ],
   "source": [
    "a = 'Hello'\n",
    "b = 'Hello'\n",
    "\n",
    "print(a is b)"
   ]
  },
  {
   "cell_type": "code",
   "execution_count": 95,
   "id": "6a113ed2",
   "metadata": {},
   "outputs": [
    {
     "name": "stdout",
     "output_type": "stream",
     "text": [
      "True\n"
     ]
    }
   ],
   "source": [
    "a = 'Hello'\n",
    "b = 'Hello'\n",
    "c = a\n",
    "\n",
    "print(a is c)"
   ]
  },
  {
   "cell_type": "code",
   "execution_count": 96,
   "id": "5c642c6d",
   "metadata": {},
   "outputs": [
    {
     "name": "stdout",
     "output_type": "stream",
     "text": [
      "False\n"
     ]
    }
   ],
   "source": [
    "a = ['Hello', 'World']\n",
    "b = ['Hello', 'World']\n",
    "\n",
    "print(a is b)"
   ]
  },
  {
   "cell_type": "markdown",
   "id": "761b26d4",
   "metadata": {},
   "source": [
    "> It returned False because a is not the same object as b, even if they have the same contents"
   ]
  },
  {
   "cell_type": "code",
   "execution_count": 97,
   "id": "1ae6fc55",
   "metadata": {},
   "outputs": [
    {
     "name": "stdout",
     "output_type": "stream",
     "text": [
      "True\n"
     ]
    }
   ],
   "source": [
    "a = ['Hello', 'World']\n",
    "b = ['Hello', 'World']\n",
    "c = a\n",
    "\n",
    "print(a is c)"
   ]
  },
  {
   "cell_type": "markdown",
   "id": "742596c5",
   "metadata": {},
   "source": [
    "#### The ``is`` versus ``==`` operator"
   ]
  },
  {
   "cell_type": "code",
   "execution_count": 98,
   "id": "d346e214",
   "metadata": {},
   "outputs": [
    {
     "name": "stdout",
     "output_type": "stream",
     "text": [
      "True\n"
     ]
    }
   ],
   "source": [
    "a = 20\n",
    "b = 20\n",
    "\n",
    "print(a is b)"
   ]
  },
  {
   "cell_type": "code",
   "execution_count": 99,
   "id": "d8299722",
   "metadata": {},
   "outputs": [
    {
     "name": "stdout",
     "output_type": "stream",
     "text": [
      "True\n"
     ]
    }
   ],
   "source": [
    "a = 20\n",
    "b = 20\n",
    "\n",
    "print(a == b)"
   ]
  },
  {
   "cell_type": "code",
   "execution_count": 100,
   "id": "6b291eff",
   "metadata": {},
   "outputs": [
    {
     "name": "stdout",
     "output_type": "stream",
     "text": [
      "False\n"
     ]
    }
   ],
   "source": [
    "a = ['Hello', 'World']\n",
    "b = ['Hello', 'World']\n",
    "\n",
    "print(a is b)"
   ]
  },
  {
   "cell_type": "code",
   "execution_count": 101,
   "id": "c55c0d67",
   "metadata": {},
   "outputs": [
    {
     "name": "stdout",
     "output_type": "stream",
     "text": [
      "True\n"
     ]
    }
   ],
   "source": [
    "a = ['Hello', 'World']\n",
    "b = ['Hello', 'World']\n",
    "\n",
    "print(a == b)"
   ]
  },
  {
   "cell_type": "markdown",
   "id": "88171eb1",
   "metadata": {},
   "source": [
    "#### ``is not`` operator"
   ]
  },
  {
   "cell_type": "code",
   "execution_count": 102,
   "id": "ec061dcb",
   "metadata": {},
   "outputs": [
    {
     "name": "stdout",
     "output_type": "stream",
     "text": [
      "False\n"
     ]
    }
   ],
   "source": [
    "x = [\"apple\", \"banana\"]\n",
    "y = [\"apple\", \"banana\"]\n",
    "z = x\n",
    "\n",
    "print(x is not z) # returns False because z is the same object as x"
   ]
  },
  {
   "cell_type": "code",
   "execution_count": 103,
   "id": "62df7773",
   "metadata": {},
   "outputs": [
    {
     "name": "stdout",
     "output_type": "stream",
     "text": [
      "True\n"
     ]
    }
   ],
   "source": [
    "x = [\"apple\", \"banana\"]\n",
    "y = [\"apple\", \"banana\"]\n",
    "z = x\n",
    "\n",
    "print(x is not y) # returns True because x is not the same object as y, even if they have the same content"
   ]
  },
  {
   "cell_type": "markdown",
   "id": "bfa016e8",
   "metadata": {},
   "source": [
    "#### The ``is not`` versus ``!=`` operator"
   ]
  },
  {
   "cell_type": "code",
   "execution_count": 104,
   "id": "4e86bb32",
   "metadata": {},
   "outputs": [
    {
     "name": "stdout",
     "output_type": "stream",
     "text": [
      "True\n"
     ]
    }
   ],
   "source": [
    "x = [\"orange\", \"lemon\"]\n",
    "y = [\"orange\", \"lemon\"]\n",
    "z = x\n",
    "\n",
    "print(x is not y) # returns True because x is not the same object as y, even if they have the same content"
   ]
  },
  {
   "cell_type": "code",
   "execution_count": 105,
   "id": "c48ab0d6",
   "metadata": {},
   "outputs": [
    {
     "name": "stdout",
     "output_type": "stream",
     "text": [
      "False\n"
     ]
    }
   ],
   "source": [
    "x = [\"orange\", \"lemon\"]\n",
    "y = [\"orange\", \"lemon\"]\n",
    "z = x\n",
    "\n",
    "print(x != y) # returns False because x is equal to y"
   ]
  },
  {
   "cell_type": "code",
   "execution_count": 106,
   "id": "6b90611a",
   "metadata": {},
   "outputs": [
    {
     "name": "stdout",
     "output_type": "stream",
     "text": [
      "False\n"
     ]
    }
   ],
   "source": [
    "x = [\"orange\", \"lemon\"]\n",
    "y = [\"orange\", \"lemon\"]\n",
    "z = x\n",
    "\n",
    "print(x is not z) # returns False because z is the same object as x"
   ]
  },
  {
   "cell_type": "code",
   "execution_count": 107,
   "id": "f7823588",
   "metadata": {},
   "outputs": [
    {
     "name": "stdout",
     "output_type": "stream",
     "text": [
      "False\n"
     ]
    }
   ],
   "source": [
    "x = [\"orange\", \"lemon\"]\n",
    "y = [\"orange\", \"lemon\"]\n",
    "z = x\n",
    "\n",
    "print(x != z) # # returns False because x is equal to y"
   ]
  },
  {
   "cell_type": "markdown",
   "id": "60a3da7a",
   "metadata": {},
   "source": [
    "<a id='membership'></a>\n",
    "## Membership Operators\n",
    "\n",
    "**Membership Operators** are used to test or check if an item exists in another item like a string, list, tuple or dictionary.\n",
    "\n",
    "There are two membership operators:\n",
    "\n",
    "1. ``in`` operator - returns True if the item exists, otherwise, returns False\n",
    "\n",
    "2. ``is not`` operator - returns True is the item does not exist, otherwise returns False"
   ]
  },
  {
   "cell_type": "code",
   "execution_count": 108,
   "id": "0c52d493",
   "metadata": {},
   "outputs": [
    {
     "name": "stdout",
     "output_type": "stream",
     "text": [
      "True\n"
     ]
    }
   ],
   "source": [
    "print('A' in 'Data Analyst')"
   ]
  },
  {
   "cell_type": "code",
   "execution_count": 109,
   "id": "43b563db",
   "metadata": {},
   "outputs": [
    {
     "name": "stdout",
     "output_type": "stream",
     "text": [
      "True\n"
     ]
    }
   ],
   "source": [
    "print('a' in 'Data Analyst')"
   ]
  },
  {
   "cell_type": "code",
   "execution_count": 110,
   "id": "e5ae3c01",
   "metadata": {},
   "outputs": [
    {
     "name": "stdout",
     "output_type": "stream",
     "text": [
      "False\n"
     ]
    }
   ],
   "source": [
    "print('T' in 'Data Analyst') # case-sensitive"
   ]
  },
  {
   "cell_type": "code",
   "execution_count": 111,
   "id": "7f80009a",
   "metadata": {},
   "outputs": [
    {
     "name": "stdout",
     "output_type": "stream",
     "text": [
      "False\n"
     ]
    }
   ],
   "source": [
    "members = ['Theresa', 'Lena', 'Samantha', 'Dorothea']\n",
    "print('Dorothy' in members)"
   ]
  },
  {
   "cell_type": "code",
   "execution_count": 112,
   "id": "1e9273ed",
   "metadata": {},
   "outputs": [
    {
     "name": "stdout",
     "output_type": "stream",
     "text": [
      "True\n"
     ]
    }
   ],
   "source": [
    "cust_code = [1512, 1501, 1500, 1555, 1522, 1523]\n",
    "print(1523 in cust_code)"
   ]
  },
  {
   "cell_type": "code",
   "execution_count": 113,
   "id": "4e8ac771",
   "metadata": {},
   "outputs": [
    {
     "name": "stdout",
     "output_type": "stream",
     "text": [
      "True\n"
     ]
    }
   ],
   "source": [
    "bank_details = {'bank_name': 'Philippine Savings Bank',\n",
    "                'bank_branch': 'Manila',\n",
    "                'bank_code': 'MNL',\n",
    "                'Swift_code': 'PSBMNL',\n",
    "                'IBAN': 'PH5256754213562568'\n",
    "               }\n",
    "\n",
    "print('bank_code' in bank_details)"
   ]
  },
  {
   "cell_type": "markdown",
   "id": "d713f90b",
   "metadata": {},
   "source": [
    "## III. Data Types\n",
    "Python has the following data types built-in by default, in these categories:\n",
    "\n",
    "| Built-in Types  | Data Types                   |\n",
    "|-----------------|------------------------------|\n",
    "| Text Type:      | str                          |\n",
    "| Numeric Types:  | int, float, complex          |\n",
    "| Sequence Types: | list, tuple, range           |\n",
    "| Mapping Type:   | dict                         |\n",
    "| Set Types:      | set, frozenset               |\n",
    "| Boolean Type:   | bool                         |\n",
    "| Binary Types:   | bytes, bytearray, memoryview |\n",
    "| None Type:      | NoneType                     |\n",
    "\n",
    "See full documentation about built-in datatypes [here](https://docs.python.org/3/library/stdtypes.html#)"
   ]
  },
  {
   "cell_type": "markdown",
   "id": "359789fc",
   "metadata": {},
   "source": [
    "<a id='int_and_float'></a>\n",
    "## Integers and Floats\n",
    "\n",
    "- Whole number or integers\n",
    "- Float - is a real number that uses decimal point to allow numbers with fractional values"
   ]
  },
  {
   "cell_type": "code",
   "execution_count": 114,
   "id": "2838fea0",
   "metadata": {},
   "outputs": [
    {
     "name": "stdout",
     "output_type": "stream",
     "text": [
      "<class 'int'>\n"
     ]
    }
   ],
   "source": [
    "print(type(10))"
   ]
  },
  {
   "cell_type": "code",
   "execution_count": 115,
   "id": "f30c1a38",
   "metadata": {},
   "outputs": [
    {
     "name": "stdout",
     "output_type": "stream",
     "text": [
      "<class 'float'>\n"
     ]
    }
   ],
   "source": [
    "print(type(10.0))"
   ]
  },
  {
   "cell_type": "code",
   "execution_count": 116,
   "id": "7c89fcee",
   "metadata": {},
   "outputs": [
    {
     "data": {
      "text/plain": [
       "5.0"
      ]
     },
     "execution_count": 116,
     "metadata": {},
     "output_type": "execute_result"
    }
   ],
   "source": [
    "10/2"
   ]
  },
  {
   "cell_type": "code",
   "execution_count": 117,
   "id": "ab00068b",
   "metadata": {},
   "outputs": [
    {
     "name": "stdout",
     "output_type": "stream",
     "text": [
      "<class 'float'>\n"
     ]
    }
   ],
   "source": [
    "print(type(10/2))"
   ]
  },
  {
   "cell_type": "code",
   "execution_count": 118,
   "id": "46ef3767",
   "metadata": {},
   "outputs": [
    {
     "data": {
      "text/plain": [
       "10.0"
      ]
     },
     "execution_count": 118,
     "metadata": {},
     "output_type": "execute_result"
    }
   ],
   "source": [
    "10/1"
   ]
  },
  {
   "cell_type": "code",
   "execution_count": 119,
   "id": "1b8efd3b",
   "metadata": {},
   "outputs": [
    {
     "name": "stdout",
     "output_type": "stream",
     "text": [
      "<class 'float'>\n"
     ]
    }
   ],
   "source": [
    "print(type(10/1))"
   ]
  },
  {
   "cell_type": "code",
   "execution_count": 120,
   "id": "f91d9067",
   "metadata": {},
   "outputs": [
    {
     "ename": "ZeroDivisionError",
     "evalue": "division by zero",
     "output_type": "error",
     "traceback": [
      "\u001b[1;31m---------------------------------------------------------------------------\u001b[0m",
      "\u001b[1;31mZeroDivisionError\u001b[0m                         Traceback (most recent call last)",
      "\u001b[1;32mC:\\Users\\MARTIN~1\\AppData\\Local\\Temp/ipykernel_15084/2874912419.py\u001b[0m in \u001b[0;36m<module>\u001b[1;34m\u001b[0m\n\u001b[1;32m----> 1\u001b[1;33m \u001b[1;36m5\u001b[0m\u001b[1;33m/\u001b[0m\u001b[1;36m0\u001b[0m\u001b[1;33m\u001b[0m\u001b[1;33m\u001b[0m\u001b[0m\n\u001b[0m",
      "\u001b[1;31mZeroDivisionError\u001b[0m: division by zero"
     ]
    }
   ],
   "source": [
    "5/0"
   ]
  },
  {
   "cell_type": "markdown",
   "id": "1d007464",
   "metadata": {},
   "source": [
    "> Traceback means \"What was the programming doing when it broke\"! This part is usually less helpful than the very last line of your error. Though you can dig through the rest of the error, looking at just the final line ZeroDivisionError, and the message says we divided by zero. Python is enforcing the rules of arithmetic!<br>\n",
    "\n",
    "> In general, there are two types of errors to look out for:\n",
    ">- Exceptions\n",
    ">- Syntax\n",
    "\n",
    "> An Exception is a problem that occurs when the code is running, but a 'Syntax Error' is a problem detected when Python checks the code before it runs it."
   ]
  },
  {
   "cell_type": "markdown",
   "id": "0bcfa01f",
   "metadata": {},
   "source": [
    "<a id='bool_comp_log'></a>\n",
    "## Booleans, Comparison Operators, and Logical Operators\n",
    "\n"
   ]
  },
  {
   "cell_type": "markdown",
   "id": "3de523e8",
   "metadata": {},
   "source": [
    "<a id='boolean'></a>\n",
    "## Booelan\n",
    "- Another type is Bool which is used to represent the values true and false. The bool data type holds one of the values True or False, which are often encoded as 1 or 0, respectively. Bool is an abbreviation of boolean. Boolean Algebra is a branch of algebra dealing with variables whose values are true or false. Boolean algebra is named for its inventor George Bool."
   ]
  },
  {
   "cell_type": "code",
   "execution_count": 121,
   "id": "22b2e957",
   "metadata": {},
   "outputs": [
    {
     "name": "stdout",
     "output_type": "stream",
     "text": [
      "False\n"
     ]
    }
   ],
   "source": [
    "x = 42 > 43\n",
    "print(x)"
   ]
  },
  {
   "cell_type": "code",
   "execution_count": 122,
   "id": "676c31dc",
   "metadata": {},
   "outputs": [
    {
     "name": "stdout",
     "output_type": "stream",
     "text": [
      "<class 'bool'>\n"
     ]
    }
   ],
   "source": [
    "print(type(x))"
   ]
  },
  {
   "cell_type": "code",
   "execution_count": 123,
   "id": "714c0ebd",
   "metadata": {},
   "outputs": [
    {
     "name": "stdout",
     "output_type": "stream",
     "text": [
      "True\n"
     ]
    }
   ],
   "source": [
    "age = 14\n",
    "is_teen = age > 12 and age < 20\n",
    "\n",
    "print(is_teen)"
   ]
  },
  {
   "cell_type": "markdown",
   "id": "c7bd604f",
   "metadata": {},
   "source": [
    "> Here's an example that evaluates whether age is within the range of a teenager. Here, you can imagine the 14 being placed in these two spots. Then, if both are true, true will be assigned to the variable is_teen. In other words if the person is older than 12 and younger than 20 this person is a teen."
   ]
  },
  {
   "cell_type": "code",
   "execution_count": 124,
   "id": "ffed123b",
   "metadata": {},
   "outputs": [
    {
     "name": "stdout",
     "output_type": "stream",
     "text": [
      "False\n"
     ]
    }
   ],
   "source": [
    "age = 14\n",
    "not_teen = not (age > 12 and age < 20)\n",
    "\n",
    "print(not_teen)"
   ]
  },
  {
   "cell_type": "markdown",
   "id": "29507343",
   "metadata": {},
   "source": [
    "> And here's ``not`` an action inversing the boolean type of same statement."
   ]
  },
  {
   "cell_type": "markdown",
   "id": "75de4e92",
   "metadata": {},
   "source": [
    "<a id='strings'></a>\n",
    "## Strings\n",
    "\n",
    "- To work with text in Python, you will need to use a string, which is an immutable ordered series of characters.\n",
    "- You can create a string by using quotes. Single or double quotes work equally well,"
   ]
  },
  {
   "cell_type": "code",
   "execution_count": 125,
   "id": "ecb38c37",
   "metadata": {},
   "outputs": [
    {
     "name": "stdout",
     "output_type": "stream",
     "text": [
      "I love you\n",
      "I love you\n"
     ]
    }
   ],
   "source": [
    "print('I love you') # string within single quotes\n",
    "print(\"I love you\") # string within double quotes"
   ]
  },
  {
   "cell_type": "code",
   "execution_count": 126,
   "id": "ea06b228",
   "metadata": {},
   "outputs": [
    {
     "name": "stdout",
     "output_type": "stream",
     "text": [
      "Hello, welcome to my world.\n"
     ]
    }
   ],
   "source": [
    "welcome_message = \"Hello, welcome to my world.\"\n",
    "print(welcome_message)"
   ]
  },
  {
   "cell_type": "markdown",
   "id": "45bfe603",
   "metadata": {},
   "source": [
    "> We can set a variable to be a string the same way we did with numbers. Strings can include any characters, even spaces, punctuation and numbers."
   ]
  },
  {
   "cell_type": "code",
   "execution_count": 127,
   "id": "2312cbc9",
   "metadata": {},
   "outputs": [
    {
     "name": "stdout",
     "output_type": "stream",
     "text": [
      "Hi, effective immediately, you can now vote using 'yes', 'no' or 'not applicable'\n"
     ]
    }
   ],
   "source": [
    "text_message = \"Hi, effective immediately, you can now vote using 'yes', 'no' or 'not applicable'\"\n",
    "print(text_message)"
   ]
  },
  {
   "cell_type": "code",
   "execution_count": 128,
   "id": "8f993d7d",
   "metadata": {},
   "outputs": [
    {
     "name": "stdout",
     "output_type": "stream",
     "text": [
      "Hi, if you're active, please respond with 'yes'\n"
     ]
    }
   ],
   "source": [
    "text_message1 = \"Hi, if you're active, please respond with 'yes'\"\n",
    "print(text_message1)"
   ]
  },
  {
   "cell_type": "markdown",
   "id": "ff86f71f",
   "metadata": {},
   "source": [
    "### Using + sign to concatenate strings"
   ]
  },
  {
   "cell_type": "code",
   "execution_count": 129,
   "id": "738a2416",
   "metadata": {},
   "outputs": [
    {
     "data": {
      "text/plain": [
       "'HelloThere'"
      ]
     },
     "execution_count": 129,
     "metadata": {},
     "output_type": "execute_result"
    }
   ],
   "source": [
    "word1 = 'Hello'\n",
    "word2 = 'There'\n",
    "\n",
    "word1 + word2"
   ]
  },
  {
   "cell_type": "code",
   "execution_count": 130,
   "id": "88fbd3fd",
   "metadata": {},
   "outputs": [
    {
     "data": {
      "text/plain": [
       "'Hello There'"
      ]
     },
     "execution_count": 130,
     "metadata": {},
     "output_type": "execute_result"
    }
   ],
   "source": [
    "word1 = 'Hello'\n",
    "word2 = 'There'\n",
    "\n",
    "word1 + ' ' + word2"
   ]
  },
  {
   "cell_type": "markdown",
   "id": "6956c523",
   "metadata": {},
   "source": [
    "### Using * sign to repeat strings as may times as it is multiplied"
   ]
  },
  {
   "cell_type": "code",
   "execution_count": 131,
   "id": "dbc1a174",
   "metadata": {},
   "outputs": [
    {
     "name": "stdout",
     "output_type": "stream",
     "text": [
      "HelloHelloHelloHelloHello\n"
     ]
    }
   ],
   "source": [
    "word = 'Hello'\n",
    "print (word * 5)"
   ]
  },
  {
   "cell_type": "markdown",
   "id": "850b905b",
   "metadata": {},
   "source": [
    "### Strings are unsupported type for subtraction and division"
   ]
  },
  {
   "cell_type": "code",
   "execution_count": 132,
   "id": "5ec171ba",
   "metadata": {},
   "outputs": [
    {
     "ename": "TypeError",
     "evalue": "unsupported operand type(s) for -: 'str' and 'str'",
     "output_type": "error",
     "traceback": [
      "\u001b[1;31m---------------------------------------------------------------------------\u001b[0m",
      "\u001b[1;31mTypeError\u001b[0m                                 Traceback (most recent call last)",
      "\u001b[1;32mC:\\Users\\MARTIN~1\\AppData\\Local\\Temp/ipykernel_15084/2887274729.py\u001b[0m in \u001b[0;36m<module>\u001b[1;34m\u001b[0m\n\u001b[0;32m      2\u001b[0m \u001b[0mword2\u001b[0m \u001b[1;33m=\u001b[0m \u001b[1;34m'There'\u001b[0m\u001b[1;33m\u001b[0m\u001b[1;33m\u001b[0m\u001b[0m\n\u001b[0;32m      3\u001b[0m \u001b[1;33m\u001b[0m\u001b[0m\n\u001b[1;32m----> 4\u001b[1;33m \u001b[0mprint\u001b[0m\u001b[1;33m(\u001b[0m\u001b[0mword1\u001b[0m \u001b[1;33m-\u001b[0m \u001b[0mword2\u001b[0m\u001b[1;33m)\u001b[0m\u001b[1;33m\u001b[0m\u001b[1;33m\u001b[0m\u001b[0m\n\u001b[0m",
      "\u001b[1;31mTypeError\u001b[0m: unsupported operand type(s) for -: 'str' and 'str'"
     ]
    }
   ],
   "source": [
    "word1 = 'Hello'\n",
    "word2 = 'There'\n",
    "\n",
    "print(word1 - word2)"
   ]
  },
  {
   "cell_type": "code",
   "execution_count": 133,
   "id": "1fae8d40",
   "metadata": {},
   "outputs": [
    {
     "ename": "TypeError",
     "evalue": "unsupported operand type(s) for /: 'str' and 'str'",
     "output_type": "error",
     "traceback": [
      "\u001b[1;31m---------------------------------------------------------------------------\u001b[0m",
      "\u001b[1;31mTypeError\u001b[0m                                 Traceback (most recent call last)",
      "\u001b[1;32mC:\\Users\\MARTIN~1\\AppData\\Local\\Temp/ipykernel_15084/2694282450.py\u001b[0m in \u001b[0;36m<module>\u001b[1;34m\u001b[0m\n\u001b[0;32m      2\u001b[0m \u001b[0mword2\u001b[0m \u001b[1;33m=\u001b[0m \u001b[1;34m'There'\u001b[0m\u001b[1;33m\u001b[0m\u001b[1;33m\u001b[0m\u001b[0m\n\u001b[0;32m      3\u001b[0m \u001b[1;33m\u001b[0m\u001b[0m\n\u001b[1;32m----> 4\u001b[1;33m \u001b[0mprint\u001b[0m\u001b[1;33m(\u001b[0m\u001b[0mword1\u001b[0m \u001b[1;33m/\u001b[0m \u001b[0mword2\u001b[0m\u001b[1;33m)\u001b[0m\u001b[1;33m\u001b[0m\u001b[1;33m\u001b[0m\u001b[0m\n\u001b[0m",
      "\u001b[1;31mTypeError\u001b[0m: unsupported operand type(s) for /: 'str' and 'str'"
     ]
    }
   ],
   "source": [
    "word1 = 'Hello'\n",
    "word2 = 'There'\n",
    "\n",
    "print(word1 / word2)"
   ]
  },
  {
   "attachments": {
    "builtinfunctions.jpg": {
     "image/jpeg": "[encoded data removed]"
    }
   },
   "cell_type": "markdown",
   "id": "10369811",
   "metadata": {},
   "source": [
    "## IV. Built-in Functions and Type \n",
    "\n",
    "- Functions are very similar to operators. In fact, the only real difference is in how they look.\n",
    "- Function inputs are put in parentheses rather than being placed next to an operator, and functions have descriptive names rather than short symbols.\n",
    "- The Python interpreter has a number of functions and types built into it that are always available. They are listed here in alphabetical order. For complete documentation on built-in functions, see [here](https://docs.python.org/3/library/functions.html)\n",
    "\n",
    "![builtinfunctions.jpg](attachment:builtinfunctions.jpg)"
   ]
  },
  {
   "cell_type": "markdown",
   "id": "6c5b6840",
   "metadata": {},
   "source": [
    "<a id='print'></a>\n",
    "## The print() function\n",
    "``print()`` is a built-in function that prints the specified message to the standard output device (screen).\n",
    "\n",
    "The message can be a string, or any other object, the object will be converted into a string before written to the screen."
   ]
  },
  {
   "cell_type": "code",
   "execution_count": 134,
   "id": "d76128cc",
   "metadata": {},
   "outputs": [
    {
     "name": "stdout",
     "output_type": "stream",
     "text": [
      "Welcome to Python Fundamentals!\n"
     ]
    }
   ],
   "source": [
    "print('Welcome to Python Fundamentals!')"
   ]
  },
  {
   "cell_type": "code",
   "execution_count": 135,
   "id": "e52bc16b",
   "metadata": {},
   "outputs": [
    {
     "name": "stdout",
     "output_type": "stream",
     "text": [
      "450\n"
     ]
    }
   ],
   "source": [
    "print(450)"
   ]
  },
  {
   "cell_type": "code",
   "execution_count": 136,
   "id": "f91f2f07",
   "metadata": {},
   "outputs": [
    {
     "name": "stdout",
     "output_type": "stream",
     "text": [
      "True\n"
     ]
    }
   ],
   "source": [
    "print(25 == 5 * 5)"
   ]
  },
  {
   "cell_type": "code",
   "execution_count": 137,
   "id": "75a365b4",
   "metadata": {},
   "outputs": [
    {
     "name": "stdout",
     "output_type": "stream",
     "text": [
      "1850\n"
     ]
    }
   ],
   "source": [
    "print(2000 - 150)"
   ]
  },
  {
   "cell_type": "markdown",
   "id": "a546e837",
   "metadata": {},
   "source": [
    "<a id='len'></a>\n",
    "## len() function\n",
    "- A useful function that's built into Python is ``len()`` which can tell us the length of a string. This is just the number of characters in the string. ``len()`` is like print in that it's a built-in function that takes in a value in parentheses to perform an action. ``len()`` differs from print in that it returns a value that can be stored in a variable."
   ]
  },
  {
   "cell_type": "code",
   "execution_count": 138,
   "id": "13c9ae62",
   "metadata": {},
   "outputs": [
    {
     "data": {
      "text/plain": [
       "5"
      ]
     },
     "execution_count": 138,
     "metadata": {},
     "output_type": "execute_result"
    }
   ],
   "source": [
    "word1 = 'hello'\n",
    "len(word1)"
   ]
  },
  {
   "cell_type": "markdown",
   "id": "f2b76a3c",
   "metadata": {},
   "source": [
    "<a id='type'></a>\n",
    "## type() function\n",
    "- you can check the type of any object directly using the built-in function ``type()``."
   ]
  },
  {
   "cell_type": "code",
   "execution_count": 139,
   "id": "445430c9",
   "metadata": {},
   "outputs": [
    {
     "name": "stdout",
     "output_type": "stream",
     "text": [
      "<class 'str'>\n",
      "<class 'int'>\n",
      "<class 'float'>\n",
      "<class 'bool'>\n"
     ]
    }
   ],
   "source": [
    "print(type('hello'))\n",
    "print(type(150000))\n",
    "print(type(33.33))\n",
    "print(type(True))"
   ]
  },
  {
   "cell_type": "code",
   "execution_count": 140,
   "id": "a6258294",
   "metadata": {},
   "outputs": [
    {
     "name": "stdout",
     "output_type": "stream",
     "text": [
      "<class 'int'>\n",
      "<class 'str'>\n",
      "<class 'float'>\n"
     ]
    }
   ],
   "source": [
    "print(type(500))\n",
    "print(type('500'))\n",
    "print(type(500.0))"
   ]
  },
  {
   "cell_type": "markdown",
   "id": "dc451934",
   "metadata": {},
   "source": [
    "> We use parenthesis to define the order in which functions get run. What's contained in one set of parenthesis needs to be evaluated first before being given as input to the next function.\n",
    "\n",
    ">Here, the ``type()`` function is run first and then its output is printed.\n"
   ]
  },
  {
   "cell_type": "markdown",
   "id": "8595474f",
   "metadata": {},
   "source": [
    "<a id='int'></a>\n",
    "## int() function\n",
    "- create an integer from a float"
   ]
  },
  {
   "cell_type": "code",
   "execution_count": 141,
   "id": "4c04f3dc",
   "metadata": {},
   "outputs": [
    {
     "name": "stdout",
     "output_type": "stream",
     "text": [
      "4\n",
      "<class 'int'>\n"
     ]
    }
   ],
   "source": [
    "count = int(4.0)\n",
    "print(count)\n",
    "print(type(count))"
   ]
  },
  {
   "cell_type": "markdown",
   "id": "a0915fcc",
   "metadata": {},
   "source": [
    "<a id='str'></a>\n",
    "## str() function\n",
    "- create a string from an integer"
   ]
  },
  {
   "cell_type": "code",
   "execution_count": 142,
   "id": "594ea851",
   "metadata": {},
   "outputs": [
    {
     "name": "stdout",
     "output_type": "stream",
     "text": [
      "<class 'int'>\n",
      "3 Muhlenweg, Vettweiss\n"
     ]
    }
   ],
   "source": [
    "house_number = 3\n",
    "street = 'Muhlenweg'\n",
    "town = 'Vettweiss'\n",
    "\n",
    "print(type(house_number))\n",
    "\n",
    "address = str(house_number) + ' ' + street + ', ' + town\n",
    "print(address)"
   ]
  },
  {
   "cell_type": "markdown",
   "id": "4ed15f42",
   "metadata": {},
   "source": [
    "<a id='float'></a>\n",
    "## float() function\n",
    "- create a float or integer from a string"
   ]
  },
  {
   "cell_type": "code",
   "execution_count": 143,
   "id": "ef59eff8",
   "metadata": {},
   "outputs": [
    {
     "name": "stdout",
     "output_type": "stream",
     "text": [
      "35.0\n",
      "<class 'str'>\n",
      "35.0\n",
      "<class 'float'>\n"
     ]
    }
   ],
   "source": [
    "grams = '35.0'\n",
    "print(grams)\n",
    "print(type(grams))\n",
    "\n",
    "grams = float(grams)\n",
    "print(grams)\n",
    "print(type(grams))"
   ]
  },
  {
   "cell_type": "code",
   "execution_count": 144,
   "id": "87ad0e9b",
   "metadata": {},
   "outputs": [
    {
     "name": "stdout",
     "output_type": "stream",
     "text": [
      "40\n",
      "<class 'str'>\n",
      "40\n",
      "<class 'int'>\n"
     ]
    }
   ],
   "source": [
    "age = '40'\n",
    "print(age)\n",
    "print(type(age))\n",
    "\n",
    "age = int(age)\n",
    "print(age)\n",
    "print(type(age))"
   ]
  },
  {
   "attachments": {
    "image-2.png": {
     "image/png": "[encoded data removed]"
    }
   },
   "cell_type": "markdown",
   "id": "8f4b7be8",
   "metadata": {},
   "source": [
    "<a id='string_method'></a>\n",
    "## String Methods\n",
    "\n",
    "- There is a third technique for operating on values, methods. The best way to learn about methods is with an example.\n",
    "- A method in Python behaves similarly to a function. Methods actually are functions that are called using dot notation\n",
    "- Methods are related to functions, but unlike functions, methods are associated with specific types of objects.\n",
    "- That is, there are different methods depending on the type of data you're working with.\n",
    "- So methods are functions that belong to an object, an object, for example, being a string. \n",
    "- Methods are specific to the data type for a particular variable. So there are some built-in methods that are available for all strings, different methods that are available for all integers, etc.\n",
    "- Below is an image that shows some methods that are possible with any string.\n",
    "- For complete list see [Python documentation for string methods](https://docs.python.org/3/library/stdtypes.html#string-methods)\n",
    "\n",
    "![image-2.png](attachment:image-2.png)"
   ]
  },
  {
   "cell_type": "markdown",
   "id": "83053fa5",
   "metadata": {},
   "source": [
    "<a id='title'></a>\n",
    "### .title() method\n",
    "- The method returns a string in title case, meaning the first letter of each word is capitalized"
   ]
  },
  {
   "cell_type": "code",
   "execution_count": 145,
   "id": "7b2d978a",
   "metadata": {},
   "outputs": [
    {
     "name": "stdout",
     "output_type": "stream",
     "text": [
      "Dorothy Kunth\n"
     ]
    }
   ],
   "source": [
    "name = 'dorothy kunth'\n",
    "print(name.title())"
   ]
  },
  {
   "cell_type": "markdown",
   "id": "ac3621f9",
   "metadata": {},
   "source": [
    "<a id='islower'></a>\n",
    "### .islower() method\n",
    "- The islower method checks whether the characters in a string are lowercase."
   ]
  },
  {
   "cell_type": "code",
   "execution_count": 146,
   "id": "7c293f74",
   "metadata": {},
   "outputs": [
    {
     "name": "stdout",
     "output_type": "stream",
     "text": [
      "False\n"
     ]
    }
   ],
   "source": [
    "name = 'Dorothy Kunth'\n",
    "print(name.islower())"
   ]
  },
  {
   "cell_type": "code",
   "execution_count": 147,
   "id": "af0930a0",
   "metadata": {},
   "outputs": [
    {
     "name": "stdout",
     "output_type": "stream",
     "text": [
      "True\n"
     ]
    }
   ],
   "source": [
    "name = 'samantha kunth'\n",
    "print(name.islower())"
   ]
  },
  {
   "cell_type": "markdown",
   "id": "8f221d99",
   "metadata": {},
   "source": [
    "> When we call the islower and title methods, we use parentheses, but we haven't put anything in them like we did when calling functions.\n",
    "> Those inputs in the parentheses are called arguments.\n",
    "> Since methods or special types of functions that belong to an object, the object is always the first argument to a method. So, islower and title actually did have an argument although there was nothing in the parentheses. The argument is disguised as the string object."
   ]
  },
  {
   "cell_type": "markdown",
   "id": "d72b6f3b",
   "metadata": {},
   "source": [
    "<a id='count'></a>\n",
    "### .count() method"
   ]
  },
  {
   "cell_type": "code",
   "execution_count": 148,
   "id": "687b9446",
   "metadata": {},
   "outputs": [
    {
     "name": "stdout",
     "output_type": "stream",
     "text": [
      "10\n",
      "3\n"
     ]
    }
   ],
   "source": [
    "song = 'One little two little three little indians \\\n",
    "        four little five little six little indians \\\n",
    "        seven little eight little nine little indians 10 little indian boys'\n",
    "\n",
    "print(song.count('little'))\n",
    "print(song.count('indians'))"
   ]
  },
  {
   "cell_type": "markdown",
   "id": "d50fe515",
   "metadata": {},
   "source": [
    "> Here, the count method returns how many times the substring 'little' and 'indians' occur in the string.\n",
    "\n",
    "> The object is the string 'One little two little three little indians four little five little six little indians seven little eight little nine little indians 10 little indian boys'.\n",
    "\n",
    "> The method is .count().\n",
    "\n",
    "> The arguments are little and indians"
   ]
  },
  {
   "cell_type": "markdown",
   "id": "0cebab7c",
   "metadata": {},
   "source": [
    "<a id='find'></a>\n",
    "### .find() method\n",
    "- The find() method finds the first occurrence of the specified value.\n",
    "- The find() method returns -1 if the value is not found\n",
    "- The find() method is almost the same as the index() method, the only difference is that the index() method raises an exception if the value is not found\n",
    "\n"
   ]
  },
  {
   "cell_type": "code",
   "execution_count": 149,
   "id": "9c821298",
   "metadata": {},
   "outputs": [
    {
     "name": "stdout",
     "output_type": "stream",
     "text": [
      "1\n"
     ]
    }
   ],
   "source": [
    "name = 'Samantha Kunth'\n",
    "print(name.find('a'))"
   ]
  },
  {
   "cell_type": "code",
   "execution_count": 150,
   "id": "fac2ba8c",
   "metadata": {},
   "outputs": [
    {
     "name": "stdout",
     "output_type": "stream",
     "text": [
      "0\n"
     ]
    }
   ],
   "source": [
    "name = 'Samantha Kunth'\n",
    "print(name.find('S'))"
   ]
  },
  {
   "cell_type": "code",
   "execution_count": 151,
   "id": "8ba75f32",
   "metadata": {},
   "outputs": [
    {
     "name": "stdout",
     "output_type": "stream",
     "text": [
      "-1\n"
     ]
    }
   ],
   "source": [
    "name = 'Samantha Kunth'\n",
    "print(name.find('z'))"
   ]
  },
  {
   "cell_type": "markdown",
   "id": "bd79370d",
   "metadata": {},
   "source": [
    "<a id='rfind'></a>\n",
    "### .rfind() method\n",
    "- The rfind() method finds the last occurrence of the specified value."
   ]
  },
  {
   "cell_type": "code",
   "execution_count": 152,
   "id": "aad26514",
   "metadata": {},
   "outputs": [
    {
     "name": "stdout",
     "output_type": "stream",
     "text": [
      "7\n"
     ]
    }
   ],
   "source": [
    "name = 'Samantha Kunth'\n",
    "print(name.rfind('a'))"
   ]
  },
  {
   "cell_type": "code",
   "execution_count": 153,
   "id": "ad0d98cf",
   "metadata": {},
   "outputs": [
    {
     "name": "stdout",
     "output_type": "stream",
     "text": [
      "0\n"
     ]
    }
   ],
   "source": [
    "name = 'Samantha Kunth'\n",
    "print(name.rfind('S'))"
   ]
  },
  {
   "cell_type": "markdown",
   "id": "525424f7",
   "metadata": {},
   "source": [
    "<a id='index'></a>\n",
    "### .index() method\n",
    "- Like .find() method, but raises ValueError when the substring is not found."
   ]
  },
  {
   "cell_type": "code",
   "execution_count": 154,
   "id": "9a4520a7",
   "metadata": {},
   "outputs": [
    {
     "name": "stdout",
     "output_type": "stream",
     "text": [
      "1\n"
     ]
    }
   ],
   "source": [
    "name = 'Samantha Kunth'\n",
    "print(name.index('a'))"
   ]
  },
  {
   "cell_type": "code",
   "execution_count": 155,
   "id": "b5ded21d",
   "metadata": {},
   "outputs": [
    {
     "name": "stdout",
     "output_type": "stream",
     "text": [
      "0\n"
     ]
    }
   ],
   "source": [
    "name = 'Samantha Kunth'\n",
    "print(name.index('S'))"
   ]
  },
  {
   "cell_type": "code",
   "execution_count": 156,
   "id": "63ebc529",
   "metadata": {},
   "outputs": [
    {
     "ename": "ValueError",
     "evalue": "substring not found",
     "output_type": "error",
     "traceback": [
      "\u001b[1;31m---------------------------------------------------------------------------\u001b[0m",
      "\u001b[1;31mValueError\u001b[0m                                Traceback (most recent call last)",
      "\u001b[1;32mC:\\Users\\MARTIN~1\\AppData\\Local\\Temp/ipykernel_15084/1069005592.py\u001b[0m in \u001b[0;36m<module>\u001b[1;34m\u001b[0m\n\u001b[0;32m      1\u001b[0m \u001b[0mname\u001b[0m \u001b[1;33m=\u001b[0m \u001b[1;34m'Samantha Kunth'\u001b[0m\u001b[1;33m\u001b[0m\u001b[1;33m\u001b[0m\u001b[0m\n\u001b[1;32m----> 2\u001b[1;33m \u001b[0mprint\u001b[0m\u001b[1;33m(\u001b[0m\u001b[0mname\u001b[0m\u001b[1;33m.\u001b[0m\u001b[0mindex\u001b[0m\u001b[1;33m(\u001b[0m\u001b[1;34m'z'\u001b[0m\u001b[1;33m)\u001b[0m\u001b[1;33m)\u001b[0m \u001b[1;31m# ValueError substring not found\u001b[0m\u001b[1;33m\u001b[0m\u001b[1;33m\u001b[0m\u001b[0m\n\u001b[0m",
      "\u001b[1;31mValueError\u001b[0m: substring not found"
     ]
    }
   ],
   "source": [
    "name = 'Samantha Kunth'\n",
    "print(name.index('z')) # ValueError substring not found"
   ]
  },
  {
   "cell_type": "markdown",
   "id": "1c13e129",
   "metadata": {},
   "source": [
    "<a id='format'></a>\n",
    "### .format() method\n",
    "- The format() method formats the specified value(s) and insert them inside the string's placeholder.\n",
    "\n",
    "- The placeholder is defined using curly brackets: {}. \n",
    "\n",
    "- The format() method returns the formatted string."
   ]
  },
  {
   "cell_type": "code",
   "execution_count": null,
   "id": "eacecf0c",
   "metadata": {},
   "outputs": [],
   "source": [
    "revenue = 500000\n",
    "cost = 35000\n",
    "month = 'January'\n",
    "year = 2022\n",
    "\n",
    "print('The total profit for the month of {} {} is ${}'.format(month, year, revenue - cost))"
   ]
  },
  {
   "cell_type": "markdown",
   "id": "dc4666fd",
   "metadata": {},
   "source": [
    "### The Placeholders\n",
    "- The placeholders can be identified using named indexes {price}, numbered indexes {0}, or even empty placeholders {}."
   ]
  },
  {
   "cell_type": "code",
   "execution_count": null,
   "id": "6cd3296b",
   "metadata": {},
   "outputs": [],
   "source": [
    "txt1 = \"My name is {fname}, I'm {age}\".format(fname = \"John\", age = 36)\n",
    "txt2 = \"My name is {0}, I'm {1}\".format(\"John\",36)\n",
    "txt3 = \"My name is {}, I'm {}\".format(\"John\",36)\n",
    "\n",
    "print(txt1)\n",
    "print(txt2)\n",
    "print(txt3)"
   ]
  },
  {
   "cell_type": "markdown",
   "id": "31692c4d",
   "metadata": {},
   "source": [
    "<a id='split'></a>\n",
    "### .split() method\n",
    "- A helpful string method when working with strings is the .split method. \n",
    "- This function or method returns a data container called a list that contains the words from the input string.\n",
    "- The split method has two additional arguments (sep and maxsplit). The sep argument stands for \"separator\". It can be used to identify how the string should be split up (e.g., whitespace characters like space, tab, return, newline; specific punctuation (e.g., comma, dashes)). If the sep argument is not provided, the default separator is whitespace\n",
    "- True to its name, the maxsplit argument provides the maximum number of splits. The argument gives maxsplit + 1 number of elements in the new list, with the remaining string being returned as the last element in the list"
   ]
  },
  {
   "cell_type": "code",
   "execution_count": null,
   "id": "5e9e0b56",
   "metadata": {},
   "outputs": [],
   "source": [
    "# basic split\n",
    "sentence = 'The blue dragonfly and the yellow butterfly flew together.'\n",
    "sentence.split()"
   ]
  },
  {
   "cell_type": "code",
   "execution_count": null,
   "id": "89c61700",
   "metadata": {},
   "outputs": [],
   "source": [
    "# split with separator argument as space and maxsplit argument as 3\n",
    "sentence = 'The blue dragonfly and the yellow butterfly flew together.'\n",
    "sentence.split(' ', 3)"
   ]
  },
  {
   "cell_type": "code",
   "execution_count": 157,
   "id": "99877fe2",
   "metadata": {},
   "outputs": [
    {
     "data": {
      "text/plain": [
       "['The blue dragonfly and the yellow butterfly flew together', '']"
      ]
     },
     "execution_count": 157,
     "metadata": {},
     "output_type": "execute_result"
    }
   ],
   "source": [
    "# split with '.' or period as separator\n",
    "sentence = 'The blue dragonfly and the yellow butterfly flew together.'\n",
    "sentence.split('.')"
   ]
  },
  {
   "cell_type": "code",
   "execution_count": 158,
   "id": "82cef3e3",
   "metadata": {},
   "outputs": [
    {
     "data": {
      "text/plain": [
       "['The', 'blue', 'dragonfly', 'and the yellow butterfly flew together.']"
      ]
     },
     "execution_count": 158,
     "metadata": {},
     "output_type": "execute_result"
    }
   ],
   "source": [
    "# Using no separators but having a maxsplit argument of 3.\n",
    "sentence = 'The blue dragonfly and the yellow butterfly flew together.'\n",
    "sentence.split(None, 3)"
   ]
  },
  {
   "cell_type": "markdown",
   "id": "cb6acb41",
   "metadata": {},
   "source": [
    "### String Methods Practice"
   ]
  },
  {
   "cell_type": "code",
   "execution_count": 159,
   "id": "cff5c5bf",
   "metadata": {},
   "outputs": [
    {
     "name": "stdout",
     "output_type": "stream",
     "text": [
      "If you can keep your head when all about you\n",
      "Are losing theirs and blaming it on you,\n",
      "If you can trust yourself when all men doubt you,\n",
      "But make allowance for their doubting too;\n",
      "If you can wait and not be tired by waiting,\n",
      "Or being lied about, don’t deal in lies,\n",
      "Or being hated, don’t give way to hating,\n",
      "And yet don’t look too good, nor talk too wise:\n"
     ]
    }
   ],
   "source": [
    "verse = 'If you can keep your head when all about you\\nAre losing theirs and blaming it on you,\\nIf you can trust yourself when all men doubt you,\\nBut make allowance for their doubting too;\\nIf you can wait and not be tired by waiting,\\nOr being lied about, don’t deal in lies,\\nOr being hated, don’t give way to hating,\\nAnd yet don’t look too good, nor talk too wise:'\n",
    "print(verse)"
   ]
  },
  {
   "cell_type": "code",
   "execution_count": 160,
   "id": "8008e730",
   "metadata": {},
   "outputs": [
    {
     "name": "stdout",
     "output_type": "stream",
     "text": [
      "What is the length of the string variable verse? 354\n"
     ]
    }
   ],
   "source": [
    "print('What is the length of the string variable verse?', len(verse))"
   ]
  },
  {
   "cell_type": "code",
   "execution_count": 161,
   "id": "a3ecca26",
   "metadata": {},
   "outputs": [
    {
     "name": "stdout",
     "output_type": "stream",
     "text": [
      "What is the index of the first occurrence of the word \"and\" in verse? 63\n"
     ]
    }
   ],
   "source": [
    "print('What is the index of the first occurrence of the word \"and\" in verse?', verse.find('and'))"
   ]
  },
  {
   "cell_type": "code",
   "execution_count": 162,
   "id": "ff87c9d9",
   "metadata": {},
   "outputs": [
    {
     "name": "stdout",
     "output_type": "stream",
     "text": [
      "What is the index of the last occurrence of the word \"you\" in verse? 182\n"
     ]
    }
   ],
   "source": [
    "print('What is the index of the last occurrence of the word \"you\" in verse?', verse.rfind('you'))"
   ]
  },
  {
   "cell_type": "code",
   "execution_count": 163,
   "id": "d5ffe73a",
   "metadata": {},
   "outputs": [
    {
     "name": "stdout",
     "output_type": "stream",
     "text": [
      "What is the count of occurrences of the word \"you\" in the verse? 8\n"
     ]
    }
   ],
   "source": [
    "print('What is the count of occurrences of the word \"you\" in the verse?', verse.count('you'))"
   ]
  },
  {
   "cell_type": "markdown",
   "id": "c7f24ae3",
   "metadata": {},
   "source": [
    "## END"
   ]
  }
 ],
 "metadata": {
  "kernelspec": {
   "display_name": "Python 3 (ipykernel)",
   "language": "python",
   "name": "python3"
  },
  "language_info": {
   "codemirror_mode": {
    "name": "ipython",
    "version": 3
   },
   "file_extension": ".py",
   "mimetype": "text/x-python",
   "name": "python",
   "nbconvert_exporter": "python",
   "pygments_lexer": "ipython3",
   "version": "3.9.7"
  }
 },
 "nbformat": 4,
 "nbformat_minor": 5
}
