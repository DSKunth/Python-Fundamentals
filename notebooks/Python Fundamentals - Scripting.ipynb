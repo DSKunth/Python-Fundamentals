{
 "cells": [
  {
   "cell_type": "markdown",
   "id": "aa1992ed",
   "metadata": {},
   "source": [
    "# Python Fundamentals - Scripting\n",
    "## Contents\n",
    "- [Scripting with Raw Input](#raw_input)\n",
    "    - [Scripting with Raw Input - Practice](#raw_input_practice)\n",
    "- [Errors and Exceptions](#errors)"
   ]
  },
  {
   "cell_type": "markdown",
   "id": "e682771b",
   "metadata": {},
   "source": [
    "## Scripting with Raw Input\n",
    "- We can get raw input from the user with the built-in function input, which takes in an optional string argument that you can use to specify a message to show to the user when asking for input."
   ]
  },
  {
   "cell_type": "code",
   "execution_count": 3,
   "id": "0a2f9c72",
   "metadata": {},
   "outputs": [
    {
     "name": "stdout",
     "output_type": "stream",
     "text": [
      "Please enter your name: dorothy\n",
      "Hello there, Dorothy!\n"
     ]
    }
   ],
   "source": [
    "name = input('Please enter your name: ')\n",
    "print('Hello there, {}!'.format(name.title()))"
   ]
  },
  {
   "cell_type": "markdown",
   "id": "2b137f2f",
   "metadata": {},
   "source": [
    "> This prompts the user to enter a name and then uses the input in a greeting. The input function takes in whatever the user types and stores it as a string. "
   ]
  },
  {
   "cell_type": "code",
   "execution_count": 5,
   "id": "9e905e3b",
   "metadata": {},
   "outputs": [
    {
     "name": "stdout",
     "output_type": "stream",
     "text": [
      "Please enter a number10\n",
      "hello hello hello hello hello hello hello hello hello hello \n"
     ]
    }
   ],
   "source": [
    "num = int(input('Please enter a number'))\n",
    "print('hello ' * num)"
   ]
  },
  {
   "cell_type": "markdown",
   "id": "90a436d7",
   "metadata": {},
   "source": [
    "> If you want to interpret their input as something other than a string, like an integer, you need to wrap the result with the new type to convert it from a string"
   ]
  },
  {
   "cell_type": "code",
   "execution_count": 6,
   "id": "20384de4",
   "metadata": {},
   "outputs": [
    {
     "name": "stdout",
     "output_type": "stream",
     "text": [
      "Please enter an expression: 5+4\n",
      "9\n"
     ]
    }
   ],
   "source": [
    "result = eval(input('Please enter an expression: '))\n",
    "print(result)"
   ]
  },
  {
   "cell_type": "code",
   "execution_count": 7,
   "id": "6d4b0dd2",
   "metadata": {},
   "outputs": [
    {
     "name": "stdout",
     "output_type": "stream",
     "text": [
      "Please enter an expression: 8*9\n",
      "72\n"
     ]
    }
   ],
   "source": [
    "result = eval(input('Please enter an expression: '))\n",
    "print(result)"
   ]
  },
  {
   "cell_type": "markdown",
   "id": "11507bfa",
   "metadata": {},
   "source": [
    "> We can also interpret user input as a Python expression using the built-in function eval. This function evaluates a string as a line of Python."
   ]
  },
  {
   "cell_type": "markdown",
   "id": "2df93359",
   "metadata": {},
   "source": [
    "### Scripting with Raw Input - Practice"
   ]
  },
  {
   "cell_type": "markdown",
   "id": "1d9d7d3d",
   "metadata": {},
   "source": [
    "#### Generate Messages\n",
    "Imagine you're a teacher who needs to send a message to each of your students reminding them of their missing assignments and grade in the class. You have each of their names, number of missing assignments, and grades on a spreadsheet and just have to insert them into placeholders in this message you came up with:\n",
    "\n",
    "Hi [insert student name],\n",
    "This is a reminder that you have [insert number of missing assignments] assignments left to submit before you can graduate. Your current grade is [insert current grade] and can increase to [insert potential grade] if you submit all assignments before the due date.\n",
    "\n",
    "You can just copy and paste this message to each student and manually insert the appropriate values each time, but instead you're going to write a program that does this for you.\n",
    "\n",
    "Write a script that does the following:\n",
    "\n",
    "- 1.\tAsk for user input 3 times. Once for a list of names, once for a list of missing assignment counts, and once for a list of grades. Use this input to create lists for names, assignments, and grades.\n",
    "- 2.\tUse a loop to print the message for each student with the correct values. The potential grade is simply the current grade added to two times the number of missing assignments.\n"
   ]
  },
  {
   "cell_type": "code",
   "execution_count": 12,
   "id": "8bdd5cf5",
   "metadata": {},
   "outputs": [
    {
     "name": "stdout",
     "output_type": "stream",
     "text": [
      "Please enter names separated by commas: martin kunth, dorothy kunth, samantha kunth, finja kunth, leona kunth\n",
      "Please enter assignment counts separated by commas: 3, 2, 1, 4, 5\n",
      "Please enter grades separated by commas: 85, 86, 88, 90, 87\n",
      "\n",
      "\n",
      " Hi Martin Kunth, \n",
      "\n",
      "This is a reminder that you have 3 assignments left to submit before you can graduate.Your current grade is 85 and can increase to 91 if you submit all assignments before the due date.\n",
      "\n",
      "\n",
      "\n",
      "\n",
      " Hi  Dorothy Kunth, \n",
      "\n",
      "This is a reminder that you have  2 assignments left to submit before you can graduate.Your current grade is  86 and can increase to 90 if you submit all assignments before the due date.\n",
      "\n",
      "\n",
      "\n",
      "\n",
      " Hi  Samantha Kunth, \n",
      "\n",
      "This is a reminder that you have  1 assignments left to submit before you can graduate.Your current grade is  88 and can increase to 90 if you submit all assignments before the due date.\n",
      "\n",
      "\n",
      "\n",
      "\n",
      " Hi  Finja Kunth, \n",
      "\n",
      "This is a reminder that you have  4 assignments left to submit before you can graduate.Your current grade is  90 and can increase to 98 if you submit all assignments before the due date.\n",
      "\n",
      "\n",
      "\n",
      "\n",
      " Hi  Leona Kunth, \n",
      "\n",
      "This is a reminder that you have  5 assignments left to submit before you can graduate.Your current grade is  87 and can increase to 97 if you submit all assignments before the due date.\n",
      "\n",
      "\n"
     ]
    }
   ],
   "source": [
    "names = input('Please enter names separated by commas: ').title().split(',')\n",
    "assignments = input('Please enter assignment counts separated by commas: ').split(',')\n",
    "grades = input('Please enter grades separated by commas: ').split(',')\n",
    "\n",
    "message = 'Hi {}, \\n\\nThis is a reminder that you have {} assignments left to submit before you can graduate.\\\n",
    "Your current grade is {} and can increase to {} if you submit all assignments before the due date.\\n\\n'\n",
    "\n",
    "for name, assignment, grade in zip(names, assignments, grades):\n",
    "    print('\\n\\n', message.format(name, assignment, grade, int(grade) + int(assignment) * 2))"
   ]
  },
  {
   "cell_type": "markdown",
   "id": "ffadd833",
   "metadata": {},
   "source": [
    "## Errors and Exceptions\n"
   ]
  },
  {
   "cell_type": "markdown",
   "id": "8b9d33ea",
   "metadata": {},
   "source": [
    "### Syntax Errors\n",
    "- Syntax errors occur when Python can’t interpret our code, since we didn’t follow the correct syntax for Python. These are errors you’re likely to get when you make a typo, or you’re first starting to learn Python."
   ]
  },
  {
   "cell_type": "markdown",
   "id": "b3425944",
   "metadata": {},
   "source": [
    "### Exceptions\n",
    "- Exceptions occur when unexpected things happen during execution of a program, even if the code is syntactically correct. There are different types of built-in exceptions in Python, and you can see which exception is thrown in the error message."
   ]
  },
  {
   "cell_type": "markdown",
   "id": "17aec140",
   "metadata": {},
   "source": [
    "#### ValueError\n",
    "- An object of the correct type but inappropriate value is passed as input to a built-in operation or function"
   ]
  },
  {
   "cell_type": "markdown",
   "id": "c86c0061",
   "metadata": {},
   "source": [
    "#### AssertionError\n",
    "- An assert statement fails"
   ]
  },
  {
   "cell_type": "markdown",
   "id": "1d857c2d",
   "metadata": {},
   "source": [
    "#### IndexError\n",
    "- A sequence subscript is out of range"
   ]
  },
  {
   "cell_type": "markdown",
   "id": "33a5918c",
   "metadata": {},
   "source": [
    "#### KeyError\n",
    "- A key can't be found in a dictionary\n"
   ]
  },
  {
   "cell_type": "markdown",
   "id": "a6ab486c",
   "metadata": {},
   "source": [
    "#### TypeError\n",
    "- An object of an unsupported type is passed as input to an operator or function"
   ]
  }
 ],
 "metadata": {
  "kernelspec": {
   "display_name": "Python 3 (ipykernel)",
   "language": "python",
   "name": "python3"
  },
  "language_info": {
   "codemirror_mode": {
    "name": "ipython",
    "version": 3
   },
   "file_extension": ".py",
   "mimetype": "text/x-python",
   "name": "python",
   "nbconvert_exporter": "python",
   "pygments_lexer": "ipython3",
   "version": "3.9.7"
  }
 },
 "nbformat": 4,
 "nbformat_minor": 5
}
